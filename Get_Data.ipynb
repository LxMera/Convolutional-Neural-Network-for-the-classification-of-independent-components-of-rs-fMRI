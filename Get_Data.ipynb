{
  "nbformat": 4,
  "nbformat_minor": 0,
  "metadata": {
    "colab": {
      "name": "Get_Data.ipynb",
      "provenance": [],
      "collapsed_sections": [],
      "toc_visible": true,
      "include_colab_link": true
    },
    "kernelspec": {
      "name": "python3",
      "display_name": "Python 3"
    },
    "accelerator": "GPU"
  },
  "cells": [
    {
      "cell_type": "markdown",
      "metadata": {
        "id": "view-in-github",
        "colab_type": "text"
      },
      "source": [
        "<a href=\"https://colab.research.google.com/github/LxMera/Convolutional-Neural-Network-for-the-classification-of-independent-components-of-rs-fMRI/blob/master/Get_Data.ipynb\" target=\"_parent\"><img src=\"https://colab.research.google.com/assets/colab-badge.svg\" alt=\"Open In Colab\"/></a>"
      ]
    },
    {
      "cell_type": "markdown",
      "metadata": {
        "id": "DBgg-3c7Hihb",
        "colab_type": "text"
      },
      "source": [
        "### Hand-Training Datasets\n",
        "Here are data sets of the human connectome project manually classified for FIX.\n",
        "\n",
        "https://www.fmrib.ox.ac.uk/datasets/FIX-training/"
      ]
    },
    {
      "cell_type": "markdown",
      "metadata": {
        "id": "E2D_WxQgFRTE",
        "colab_type": "text"
      },
      "source": [
        "### Connected to Drive"
      ]
    },
    {
      "cell_type": "code",
      "metadata": {
        "id": "5ZNpQR--7gvf",
        "colab_type": "code",
        "outputId": "8d73f891-35b4-4aae-9568-ece06b4f8a22",
        "colab": {
          "base_uri": "https://localhost:8080/",
          "height": 124
        }
      },
      "source": [
        "from google.colab import drive\n",
        "drive.mount('/content/drive')"
      ],
      "execution_count": 1,
      "outputs": [
        {
          "output_type": "stream",
          "text": [
            "Go to this URL in a browser: https://accounts.google.com/o/oauth2/auth?client_id=947318989803-6bn6qk8qdgf4n4g3pfee6491hc0brc4i.apps.googleusercontent.com&redirect_uri=urn%3aietf%3awg%3aoauth%3a2.0%3aoob&response_type=code&scope=email%20https%3a%2f%2fwww.googleapis.com%2fauth%2fdocs.test%20https%3a%2f%2fwww.googleapis.com%2fauth%2fdrive%20https%3a%2f%2fwww.googleapis.com%2fauth%2fdrive.photos.readonly%20https%3a%2f%2fwww.googleapis.com%2fauth%2fpeopleapi.readonly\n",
            "\n",
            "Enter your authorization code:\n",
            "··········\n",
            "Mounted at /content/drive\n"
          ],
          "name": "stdout"
        }
      ]
    },
    {
      "cell_type": "code",
      "metadata": {
        "id": "ZNmADu6MFmkM",
        "colab_type": "code",
        "outputId": "615221b9-63f1-4435-b617-3e75e23a7326",
        "colab": {
          "base_uri": "https://localhost:8080/",
          "height": 324
        }
      },
      "source": [
        "!pip install tqdm\n",
        "!pip install nilearn\n",
        "\n",
        "import os\n",
        "import cv2\n",
        "import sys\n",
        "import glob\n",
        "import random\n",
        "import warnings\n",
        "import numpy as np\n",
        "import pandas as pd\n",
        "import nibabel as nib\n",
        "import scipy.io as sio\n",
        "from nilearn import image\n",
        "from nilearn import plotting\n",
        "from tqdm import tqdm\n",
        "import tensorflow as tf\n",
        "from itertools import chain\n",
        "import matplotlib.pyplot as plt\n",
        "from skimage.transform import resize\n",
        "from skimage.morphology import label\n",
        "from tensorflow.keras.layers import Input\n",
        "from tensorflow.keras import backend as K\n",
        "from tensorflow.keras.layers import concatenate\n",
        "from sklearn.preprocessing import StandardScaler\n",
        "from tensorflow.keras.layers import MaxPooling2D\n",
        "from tensorflow.keras.layers import Dropout, Lambda\n",
        "from tensorflow.keras.models import Model, load_model\n",
        "from tensorflow.keras.layers import Conv2D, Conv2DTranspose\n",
        "from tensorflow.keras.layers import Flatten, Dense, Activation\n",
        "from tensorflow.keras.callbacks import EarlyStopping, ModelCheckpoint\n",
        "from skimage.io import imread, imshow, imread_collection, concatenate_images\n",
        "print (tf.__version__)\n",
        "%matplotlib inline"
      ],
      "execution_count": 2,
      "outputs": [
        {
          "output_type": "stream",
          "text": [
            "Requirement already satisfied: tqdm in /usr/local/lib/python3.6/dist-packages (4.28.1)\n",
            "Collecting nilearn\n",
            "\u001b[?25l  Downloading https://files.pythonhosted.org/packages/95/98/666a4b3516f4b378ba6bde1197502b222bff9b1d61a6a5444bac57dd9713/nilearn-0.6.0-py3-none-any.whl (2.5MB)\n",
            "\u001b[K     |████████████████████████████████| 2.5MB 4.5MB/s \n",
            "\u001b[?25hRequirement already satisfied: nibabel>=2.0.2 in /usr/local/lib/python3.6/dist-packages (from nilearn) (2.3.3)\n",
            "Requirement already satisfied: numpy>=1.11 in /usr/local/lib/python3.6/dist-packages (from nilearn) (1.17.4)\n",
            "Requirement already satisfied: joblib>=0.11 in /usr/local/lib/python3.6/dist-packages (from nilearn) (0.14.1)\n",
            "Requirement already satisfied: scipy>=0.19 in /usr/local/lib/python3.6/dist-packages (from nilearn) (1.3.3)\n",
            "Requirement already satisfied: sklearn in /usr/local/lib/python3.6/dist-packages (from nilearn) (0.0)\n",
            "Requirement already satisfied: scikit-learn>=0.19 in /usr/local/lib/python3.6/dist-packages (from nilearn) (0.21.3)\n",
            "Requirement already satisfied: bz2file in /usr/local/lib/python3.6/dist-packages (from nibabel>=2.0.2->nilearn) (0.98)\n",
            "Requirement already satisfied: six>=1.3 in /usr/local/lib/python3.6/dist-packages (from nibabel>=2.0.2->nilearn) (1.12.0)\n",
            "Installing collected packages: nilearn\n",
            "Successfully installed nilearn-0.6.0\n"
          ],
          "name": "stdout"
        },
        {
          "output_type": "display_data",
          "data": {
            "text/html": [
              "<p style=\"color: red;\">\n",
              "The default version of TensorFlow in Colab will soon switch to TensorFlow 2.x.<br>\n",
              "We recommend you <a href=\"https://www.tensorflow.org/guide/migrate\" target=\"_blank\">upgrade</a> now \n",
              "or ensure your notebook will continue to use TensorFlow 1.x via the <code>%tensorflow_version 1.x</code> magic:\n",
              "<a href=\"https://colab.research.google.com/notebooks/tensorflow_version.ipynb\" target=\"_blank\">more info</a>.</p>\n"
            ],
            "text/plain": [
              "<IPython.core.display.HTML object>"
            ]
          },
          "metadata": {
            "tags": []
          }
        },
        {
          "output_type": "stream",
          "text": [
            "1.15.0\n"
          ],
          "name": "stdout"
        }
      ]
    },
    {
      "cell_type": "markdown",
      "metadata": {
        "id": "2kpaHBtMHKPa",
        "colab_type": "text"
      },
      "source": [
        "### Download data\n",
        "\\begin{bmatrix}\n",
        " & TR & Points & Points &  Points & Voxel-size & Field & Subjects & Shape\\\\ \n",
        "HCP-hp2000 & 0.7 & 1200 & - & - & 2×2×2mm & 3T & 100 & 91×109×91\\\\ \n",
        "HCP7T-hp2000 & 1.0 & - & - & - & 1.6×1.6×1.6mm & 7T &  &\\\\ \n",
        "Hand-clasifi & 2.0 & 242 & - & - & 3.4×3.4×3.0 mm & - &  &\\\\ \n",
        "Standar & 3.0 & 145 & 180 & 200 & 3.5×3.5×3.5mm & - &  &\\\\ \n",
        "Whii-MB6 & 1.3 & 460 & 1000 & - & 2×2×2mm & - & 39 & 106×106×72\\\\ \n",
        "Whii-Standar & 3.0 & 200 & - & - & 3×3×3mm & - &  &\n",
        "\\end{bmatrix}"
      ]
    },
    {
      "cell_type": "code",
      "metadata": {
        "id": "QEGx4HJZHIs2",
        "colab_type": "code",
        "colab": {}
      },
      "source": [
        "gz=glob.glob('*.tar.gz')\n",
        "files=np.shape(gz)[0]\n",
        "\n",
        "if files==0:\n",
        "  #Download\n",
        "  #os.system('wget https://www.fmrib.ox.ac.uk/datasets/FIX-training/HCP_hp2000_runs1-20.tar.gz')\n",
        "  #os.system('wget https://www.fmrib.ox.ac.uk/datasets/FIX-training/HCP_hp2000_runs21-40.tar.gz')\n",
        "  #os.system('wget https://www.fmrib.ox.ac.uk/datasets/FIX-training/HCP_hp2000_runs41-60.tar.gz')\n",
        "  #os.system('wget https://www.fmrib.ox.ac.uk/datasets/FIX-training/HCP_hp2000_runs61-80.tar.gz')\n",
        "  #os.system('wget https://www.fmrib.ox.ac.uk/datasets/FIX-training/HCP_hp2000_runs81-100.tar.gz')  \n",
        "  #os.system('wget https://www.fmrib.ox.ac.uk/datasets/FIX-training/HCP_hp2000_run1.tar.gz')\n",
        "  #os.system('wget https://www.fmrib.ox.ac.uk/datasets/FIX-training/WhII_MB6.tar.gz')\n",
        "  #os.system('wget https://www.fmrib.ox.ac.uk/datasets/FIX-training/WhII_Standard.tar.gz')\n",
        "  os.system('wget https://www.fmrib.ox.ac.uk/datasets/FIX-training/Standard.tar.gz')\n",
        "else:\n",
        "  print('The files already exist')"
      ],
      "execution_count": 0,
      "outputs": []
    },
    {
      "cell_type": "markdown",
      "metadata": {
        "id": "e4NXd00MI26V",
        "colab_type": "text"
      },
      "source": [
        "### Find .tar files"
      ]
    },
    {
      "cell_type": "code",
      "metadata": {
        "id": "mM9hhRc0IxPj",
        "colab_type": "code",
        "outputId": "4fb84f54-552b-4979-a828-8e86378401e5",
        "colab": {
          "base_uri": "https://localhost:8080/",
          "height": 69
        }
      },
      "source": [
        "compri=glob.glob('*.tar.gz')\n",
        "print('tar.gz files ', np.shape(compri)[0])\n",
        "\n",
        "if os.path.exists('AllData'):\n",
        "  print('The folder already exist')\n",
        "else:\n",
        "  print('creating folder...')\n",
        "  os.system('mkdir AllData')\n",
        "  print('...folder AllData created.')"
      ],
      "execution_count": 4,
      "outputs": [
        {
          "output_type": "stream",
          "text": [
            "tar.gz files  1\n",
            "creating folder...\n",
            "...folder AllData created.\n"
          ],
          "name": "stdout"
        }
      ]
    },
    {
      "cell_type": "markdown",
      "metadata": {
        "id": "QQSGI1Q5J0bw",
        "colab_type": "text"
      },
      "source": [
        "### Unzip Data"
      ]
    },
    {
      "cell_type": "code",
      "metadata": {
        "id": "JnkvoQG7I_Yh",
        "colab_type": "code",
        "outputId": "1085e379-9afc-4bfe-a4f0-f6d53124e928",
        "colab": {
          "base_uri": "https://localhost:8080/",
          "height": 52
        }
      },
      "source": [
        "files=glob.glob('AllData/*')\n",
        "folde=np.shape(files)[0]\n",
        "\n",
        "if folde==0:\n",
        "  for i in compri:\n",
        "    print('unziping '+i+' in AllData')\n",
        "    os.system('tar -xzvf '+i+' -C AllData')\n",
        "    print('remove '+i)\n",
        "    os.system('rm -r '+i)\n",
        "else: \n",
        "  print('folders already unzipped')"
      ],
      "execution_count": 5,
      "outputs": [
        {
          "output_type": "stream",
          "text": [
            "unziping Standard.tar.gz in AllData\n",
            "remove Standard.tar.gz\n"
          ],
          "name": "stdout"
        }
      ]
    },
    {
      "cell_type": "markdown",
      "metadata": {
        "id": "tkGbl658J6k9",
        "colab_type": "text"
      },
      "source": [
        "### Groups"
      ]
    },
    {
      "cell_type": "code",
      "metadata": {
        "id": "GqCKsCHCJqzV",
        "colab_type": "code",
        "outputId": "426852fc-7d6f-4bb5-bc1c-9de672446ef6",
        "colab": {
          "base_uri": "https://localhost:8080/",
          "height": 34
        }
      },
      "source": [
        "Carpetas=np.sort(glob.glob('AllData/*'))\n",
        "print(Carpetas)"
      ],
      "execution_count": 6,
      "outputs": [
        {
          "output_type": "stream",
          "text": [
            "['AllData/Standard']\n"
          ],
          "name": "stdout"
        }
      ]
    },
    {
      "cell_type": "markdown",
      "metadata": {
        "id": "enUnAr0PKBiW",
        "colab_type": "text"
      },
      "source": [
        "### Subjects"
      ]
    },
    {
      "cell_type": "code",
      "metadata": {
        "id": "KSyipebMJstE",
        "colab_type": "code",
        "outputId": "afbf18df-5e01-47c6-fb05-20b135053821",
        "colab": {
          "base_uri": "https://localhost:8080/",
          "height": 34
        }
      },
      "source": [
        "for car in Carpetas:\n",
        "  sujetos=glob.glob(car+'/*')\n",
        "  print(np.shape(sujetos)[0],'Sujects on ', car)"
      ],
      "execution_count": 7,
      "outputs": [
        {
          "output_type": "stream",
          "text": [
            "106 Sujects on  AllData/Standard\n"
          ],
          "name": "stdout"
        }
      ]
    },
    {
      "cell_type": "markdown",
      "metadata": {
        "id": "GFWf8_X5KZOc",
        "colab_type": "text"
      },
      "source": [
        "# Get Data"
      ]
    },
    {
      "cell_type": "markdown",
      "metadata": {
        "id": "I4lqKbuzKyxi",
        "colab_type": "text"
      },
      "source": [
        "### Images with PCA"
      ]
    },
    {
      "cell_type": "code",
      "metadata": {
        "id": "oojLJ_YzQSNc",
        "colab_type": "code",
        "colab": {}
      },
      "source": [
        "from sklearn.decomposition import PCA\n",
        "brain_pca = PCA(n_components=3)\n",
        "scaler = StandardScaler()\n",
        "\n",
        "def PCA_Images(imagex,k):\n",
        "  imagex=ajuste(imagex)\n",
        "  sag, cr, ax, cp=np.shape(imagex)\n",
        "  if k>cp or k<0:\n",
        "    print('The component number',str(k),' doesnt exist')\n",
        "  #Axial\n",
        "  brainF = np.zeros((1, sag*cr))\n",
        "  ima3D=np.zeros((sag,cr,3))  \n",
        "  for sl in range(ax):    \n",
        "    slic=np.transpose(imagex[:,:,sl,k].flatten())\n",
        "    brainF = np.concatenate((brainF,[slic]), axis=0)\n",
        "  brainF=brainF[1:,:]  \n",
        "  brain_pca.fit(brainF) \n",
        "\n",
        "  ima = np.transpose(brain_pca.components_)\n",
        "  ima = np.transpose(scaler.fit_transform(ima))\n",
        "  ima=(ima+1)*255/2\n",
        "  ima[ima<0]=0\n",
        "  ima[ima>255]=255 \n",
        "  for chanel in range(3):\n",
        "    ima3D[:,:,chanel]=ima[chanel].reshape(sag,cr)\n",
        "  ima3D=np.array(ima3D, np.dtype('uint8'))\n",
        "\n",
        "  #Coronal\n",
        "  brainC = np.zeros((1, sag*ax))\n",
        "  ima3C=np.zeros((sag,ax,3))  \n",
        "  for sl in range(cr):    \n",
        "    slic=np.transpose(imagex[:,sl,:,k].flatten())\n",
        "    brainC = np.concatenate((brainC,[slic]), axis=0)\n",
        "  brainC=brainC[1:,:]  \n",
        "  brain_pca.fit(brainC) \n",
        "\n",
        "  imaC = np.transpose(brain_pca.components_)\n",
        "  imaC = np.transpose(scaler.fit_transform(imaC))\n",
        "  imaC=(imaC+1)*255/2\n",
        "  imaC[imaC<0]=0\n",
        "  imaC[imaC>255]=255 \n",
        "  for chanel in range(3):\n",
        "    ima3C[:,:,chanel]=imaC[chanel].reshape(sag,ax)\n",
        "  ima3C=np.array(ima3C, np.dtype('uint8'))\n",
        "\n",
        "  #Sagital\n",
        "  brainS = np.zeros((1, cr*ax))\n",
        "  ima3S=np.zeros((ax,cr,3))  \n",
        "  for sl in range(sag):    \n",
        "    slic=np.transpose(imagex[sl,:,:,k].flatten())\n",
        "    brainS = np.concatenate((brainS,[slic]), axis=0)\n",
        "  brainS=brainS[1:,:]  \n",
        "  brain_pca.fit(brainS) \n",
        "\n",
        "  imaS = np.transpose(brain_pca.components_)\n",
        "  imaS = np.transpose(scaler.fit_transform(imaS))\n",
        "  imaS=(imaS+1)*255/2\n",
        "  imaS[imaS<0]=0\n",
        "  imaS[imaS>255]=255 \n",
        "  for chanel in range(3):\n",
        "    ima3S[:,:,chanel]=np.flip(np.transpose(imaS[chanel].reshape(cr,ax)))\n",
        "  ima3S=np.array(ima3S, np.dtype('uint8'))\n",
        "  #print(np.shape(ima3D), np.shape(ima3C), np.shape(ima3S) )\n",
        "  imgn=cv2.hconcat([ima3D, ima3C, ima3S])\n",
        "  return imgn"
      ],
      "execution_count": 0,
      "outputs": []
    },
    {
      "cell_type": "markdown",
      "metadata": {
        "id": "zB-9R2ws6YTW",
        "colab_type": "text"
      },
      "source": [
        "### Get PCA images in 3 axis"
      ]
    },
    {
      "cell_type": "code",
      "metadata": {
        "id": "8k01lCfpXQ_6",
        "colab_type": "code",
        "colab": {}
      },
      "source": [
        "from sklearn.decomposition import PCA\n",
        "brain_pca = PCA(n_components=3)\n",
        "scaler = StandardScaler()\n",
        "\n",
        "def segmentationPCA(imagex,k):\n",
        "  sag, cr, ax, cp=np.shape(imagex)\n",
        "  if k>cp or k<0:\n",
        "    print('The component number',str(k),' doesnt exist')\n",
        "  #Axial\n",
        "  brainF = np.zeros((1, sag*cr))\n",
        "  ima3D=np.zeros((sag,cr,3))  \n",
        "  for sl in range(ax):   \n",
        "    slic=np.transpose(imagex[:,:,sl,k].flatten())\n",
        "    brainF = np.concatenate((brainF,[slic]), axis=0)\n",
        "  brainF=brainF[1:,:]  \n",
        "  brain_pca.fit(brainF) \n",
        "\n",
        "  ima = np.transpose(brain_pca.components_)\n",
        "  ima = np.transpose(scaler.fit_transform(ima))\n",
        "  ima=(ima+1)*255/2\n",
        "  ima[ima<0]=0\n",
        "  ima[ima>255]=255 \n",
        "  for chanel in range(3):\n",
        "    ima3D[:,:,chanel]=ima[chanel].reshape(sag,cr)\n",
        "  ima3D=np.array(ima3D, np.dtype('uint8'))\n",
        "\n",
        "  #Coronal\n",
        "  brainC = np.zeros((1, sag*ax))\n",
        "  ima3C=np.zeros((sag,ax,3))  \n",
        "  for sl in range(cr):    \n",
        "    slic=np.transpose(imagex[:,sl,:,k].flatten())\n",
        "    brainC = np.concatenate((brainC,[slic]), axis=0)\n",
        "  brainC=brainC[1:,:]  \n",
        "  brain_pca.fit(brainC) \n",
        "\n",
        "  imaC = np.transpose(brain_pca.components_)\n",
        "  imaC = np.transpose(scaler.fit_transform(imaC))\n",
        "  imaC=(imaC+1)*255/2\n",
        "  imaC[imaC<0]=0\n",
        "  imaC[imaC>255]=255 \n",
        "  for chanel in range(3):\n",
        "    ima3C[:,:,chanel]=imaC[chanel].reshape(sag,ax)\n",
        "  ima3C=np.array(ima3C, np.dtype('uint8'))\n",
        "\n",
        "  #Saggital\n",
        "  brainS = np.zeros((1, cr*ax))\n",
        "  ima3S=np.zeros((cr,ax,3))  \n",
        "  for sl in range(sag):    \n",
        "    slic=np.transpose(imagex[sl,:,:,k].flatten())\n",
        "    brainS = np.concatenate((brainS,[slic]), axis=0)\n",
        "  brainS=brainS[1:,:]  \n",
        "  brain_pca.fit(brainS) \n",
        "\n",
        "  imaS = np.transpose(brain_pca.components_)\n",
        "  imaS = np.transpose(scaler.fit_transform(imaS))\n",
        "  imaS=(imaS+1)*255/2\n",
        "  imaS[imaS<0]=0\n",
        "  imaS[imaS>255]=255 \n",
        "  for chanel in range(3):\n",
        "    ima3S[:,:,chanel]=imaS[chanel].reshape(cr,ax)\n",
        "  ima3S=np.array(ima3S, np.dtype('uint8'))\n",
        "  \n",
        "  return ima3D, ima3C, ima3S"
      ],
      "execution_count": 0,
      "outputs": []
    },
    {
      "cell_type": "markdown",
      "metadata": {
        "id": "S9_m2Q4wKu6N",
        "colab_type": "text"
      },
      "source": [
        "### Images with 3D threshold"
      ]
    },
    {
      "cell_type": "code",
      "metadata": {
        "id": "DDdmUN-2M-ae",
        "colab_type": "code",
        "colab": {}
      },
      "source": [
        "kernel=np.ones((4,4))\n",
        "umb=2\n",
        "def threshold_3D(masx, umb, k):\n",
        "  masx=ajuste(masx)\n",
        "  sag, cr, ax, cp=np.shape(masx)\n",
        "\n",
        "  #Axial\n",
        "  ima3D=np.zeros((sag,cr,3))\n",
        "  for z in range(8):\n",
        "    val=2**z\n",
        "    bina0=np.array((masx[:,:,int(11+z*3),k]>umb)*val, np.dtype('uint8'))\n",
        "    bina0 = cv2.morphologyEx(bina0, cv2.MORPH_CLOSE, kernel)\n",
        "    ima3D[:,:,0]=ima3D[:,:,0]+bina0\n",
        "\n",
        "    bina1=np.array((masx[:,:,int(35+z*3),k]>umb)*val, np.dtype('uint8'))\n",
        "    bina1 = cv2.morphologyEx(bina1, cv2.MORPH_CLOSE, kernel)\n",
        "    ima3D[:,:,1]=ima3D[:,:,1]+bina1\n",
        "\n",
        "    bina2=np.array((masx[:,:,int(59+z*3),k]>umb)*val, np.dtype('uint8'))\n",
        "    bina2 = cv2.morphologyEx(bina2, cv2.MORPH_CLOSE, kernel)\n",
        "    ima3D[:,:,2]=ima3D[:,:,2]+bina2\n",
        "\n",
        "  #Coronal\n",
        "  ima3C=np.zeros((sag,ax,3))\n",
        "  for z in range(8):\n",
        "    val=2**z\n",
        "    bina0=np.array((masx[:,int(20+z*3),:,k]>umb)*val, np.dtype('uint8'))\n",
        "    bina0 = cv2.morphologyEx(bina0, cv2.MORPH_CLOSE, kernel)\n",
        "    ima3C[:,:,0]=ima3C[:,:,0]+bina0\n",
        "\n",
        "    bina1=np.array((masx[:,int(44+z*3),:,k]>umb)*val, np.dtype('uint8'))\n",
        "    bina1 = cv2.morphologyEx(bina1, cv2.MORPH_CLOSE, kernel)\n",
        "    ima3C[:,:,1]=ima3C[:,:,1]+bina1\n",
        "\n",
        "    bina2=np.array((masx[:,int(68+z*3),:,k]>umb)*val, np.dtype('uint8'))\n",
        "    bina2 = cv2.morphologyEx(bina2, cv2.MORPH_CLOSE, kernel)\n",
        "    ima3C[:,:,2]=ima3C[:,:,2]+bina2\n",
        "  \n",
        "  #sagittal\n",
        "  ima3S=np.zeros((ax,cr,3))\n",
        "  for z in range(8):\n",
        "    val=2**z\n",
        "    bina0=np.array((masx[int(11+z*3),:,:,k]>umb)*val, np.dtype('uint8'))\n",
        "    bina0 = np.transpose(cv2.morphologyEx(bina0, cv2.MORPH_CLOSE, kernel))\n",
        "    ima3S[:,:,0]=ima3S[:,:,0]+bina0\n",
        "\n",
        "    bina1=np.array((masx[int(35+z*3),:,:,k]>umb)*val, np.dtype('uint8'))\n",
        "    bina1 = np.transpose(cv2.morphologyEx(bina1, cv2.MORPH_CLOSE, kernel))\n",
        "    ima3S[:,:,1]=ima3S[:,:,1]+bina1\n",
        "\n",
        "    bina2=np.array((masx[int(59+z*3),:,:,k]>umb)*val, np.dtype('uint8'))\n",
        "    bina2 = np.transpose(cv2.morphologyEx(bina2, cv2.MORPH_CLOSE, kernel))\n",
        "    ima3S[:,:,2]=ima3S[:,:,2]+bina2\n",
        "  imgn=cv2.hconcat([ima3D, ima3C, np.flip(ima3S)])\n",
        "  imx=np.array(imgn, np.dtype('uint8'))  \n",
        "  return imx"
      ],
      "execution_count": 0,
      "outputs": []
    },
    {
      "cell_type": "code",
      "metadata": {
        "id": "mbAlb3Z1Ixpw",
        "colab_type": "code",
        "colab": {}
      },
      "source": [
        "def ROI(pro):\n",
        "  ima1=cv2.cvtColor(pro, cv2.COLOR_RGB2GRAY)\n",
        "  color=ima1[0,0]\n",
        "  ima1=np.array((ima1!=color), np.dtype('uint8'))\n",
        "  contours,_ = cv2.findContours(ima1,cv2.RETR_EXTERNAL,cv2.CHAIN_APPROX_NONE)\n",
        "  ind=0\n",
        "  if np.shape(contours)[0]!=1:\n",
        "    mx=[]\n",
        "    for xi in range(np.shape(contours)[0]):\n",
        "      area=cv2.contourArea(contours[xi])\n",
        "      mx.append(area)\n",
        "    ind=np.argmax(mx)\n",
        "  x,y,w,h = cv2.boundingRect(contours[ind])\n",
        "  return x,y,w,h"
      ],
      "execution_count": 0,
      "outputs": []
    },
    {
      "cell_type": "code",
      "metadata": {
        "id": "rcbXRX0iMGdr",
        "colab_type": "code",
        "colab": {}
      },
      "source": [
        "def savePCA(ima1, ima2, ima3, nam, cond=True):\n",
        "  Ax=ROI(ima1)\n",
        "  Cr=ROI(ima2)\n",
        "  Sg=ROI(ima3)\n",
        "\n",
        "  ima1=ima1[Ax[1]:Ax[1]+Ax[3],Ax[0]:Ax[0]+Ax[2],:]\n",
        "  ima2=ima2[Cr[1]:Cr[1]+Cr[3],Cr[0]:Cr[0]+Cr[2],:]\n",
        "  ima3=ima3[Sg[1]:Sg[1]+Sg[3],Sg[0]:Sg[0]+Sg[2],:]\n",
        "\n",
        "  if cond:\n",
        "    sio.savemat(nam+'.mat', {'Axial': ima1, 'Coronal': ima2, 'Saggital': ima3})\n",
        "  return Ax, Cr, Sg"
      ],
      "execution_count": 0,
      "outputs": []
    },
    {
      "cell_type": "code",
      "metadata": {
        "id": "BRQsIBhrTFif",
        "colab_type": "code",
        "colab": {}
      },
      "source": [
        "#Devuelve la imagen con contorno\n",
        "def ROI2(pro):\n",
        "  ima1=cv2.cvtColor(pro, cv2.COLOR_RGB2GRAY)\n",
        "  color=ima1[0,0]\n",
        "  ima1=np.array((ima1!=color), np.dtype('uint8'))\n",
        "  contours,_ = cv2.findContours(ima1,cv2.RETR_EXTERNAL,cv2.CHAIN_APPROX_NONE)\n",
        "\n",
        "  print(np.shape(contours)[0])\n",
        "  if np.shape(contours)[0]!=1:\n",
        "    mx=[]\n",
        "    for xi in range(np.shape(contours)[0]):\n",
        "      area=cv2.contourArea(contours[xi])\n",
        "      print(area)\n",
        "      mx.append(area)\n",
        "    print(np.argmax(mx))\n",
        "    contours=contours[np.argmax(mx)]\n",
        "  pro=cv2.drawContours(pro, contours, -1, (0,255,0), 1)\n",
        "  return pro"
      ],
      "execution_count": 0,
      "outputs": []
    },
    {
      "cell_type": "code",
      "metadata": {
        "id": "XphFT2EaS1Lz",
        "colab_type": "code",
        "colab": {}
      },
      "source": [
        "def ShowPCA(ima1, ima2, ima3):\n",
        "  Ax=ROI2(ima1)\n",
        "  Cr=ROI2(ima2)\n",
        "  Sg=ROI2(ima3)\n",
        "\n",
        "  showImages(Ax, Cr, Sg)"
      ],
      "execution_count": 0,
      "outputs": []
    },
    {
      "cell_type": "code",
      "metadata": {
        "id": "4P0ozSzmexls",
        "colab_type": "code",
        "colab": {}
      },
      "source": [
        "def get_Axis(minx):\n",
        "  Paxi=minx[0]\n",
        "  Pcor=minx[1]\n",
        "  Psag=minx[2]\n",
        "  sg=Ds=cr=Dc=ax=Dx=0\n",
        "\n",
        "  if Paxi[1]==Pcor[1] and Paxi[3]==Pcor[3]:\n",
        "    sg=Paxi[1]\n",
        "    Ds=Paxi[3]\n",
        "  else:\n",
        "    sg=np.min((Paxi[1],Pcor[1]))\n",
        "    Ds=np.max((Paxi[3],Pcor[3]))\n",
        "\n",
        "  if Paxi[0]==Psag[1] and Paxi[2]==Psag[3]:\n",
        "    cr=Paxi[0]\n",
        "    Dc=Paxi[2]\n",
        "  else:\n",
        "    cr=np.min((Paxi[0],Psag[1]))\n",
        "    Dc=np.max((Paxi[2],Psag[3]))\n",
        "\n",
        "  if Psag[0]==Pcor[0] and Psag[2]==Pcor[2]:\n",
        "    ax=Pcor[0]\n",
        "    Dx=Pcor[2]\n",
        "  else:\n",
        "    ax=np.min((Psag[0],Pcor[0]))\n",
        "    Dx=np.max((Psag[2],Pcor[2]))\n",
        "  return sg, Ds, cr, Dc, ax, Dx"
      ],
      "execution_count": 0,
      "outputs": []
    },
    {
      "cell_type": "code",
      "metadata": {
        "id": "m6MfvCfMayDH",
        "colab_type": "code",
        "colab": {}
      },
      "source": [
        "def minimumVol(vol, roi):\n",
        "  #Sagital, coronal, axial  \n",
        "  vol=vol[roi[0]:roi[0]+roi[1],roi[2]:roi[2]+roi[3], roi[4]:roi[4]+roi[5],:]\n",
        "  return vol"
      ],
      "execution_count": 0,
      "outputs": []
    },
    {
      "cell_type": "code",
      "metadata": {
        "id": "6mnWNqlAOtOo",
        "colab_type": "code",
        "colab": {}
      },
      "source": [
        "def showImages(i1, i2, i3):\n",
        "  plt.figure(figsize=(25,5))\n",
        "  plt.subplot(1,3,1)\n",
        "  plt.imshow(i1)\n",
        "  plt.axis('off')\n",
        "  plt.subplot(1,3,2)\n",
        "  plt.imshow(i2)\n",
        "  plt.axis('off')\n",
        "  plt.subplot(1,3,3)\n",
        "  plt.imshow(i3)\n",
        "  plt.axis('off')\n",
        "  plt.show()"
      ],
      "execution_count": 0,
      "outputs": []
    },
    {
      "cell_type": "code",
      "metadata": {
        "id": "8TfbJOIjR-JY",
        "colab_type": "code",
        "colab": {}
      },
      "source": [
        "def ajuste(imagex):\n",
        "  sx, cx, axx, cpx=np.shape(imagex)\n",
        "  if sx!=axx:\n",
        "    if sx<axx:\n",
        "      dif=axx-sx\n",
        "      pix=int(dif/2)\n",
        "      if dif%2==0:        \n",
        "        imagex=imagex[:,:,pix:-pix,:]\n",
        "      else:\n",
        "        imagex=imagex[:,:,1+pix:-pix,:]\n",
        "    else:\n",
        "      dif=sx-axx\n",
        "      pix=int(dif/2)\n",
        "      if dif%2==0:        \n",
        "        imagex=imagex[pix:-pix,:,:,:]\n",
        "      else:\n",
        "        imagex=imagex[1+pix:-pix,:,:,:]\n",
        "  return imagex"
      ],
      "execution_count": 0,
      "outputs": []
    },
    {
      "cell_type": "code",
      "metadata": {
        "id": "d9Ww9QVO_IQM",
        "colab_type": "code",
        "colab": {}
      },
      "source": [
        "def ContourVector(pro):\n",
        "  ima1=cv2.cvtColor(pro, cv2.COLOR_RGB2GRAY)\n",
        "  color=ima1[0,0]\n",
        "  ima1=np.array((ima1!=color), np.dtype('uint8'))\n",
        "  contours,_ = cv2.findContours(ima1,cv2.RETR_EXTERNAL,cv2.CHAIN_APPROX_NONE)\n",
        "  ind=0\n",
        "  if np.shape(contours)[0]!=1:\n",
        "    mx=[]\n",
        "    for xi in range(np.shape(contours)[0]):\n",
        "      area=cv2.contourArea(contours[xi])\n",
        "      mx.append(area)\n",
        "    ind=np.argmax(mx)\n",
        "  cont=contours[ind]\n",
        "  return cont"
      ],
      "execution_count": 0,
      "outputs": []
    },
    {
      "cell_type": "code",
      "metadata": {
        "id": "mqyWYXcS-pWH",
        "colab_type": "code",
        "colab": {}
      },
      "source": [
        "def getContours(im1, im2, im3):\n",
        "  con1=ContourVector(im1)\n",
        "  con2=ContourVector(im2)\n",
        "  con3=ContourVector(im3)\n",
        "  \n",
        "  return con1, con2, con3"
      ],
      "execution_count": 0,
      "outputs": []
    },
    {
      "cell_type": "code",
      "metadata": {
        "id": "LirFrg39AbNM",
        "colab_type": "code",
        "colab": {}
      },
      "source": [
        "def ContourIma(con, ima):\n",
        "  pro=ima.copy()\n",
        "  pro=cv2.drawContours(pro, [con], 0, (0,0,255), 1)\n",
        "  return pro"
      ],
      "execution_count": 0,
      "outputs": []
    },
    {
      "cell_type": "code",
      "metadata": {
        "id": "BwQRXgJ6o-Nu",
        "colab_type": "code",
        "colab": {}
      },
      "source": [
        "def rectangles(con1, con2, con3):\n",
        "  Ax= cv2.boundingRect(con1)\n",
        "  Cr= cv2.boundingRect(con2)\n",
        "  Sg= cv2.boundingRect(con3)\n",
        "  return Ax, Cr, Sg"
      ],
      "execution_count": 0,
      "outputs": []
    },
    {
      "cell_type": "code",
      "metadata": {
        "id": "laggcKq-yDGR",
        "colab_type": "code",
        "colab": {}
      },
      "source": [
        "#Saggital, coronal, axial\n",
        "roundV=np.vectorize(round)\n",
        "vecInt=np.vectorize(int)\n",
        "def positions(rx):\n",
        "  vS=vecInt(roundV(np.arange(rx[1]/48,rx[1],rx[1]/24.)))\n",
        "  vC=vecInt(roundV(np.arange(rx[3]/48,rx[3],rx[3]/24.)))\n",
        "  vA=vecInt(roundV(np.arange(rx[5]/48,rx[5],rx[5]/24.)))\n",
        "  return vS, vC, vA"
      ],
      "execution_count": 0,
      "outputs": []
    },
    {
      "cell_type": "code",
      "metadata": {
        "id": "xiSJq0sntXpu",
        "colab_type": "code",
        "colab": {}
      },
      "source": [
        "kernel=np.ones((4,4))\n",
        "umb=2\n",
        "def CompressVolumen(im,cmp,roi3):\n",
        "  sag, cr, ax, cp=np.shape(im)\n",
        "\n",
        "  vecs, vecc, veca=positions(roi3)\n",
        "  veca=veca+roi3[4]\n",
        "  vecc=vecc+roi3[2]\n",
        "  vecs=vecs+roi3[0]\n",
        "  #Axial\n",
        "  ima3D=np.zeros((sag,cr,3), np.dtype('uint8'))\n",
        "  for z in range(8):\n",
        "    val=2**z\n",
        "    bina0=np.array((im[:,:,veca[z],cmp]>umb)*val, np.dtype('uint8'))\n",
        "    bina0 = cv2.morphologyEx(bina0, cv2.MORPH_CLOSE, kernel)\n",
        "    ima3D[:,:,0]=ima3D[:,:,0]+bina0\n",
        "\n",
        "    bina1=np.array((im[:,:,veca[8+z],cmp]>umb)*val, np.dtype('uint8'))\n",
        "    bina1 = cv2.morphologyEx(bina1, cv2.MORPH_CLOSE, kernel)\n",
        "    ima3D[:,:,1]=ima3D[:,:,1]+bina1\n",
        "\n",
        "    bina2=np.array((im[:,:,veca[16+z],cmp]>umb)*val, np.dtype('uint8'))\n",
        "    bina2 = cv2.morphologyEx(bina2, cv2.MORPH_CLOSE, kernel)\n",
        "    ima3D[:,:,2]=ima3D[:,:,2]+bina2\n",
        "\n",
        "  #Coronal\n",
        "  ima3C=np.zeros((sag,ax,3), np.dtype('uint8'))\n",
        "  for z in range(8):\n",
        "    val=2**z\n",
        "    bina0=np.array((im[:,vecc[z],:,cmp]>umb)*val, np.dtype('uint8'))\n",
        "    bina0 = cv2.morphologyEx(bina0, cv2.MORPH_CLOSE, kernel)\n",
        "    ima3C[:,:,0]=ima3C[:,:,0]+bina0\n",
        "\n",
        "    bina1=np.array((im[:,vecc[8+z],:,cmp]>umb)*val, np.dtype('uint8'))\n",
        "    bina1 = cv2.morphologyEx(bina1, cv2.MORPH_CLOSE, kernel)\n",
        "    ima3C[:,:,1]=ima3C[:,:,1]+bina1\n",
        "\n",
        "    bina2=np.array((im[:,vecc[16+z],:,cmp]>umb)*val, np.dtype('uint8'))\n",
        "    bina2 = cv2.morphologyEx(bina2, cv2.MORPH_CLOSE, kernel)\n",
        "    ima3C[:,:,2]=ima3C[:,:,2]+bina2\n",
        "  \n",
        "  #sagittal\n",
        "  ima3S=np.zeros((cr, ax,3), np.dtype('uint8'))\n",
        "  for z in range(8):\n",
        "    val=2**z\n",
        "    bina0=np.array((im[vecs[z],:,:,cmp]>umb)*val, np.dtype('uint8'))\n",
        "    bina0 = cv2.morphologyEx(bina0, cv2.MORPH_CLOSE, kernel)\n",
        "    ima3S[:,:,0]=ima3S[:,:,0]+bina0\n",
        "\n",
        "    bina1=np.array((im[vecs[8+z],:,:,cmp]>umb)*val, np.dtype('uint8'))\n",
        "    bina1 = cv2.morphologyEx(bina1, cv2.MORPH_CLOSE, kernel)\n",
        "    ima3S[:,:,1]=ima3S[:,:,1]+bina1\n",
        "\n",
        "    bina2=np.array((im[vecs[16+z],:,:,cmp]>umb)*val, np.dtype('uint8'))\n",
        "    bina2 = cv2.morphologyEx(bina2, cv2.MORPH_CLOSE, kernel)\n",
        "    ima3S[:,:,2]=ima3S[:,:,2]+bina2\n",
        "   \n",
        "  return ima3D, ima3C, ima3S"
      ],
      "execution_count": 0,
      "outputs": []
    },
    {
      "cell_type": "code",
      "metadata": {
        "id": "eSIGJcG6b1ZD",
        "colab_type": "code",
        "colab": {}
      },
      "source": [
        "def filterBlur(im1, im2, im3):\n",
        "  i1=cv2.medianBlur(im1, 7)\n",
        "  i2=cv2.medianBlur(im2, 7)\n",
        "  i3=cv2.medianBlur(im3, 7)\n",
        "  return i1, i2, i3"
      ],
      "execution_count": 0,
      "outputs": []
    },
    {
      "cell_type": "code",
      "metadata": {
        "id": "vL7Sv_nshmue",
        "colab_type": "code",
        "colab": {}
      },
      "source": [
        "def axisImages(im,cpx):\n",
        "  sag, cr, ax, cp=np.shape(im)\n",
        "  sx=int(sag/2)\n",
        "  cx=int(cr/2)\n",
        "  xa=int(ax/2)\n",
        "\n",
        "  mx=15\n",
        "  mi=-2\n",
        "\n",
        "  im[im>mx]=mx\n",
        "  im[im<mi]=mi\n",
        "\n",
        "  im3=np.array((im[sx,:,:,cpx]-mi)*255/(mx-mi), np.dtype('uint8'))\n",
        "  im2=np.array((im[:,cx,:,cpx]-mi)*255/(mx-mi), np.dtype('uint8'))\n",
        "  im1=np.array((im[:,:,xa,cpx]-mi)*255/(mx-mi), np.dtype('uint8'))\n",
        "\n",
        "  im1=cv2.cvtColor(im1, cv2.COLOR_GRAY2RGB)\n",
        "  im2=cv2.cvtColor(im2, cv2.COLOR_GRAY2RGB)\n",
        "  im3=cv2.cvtColor(im3, cv2.COLOR_GRAY2RGB)\n",
        "\n",
        "  return im1, im2, im3"
      ],
      "execution_count": 0,
      "outputs": []
    },
    {
      "cell_type": "code",
      "metadata": {
        "id": "TSOKpwjVqhaD",
        "colab_type": "code",
        "colab": {}
      },
      "source": [
        "def ContourImages(im1, im2, im3, cn1, cn2, cn3):\n",
        "  i1=ContourIma(cn1, im1)\n",
        "  i2=ContourIma(cn2, im2)\n",
        "  i3=ContourIma(cn3, im3)\n",
        "  return i1, i2, i3"
      ],
      "execution_count": 0,
      "outputs": []
    },
    {
      "cell_type": "code",
      "metadata": {
        "id": "Gb4NR0ZR36if",
        "colab_type": "code",
        "colab": {}
      },
      "source": [
        "def CutImages(im1, im2, im3, minx):\n",
        "  Paxi=minx[0]\n",
        "  Pcor=minx[1]\n",
        "  Psag=minx[2]\n",
        "  \n",
        "  i1=im1[Paxi[1]:Paxi[1]+Paxi[3],Paxi[0]:Paxi[0]+Paxi[2],:]\n",
        "  i2=im2[Pcor[1]:Pcor[1]+Pcor[3],Pcor[0]:Pcor[0]+Pcor[2],:]\n",
        "  i3=im3[Psag[1]:Psag[1]+Psag[3],Psag[0]:Psag[0]+Psag[2],:]\n",
        "\n",
        "  return i1, i2, i3"
      ],
      "execution_count": 0,
      "outputs": []
    },
    {
      "cell_type": "code",
      "metadata": {
        "id": "Kl04LKcivtgi",
        "colab_type": "code",
        "colab": {}
      },
      "source": [
        "def mainImages(prin, ncmp, fold, nome, sh=False, sav=False):\n",
        "  imaA, imaC, imaS=segmentationPCA(prin,ncmp)\n",
        "\n",
        "  conA, conC, conS=getContours(imaA, imaC, imaS)\n",
        "  mini=rectangles(conA, conC, conS)\n",
        "  roi=get_Axis(mini)\n",
        "\n",
        "  CmaA, CmaC, CmaS=CompressVolumen(prin,ncmp,roi)\n",
        "  fmaA, fmaC, fmaS=filterBlur(CmaA, CmaC, CmaS)\n",
        "  AmaA, AmaC, AmaS=axisImages(prin,ncmp)\n",
        "\n",
        "  res=ContourImages(imaA, imaC, imaS, conA, conC, conS)\n",
        "  res1=ContourImages(CmaA, CmaC, CmaS, conA, conC, conS)\n",
        "  res2=ContourImages(fmaA, fmaC, fmaS, conA, conC, conS)\n",
        "  res3=ContourImages(AmaA, AmaC, AmaS, conA, conC, conS)\n",
        "\n",
        "  xes=CutImages(imaA, imaC, imaS, mini)\n",
        "  xes1=CutImages(CmaA, CmaC, CmaS, mini)\n",
        "  xes2=CutImages(fmaA, fmaC, fmaS, mini)\n",
        "  xes3=CutImages(AmaA, AmaC, AmaS, mini)\n",
        "\n",
        "  res=CutImages(res[0], res[1], res[2], mini)\n",
        "  res1=CutImages(res1[0], res1[1], res1[2], mini)\n",
        "  res2=CutImages(res2[0], res2[1], res2[2], mini)\n",
        "  res3=CutImages(res3[0], res3[1], res3[2], mini)\n",
        "\n",
        "  if sav:\n",
        "    sio.savemat(fold+'/PCA/'+nome+'.mat', {'saggital': xes[2], 'coronal': xes[1], 'axial': xes[0]})\n",
        "    sio.savemat(fold+'/COM/'+nome+'.mat', {'saggital': xes1[2], 'coronal': xes1[1], 'axial': xes1[0]})\n",
        "    sio.savemat(fold+'/BLU/'+nome+'.mat', {'saggital': xes2[2], 'coronal': xes2[1], 'axial': xes2[0]})\n",
        "    sio.savemat(fold+'/AXI/'+nome+'.mat', {'saggital': xes3[2], 'coronal': xes3[1], 'axial': xes3[0]})\n",
        "\n",
        "    sio.savemat(fold+'/C_PCA/'+nome+'.mat', {'saggital': res[2], 'coronal': res[1], 'axial': res[0]})\n",
        "    sio.savemat(fold+'/C_COM/'+nome+'.mat', {'saggital': res1[2], 'coronal': res1[1], 'axial': res1[0]})\n",
        "    sio.savemat(fold+'/C_BLU/'+nome+'.mat', {'saggital': res2[2], 'coronal': res2[1], 'axial': res2[0]})\n",
        "    sio.savemat(fold+'/C_AXI/'+nome+'.mat', {'saggital': res3[2], 'coronal': res3[1], 'axial': res3[0]})\n",
        "  \n",
        "  if sh:\n",
        "    plt.figure(figsize=(20,5)); plt.subplot(1,3,1); plt.imshow(res[0]); plt.subplot(1,3,2); plt.imshow(res[1]); plt.subplot(1,3,3); plt.imshow(res[2]); \n",
        "    plt.figure(figsize=(20,5)); plt.subplot(1,3,1); plt.imshow(res1[0]); plt.subplot(1,3,2); plt.imshow(res1[1]); plt.subplot(1,3,3); plt.imshow(res1[2]); \n",
        "    plt.figure(figsize=(20,5)); plt.subplot(1,3,1); plt.imshow(res2[0]); plt.subplot(1,3,2); plt.imshow(res2[1]); plt.subplot(1,3,3); plt.imshow(res2[2]); \n",
        "    plt.figure(figsize=(20,5)); plt.subplot(1,3,1); plt.imshow(res3[0]); plt.subplot(1,3,2); plt.imshow(res3[1]); plt.subplot(1,3,3); plt.imshow(res3[2]); \n",
        "\n",
        "    plt.figure(figsize=(20,5)); plt.subplot(1,3,1); plt.imshow(xes[0]); plt.subplot(1,3,2); plt.imshow(xes[1]); plt.subplot(1,3,3); plt.imshow(xes[2]); \n",
        "    plt.figure(figsize=(20,5)); plt.subplot(1,3,1); plt.imshow(xes1[0]); plt.subplot(1,3,2); plt.imshow(xes1[1]); plt.subplot(1,3,3); plt.imshow(xes1[2]); \n",
        "    plt.figure(figsize=(20,5)); plt.subplot(1,3,1); plt.imshow(xes2[0]); plt.subplot(1,3,2); plt.imshow(xes2[1]); plt.subplot(1,3,3); plt.imshow(xes2[2]); \n",
        "    plt.figure(figsize=(20,5)); plt.subplot(1,3,1); plt.imshow(xes3[0]); plt.subplot(1,3,2); plt.imshow(xes3[1]); plt.subplot(1,3,3); plt.imshow(xes3[2]); "
      ],
      "execution_count": 0,
      "outputs": []
    },
    {
      "cell_type": "markdown",
      "metadata": {
        "id": "xRuW48gDMtlV",
        "colab_type": "text"
      },
      "source": [
        "### test"
      ]
    },
    {
      "cell_type": "code",
      "metadata": {
        "id": "rimMTks5M4a8",
        "colab_type": "code",
        "outputId": "ae6264a7-71ea-4f8a-a9d7-e4abf8fa9120",
        "colab": {
          "base_uri": "https://localhost:8080/",
          "height": 1000
        }
      },
      "source": [
        "test=glob.glob('AllData/*/1.ica')[0]\n",
        "\n",
        "img=image.image.load_img(test+'/filtered_func_data.ica/melodic_IC.nii.gz')      #Read data\n",
        "series=np.loadtxt(test+\"/filtered_func_data.ica/melodic_mix\")                   #Read time serie\n",
        "imasx=img.get_data()                                                            #Get volumen\n",
        "\n",
        "print('saggital, coronal, axial and components', np.shape(imasx))\n",
        "print('Time points ', np.shape(series)[0])\n",
        "\n",
        "cp1=23\n",
        "mainImages(imasx, cp1, 'HCP_hp2000', 'sub-1-comp-23', True, False)"
      ],
      "execution_count": 33,
      "outputs": [
        {
          "output_type": "stream",
          "text": [
            "saggital, coronal, axial and components (64, 64, 34, 51)\n",
            "Time points  180\n"
          ],
          "name": "stdout"
        },
        {
          "output_type": "display_data",
          "data": {
            "image/png": "[encoded data removed]",
            "text/plain": [
              "<Figure size 1440x360 with 3 Axes>"
            ]
          },
          "metadata": {
            "tags": []
          }
        },
        {
          "output_type": "display_data",
          "data": {
            "image/png": "[encoded data removed]",
            "text/plain": [
              "<Figure size 1440x360 with 3 Axes>"
            ]
          },
          "metadata": {
            "tags": []
          }
        },
        {
          "output_type": "display_data",
          "data": {
            "image/png": "[encoded data removed]",
            "text/plain": [
              "<Figure size 1440x360 with 3 Axes>"
            ]
          },
          "metadata": {
            "tags": []
          }
        },
        {
          "output_type": "display_data",
          "data": {
            "image/png": "[encoded data removed]",
            "text/plain": [
              "<Figure size 1440x360 with 3 Axes>"
            ]
          },
          "metadata": {
            "tags": []
          }
        },
        {
          "output_type": "display_data",
          "data": {
            "image/png": "[encoded data removed]",
            "text/plain": [
              "<Figure size 1440x360 with 3 Axes>"
            ]
          },
          "metadata": {
            "tags": []
          }
        },
        {
          "output_type": "display_data",
          "data": {
            "image/png": "[encoded data removed]",
            "text/plain": [
              "<Figure size 1440x360 with 3 Axes>"
            ]
          },
          "metadata": {
            "tags": []
          }
        },
        {
          "output_type": "display_data",
          "data": {
            "image/png": "[encoded data removed]",
            "text/plain": [
              "<Figure size 1440x360 with 3 Axes>"
            ]
          },
          "metadata": {
            "tags": []
          }
        },
        {
          "output_type": "display_data",
          "data": {
            "image/png": "[encoded data removed]",
            "text/plain": [
              "<Figure size 1440x360 with 3 Axes>"
            ]
          },
          "metadata": {
            "tags": []
          }
        }
      ]
    },
    {
      "cell_type": "code",
      "metadata": {
        "id": "XOdNIXf4L6bt",
        "colab_type": "code",
        "outputId": "fed952c7-cd66-466c-fba3-1d93bb86abb7",
        "colab": {
          "base_uri": "https://localhost:8080/",
          "height": 34
        }
      },
      "source": [
        "np.shape(imasx)"
      ],
      "execution_count": 31,
      "outputs": [
        {
          "output_type": "execute_result",
          "data": {
            "text/plain": [
              "(64, 64, 34, 51)"
            ]
          },
          "metadata": {
            "tags": []
          },
          "execution_count": 31
        }
      ]
    },
    {
      "cell_type": "markdown",
      "metadata": {
        "id": "HeqsvTPwF9cw",
        "colab_type": "text"
      },
      "source": [
        "# Main"
      ]
    },
    {
      "cell_type": "code",
      "metadata": {
        "id": "SHo34f-8KHXh",
        "colab_type": "code",
        "outputId": "3955da13-5ef5-4d28-9a34-32fa35d10c9d",
        "colab": {
          "base_uri": "https://localhost:8080/",
          "height": 1000
        }
      },
      "source": [
        "Tamanho=200\n",
        "ext='drive/My\\ Drive/DatosDeepImagenes/4-200'\n",
        "umb=2\n",
        "compSub=[]\n",
        "conver=np.vectorize(int)\n",
        "AllData=np.zeros((Tamanho,1))\n",
        "AllLabels=[]\n",
        "orden=[]\n",
        "Axis=[]\n",
        "\n",
        "for fx in Carpetas:\n",
        "  subjects=glob.glob(fx+'/*')\n",
        "  subjects=np.sort(subjects)\n",
        "  os.system('mkdir '+ext+fx[8:]) #folder name\n",
        "  os.system('mkdir '+ext+fx[8:]+'/PCA')\n",
        "  os.system('mkdir '+ext+fx[8:]+'/COM')\n",
        "  os.system('mkdir '+ext+fx[8:]+'/BLU')\n",
        "  os.system('mkdir '+ext+fx[8:]+'/AXI')\n",
        "  os.system('mkdir '+ext+fx[8:]+'/C_PCA')\n",
        "  os.system('mkdir '+ext+fx[8:]+'/C_COM')\n",
        "  os.system('mkdir '+ext+fx[8:]+'/C_BLU')\n",
        "  os.system('mkdir '+ext+fx[8:]+'/C_AXI')\n",
        "  ext='drive/My Drive/DatosDeepImagenes/4-200'\n",
        "\n",
        "  for sub in subjects:\n",
        "    ##--------------------------------x-----------------------------------------\n",
        "    print(sub)\n",
        "    series=np.loadtxt(sub+\"/filtered_func_data.ica/melodic_mix\")\n",
        "    comp=np.shape(series)[1]\n",
        "    print(comp)\n",
        "    ##--------------------------------x-----------------------------------------\n",
        "    \n",
        "    ##--------------------------------x-----------------------------------------\n",
        "    if np.shape(series)[0]==Tamanho:\n",
        "      img=image.image.load_img(sub+\"/filtered_func_data.ica/melodic_IC.nii.gz\")    \n",
        "      masx=img.get_data()\n",
        "      \n",
        "      for k in range(comp):\n",
        "        name='sub-'+sub[len(fx)+1:-4]+'-comp-'+str(k)\n",
        "        mainImages(masx, k, ext+fx[8:], name, False, True)\n",
        "        print('|', end =\"\")\n",
        "        orden.append(name)\n",
        "    \n",
        "    ##--------------------------------------------------------------------------\n",
        "\n",
        "    ##--------------------------------------------------------------------------\n",
        "    #print('Time and Components per subject ', np.shape(series))\n",
        "    if np.shape(series)[0]==Tamanho:\n",
        "      compSub.append(comp)\n",
        "      #print('Time and Components per subject ', np.shape(series))\n",
        "      label1=np.ones(comp)    \n",
        "      AllData=np.concatenate((AllData,series), axis=1)\n",
        "      \n",
        "      #Leer etiquetas manuales\n",
        "      f = open(sub+\"/hand_labels_noise.txt\") \n",
        "      while True:\n",
        "        line = f.readline()\n",
        "        if line=='':\n",
        "          break\n",
        "        handClas=line[1:-2]\n",
        "      handClas= handClas.split(\", \")\n",
        "      handClas=conver(handClas)-1\n",
        "      label1[handClas]=0\n",
        "      AllLabels=np.concatenate((AllLabels, label1))\n",
        "      #print('Noise per subject ', np.shape(handClas))\n",
        "      f.close()\n",
        "    ##--------------------------------------------------------------------------\n",
        "    \n",
        "AllData=AllData[:,1:]\n",
        "sio.savemat(ext+fx[8:]+'/Time.mat', {'series': AllData})\n",
        "sio.savemat(ext+fx[8:]+'/Labels.mat', {'labels': AllLabels})\n",
        "sio.savemat(ext+fx[8:]+'/Order.mat', {'order': orden})"
      ],
      "execution_count": 32,
      "outputs": [
        {
          "output_type": "stream",
          "text": [
            "AllData/Standard/1.ica\n",
            "51\n",
            "AllData/Standard/10.ica\n",
            "44\n",
            "||||||||||||||||||||||||||||||||||||||||||||AllData/Standard/100.ica\n",
            "61\n",
            "|||||||||||||||||||||||||||||||||||||||||||||||||||||||||||||AllData/Standard/101.ica\n",
            "65\n",
            "|||||||||||||||||||||||||||||||||||||||||||||||||||||||||||||||||AllData/Standard/102.ica\n",
            "70\n",
            "||||||||||||||||||||||||||||||||||||||||||||||||||||||||||||||||||||||AllData/Standard/103.ica\n",
            "126\n",
            "||||||||||||||||||||||||||||||||||||||||||||||||||||||||||||||||||||||||||||||||||||||||||||||||||||||||||||||||||||||||||||||AllData/Standard/104.ica\n",
            "68\n",
            "||||||||||||||||||||||||||||||||||||||||||||||||||||||||||||||||||||AllData/Standard/105.ica\n",
            "62\n",
            "||||||||||||||||||||||||||||||||||||||||||||||||||||||||||||||AllData/Standard/106.ica\n",
            "71\n",
            "|||||||||||||||||||||||||||||||||||||||||||||||||||||||||||||||||||||||AllData/Standard/11.ica\n",
            "20\n",
            "||||||||||||||||||||AllData/Standard/12.ica\n",
            "40\n",
            "||||||||||||||||||||||||||||||||||||||||AllData/Standard/13.ica\n",
            "44\n",
            "||||||||||||||||||||||||||||||||||||||||||||AllData/Standard/14.ica\n",
            "20\n",
            "||||||||||||||||||||AllData/Standard/15.ica\n",
            "40\n",
            "||||||||||||||||||||||||||||||||||||||||AllData/Standard/16.ica\n",
            "36\n",
            "||||||||||||||||||||||||||||||||||||AllData/Standard/17.ica\n",
            "20\n",
            "||||||||||||||||||||AllData/Standard/18.ica\n",
            "40\n",
            "||||||||||||||||||||||||||||||||||||||||AllData/Standard/19.ica\n",
            "25\n",
            "AllData/Standard/2.ica\n",
            "20\n",
            "AllData/Standard/20.ica\n",
            "67\n",
            "|||||||||||||||||||||||||||||||||||||||||||||||||||||||||||||||||||AllData/Standard/21.ica\n",
            "20\n",
            "||||||||||||||||||||AllData/Standard/22.ica\n",
            "45\n",
            "AllData/Standard/23.ica\n",
            "45\n",
            "AllData/Standard/24.ica\n",
            "36\n",
            "AllData/Standard/25.ica\n",
            "37\n",
            "AllData/Standard/26.ica\n",
            "38\n",
            "AllData/Standard/27.ica\n",
            "38\n",
            "AllData/Standard/28.ica\n",
            "30\n",
            "AllData/Standard/29.ica\n",
            "34\n",
            "AllData/Standard/3.ica\n",
            "40\n",
            "AllData/Standard/30.ica\n",
            "49\n",
            "AllData/Standard/31.ica\n",
            "46\n",
            "AllData/Standard/32.ica\n",
            "49\n",
            "AllData/Standard/33.ica\n",
            "48\n",
            "AllData/Standard/34.ica\n",
            "43\n",
            "AllData/Standard/35.ica\n",
            "40\n",
            "AllData/Standard/36.ica\n",
            "48\n",
            "AllData/Standard/37.ica\n",
            "48\n",
            "AllData/Standard/38.ica\n",
            "42\n",
            "AllData/Standard/39.ica\n",
            "40\n",
            "AllData/Standard/4.ica\n",
            "51\n",
            "AllData/Standard/40.ica\n",
            "45\n",
            "AllData/Standard/41.ica\n",
            "50\n",
            "AllData/Standard/42.ica\n",
            "47\n",
            "AllData/Standard/43.ica\n",
            "48\n",
            "AllData/Standard/44.ica\n",
            "41\n",
            "AllData/Standard/45.ica\n",
            "41\n",
            "AllData/Standard/46.ica\n",
            "36\n",
            "AllData/Standard/47.ica\n",
            "39\n",
            "AllData/Standard/48.ica\n",
            "41\n",
            "AllData/Standard/49.ica\n",
            "45\n",
            "AllData/Standard/5.ica\n",
            "20\n",
            "AllData/Standard/50.ica\n",
            "41\n",
            "AllData/Standard/51.ica\n",
            "41\n",
            "AllData/Standard/52.ica\n",
            "45\n",
            "AllData/Standard/53.ica\n",
            "40\n",
            "AllData/Standard/54.ica\n",
            "43\n",
            "AllData/Standard/55.ica\n",
            "45\n",
            "AllData/Standard/56.ica\n",
            "43\n",
            "AllData/Standard/57.ica\n",
            "39\n",
            "AllData/Standard/58.ica\n",
            "38\n",
            "AllData/Standard/59.ica\n",
            "39\n",
            "AllData/Standard/6.ica\n",
            "40\n",
            "AllData/Standard/60.ica\n",
            "36\n",
            "AllData/Standard/61.ica\n",
            "39\n",
            "AllData/Standard/62.ica\n",
            "93\n",
            "|||||||||||||||||||||||||||||||||||||||||||||||||||||||||||||||||||||||||||||||||||||||||||||AllData/Standard/63.ica\n",
            "82\n",
            "||||||||||||||||||||||||||||||||||||||||||||||||||||||||||||||||||||||||||||||||||AllData/Standard/64.ica\n",
            "54\n",
            "||||||||||||||||||||||||||||||||||||||||||||||||||||||AllData/Standard/65.ica\n",
            "74\n",
            "||||||||||||||||||||||||||||||||||||||||||||||||||||||||||||||||||||||||||AllData/Standard/66.ica\n",
            "53\n",
            "|||||||||||||||||||||||||||||||||||||||||||||||||||||AllData/Standard/67.ica\n",
            "54\n",
            "||||||||||||||||||||||||||||||||||||||||||||||||||||||AllData/Standard/68.ica\n",
            "64\n",
            "||||||||||||||||||||||||||||||||||||||||||||||||||||||||||||||||AllData/Standard/69.ica\n",
            "76\n",
            "||||||||||||||||||||||||||||||||||||||||||||||||||||||||||||||||||||||||||||AllData/Standard/7.ica\n",
            "47\n",
            "AllData/Standard/70.ica\n",
            "70\n",
            "||||||||||||||||||||||||||||||||||||||||||||||||||||||||||||||||||||||AllData/Standard/71.ica\n",
            "79\n",
            "|||||||||||||||||||||||||||||||||||||||||||||||||||||||||||||||||||||||||||||||AllData/Standard/72.ica\n",
            "76\n",
            "||||||||||||||||||||||||||||||||||||||||||||||||||||||||||||||||||||||||||||AllData/Standard/73.ica\n",
            "79\n",
            "|||||||||||||||||||||||||||||||||||||||||||||||||||||||||||||||||||||||||||||||AllData/Standard/74.ica\n",
            "98\n",
            "||||||||||||||||||||||||||||||||||||||||||||||||||||||||||||||||||||||||||||||||||||||||||||||||||AllData/Standard/75.ica\n",
            "59\n",
            "|||||||||||||||||||||||||||||||||||||||||||||||||||||||||||AllData/Standard/76.ica\n",
            "61\n",
            "|||||||||||||||||||||||||||||||||||||||||||||||||||||||||||||AllData/Standard/77.ica\n",
            "48\n",
            "||||||||||||||||||||||||||||||||||||||||||||||||AllData/Standard/78.ica\n",
            "64\n",
            "||||||||||||||||||||||||||||||||||||||||||||||||||||||||||||||||AllData/Standard/79.ica\n",
            "50\n",
            "||||||||||||||||||||||||||||||||||||||||||||||||||AllData/Standard/8.ica\n",
            "20\n",
            "AllData/Standard/80.ica\n",
            "101\n",
            "|||||||||||||||||||||||||||||||||||||||||||||||||||||||||||||||||||||||||||||||||||||||||||||||||||||AllData/Standard/81.ica\n",
            "54\n",
            "||||||||||||||||||||||||||||||||||||||||||||||||||||||AllData/Standard/82.ica\n",
            "82\n",
            "||||||||||||||||||||||||||||||||||||||||||||||||||||||||||||||||||||||||||||||||||AllData/Standard/83.ica\n",
            "63\n",
            "|||||||||||||||||||||||||||||||||||||||||||||||||||||||||||||||AllData/Standard/84.ica\n",
            "78\n",
            "||||||||||||||||||||||||||||||||||||||||||||||||||||||||||||||||||||||||||||||AllData/Standard/85.ica\n",
            "93\n",
            "|||||||||||||||||||||||||||||||||||||||||||||||||||||||||||||||||||||||||||||||||||||||||||||AllData/Standard/86.ica\n",
            "85\n",
            "|||||||||||||||||||||||||||||||||||||||||||||||||||||||||||||||||||||||||||||||||||||AllData/Standard/87.ica\n",
            "62\n",
            "||||||||||||||||||||||||||||||||||||||||||||||||||||||||||||||AllData/Standard/88.ica\n",
            "59\n",
            "|||||||||||||||||||||||||||||||||||||||||||||||||||||||||||AllData/Standard/89.ica\n",
            "104\n",
            "||||||||||||||||||||||||||||||||||||||||||||||||||||||||||||||||||||||||||||||||||||||||||||||||||||||||AllData/Standard/9.ica\n",
            "40\n",
            "AllData/Standard/90.ica\n",
            "102\n",
            "||||||||||||||||||||||||||||||||||||||||||||||||||||||||||||||||||||||||||||||||||||||||||||||||||||||AllData/Standard/91.ica\n",
            "63\n",
            "|||||||||||||||||||||||||||||||||||||||||||||||||||||||||||||||AllData/Standard/92.ica\n",
            "52\n",
            "||||||||||||||||||||||||||||||||||||||||||||||||||||AllData/Standard/93.ica\n",
            "70\n",
            "||||||||||||||||||||||||||||||||||||||||||||||||||||||||||||||||||||||AllData/Standard/94.ica\n",
            "67\n",
            "|||||||||||||||||||||||||||||||||||||||||||||||||||||||||||||||||||AllData/Standard/95.ica\n",
            "64\n",
            "||||||||||||||||||||||||||||||||||||||||||||||||||||||||||||||||AllData/Standard/96.ica\n",
            "63\n",
            "|||||||||||||||||||||||||||||||||||||||||||||||||||||||||||||||AllData/Standard/97.ica\n",
            "75\n",
            "|||||||||||||||||||||||||||||||||||||||||||||||||||||||||||||||||||||||||||AllData/Standard/98.ica\n",
            "53\n",
            "|||||||||||||||||||||||||||||||||||||||||||||||||||||AllData/Standard/99.ica\n",
            "58\n",
            "||||||||||||||||||||||||||||||||||||||||||||||||||||||||||"
          ],
          "name": "stdout"
        }
      ]
    },
    {
      "cell_type": "code",
      "metadata": {
        "id": "pZomHcFlr8LN",
        "colab_type": "code",
        "colab": {}
      },
      "source": [
        ""
      ],
      "execution_count": 0,
      "outputs": []
    }
  ]
}