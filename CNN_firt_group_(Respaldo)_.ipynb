{
  "nbformat": 4,
  "nbformat_minor": 0,
  "metadata": {
    "colab": {
      "name": "CNN - firt group (Respaldo) .ipynb",
      "provenance": [],
      "collapsed_sections": [],
      "include_colab_link": true
    },
    "kernelspec": {
      "name": "python3",
      "display_name": "Python 3"
    },
    "accelerator": "GPU"
  },
  "cells": [
    {
      "cell_type": "markdown",
      "metadata": {
        "id": "view-in-github",
        "colab_type": "text"
      },
      "source": [
        "<a href=\"https://colab.research.google.com/github/LxMera/Convolutional-Neural-Network-for-the-classification-of-independent-components-of-rs-fMRI/blob/master/CNN_firt_group_(Respaldo)_.ipynb\" target=\"_parent\"><img src=\"https://colab.research.google.com/assets/colab-badge.svg\" alt=\"Open In Colab\"/></a>"
      ]
    },
    {
      "cell_type": "markdown",
      "metadata": {
        "id": "3HYdNkIx1Td5",
        "colab_type": "text"
      },
      "source": [
        "### Libraries"
      ]
    },
    {
      "cell_type": "code",
      "metadata": {
        "id": "zHIGHVJD1RvV",
        "colab_type": "code",
        "outputId": "5087fd9b-83a2-41d1-eb6b-6efd8773fa2c",
        "colab": {
          "base_uri": "https://localhost:8080/",
          "height": 64
        }
      },
      "source": [
        "import os\n",
        "import cv2\n",
        "import sys\n",
        "import glob\n",
        "import random\n",
        "import warnings\n",
        "import numpy as np\n",
        "import pandas as pd\n",
        "import scipy.io as sio\n",
        "import tensorflow as tf\n",
        "from itertools import chain\n",
        "import matplotlib.pyplot as plt\n",
        "from skimage.transform import resize\n",
        "from skimage.morphology import label\n",
        "from tensorflow.keras.layers import Input\n",
        "from tensorflow.keras import backend as K\n",
        "from tensorflow.keras.layers import concatenate\n",
        "from sklearn.preprocessing import StandardScaler\n",
        "from tensorflow.keras.layers import MaxPooling2D\n",
        "from tensorflow.keras.layers import Dropout, Lambda\n",
        "from tensorflow.keras.models import Model, load_model\n",
        "from tensorflow.keras.layers import Conv2D, Conv2DTranspose\n",
        "from tensorflow.keras.layers import Flatten, Dense, Activation\n",
        "from tensorflow.keras.callbacks import EarlyStopping, ModelCheckpoint\n",
        "from skimage.io import imread, imshow, imread_collection, concatenate_images"
      ],
      "execution_count": 1,
      "outputs": [
        {
          "output_type": "display_data",
          "data": {
            "text/html": [
              "<p style=\"color: red;\">\n",
              "The default version of TensorFlow in Colab will soon switch to TensorFlow 2.x.<br>\n",
              "We recommend you <a href=\"https://www.tensorflow.org/guide/migrate\" target=\"_blank\">upgrade</a> now \n",
              "or ensure your notebook will continue to use TensorFlow 1.x via the <code>%tensorflow_version 1.x</code> magic:\n",
              "<a href=\"https://colab.research.google.com/notebooks/tensorflow_version.ipynb\" target=\"_blank\">more info</a>.</p>\n"
            ],
            "text/plain": [
              "<IPython.core.display.HTML object>"
            ]
          },
          "metadata": {
            "tags": []
          }
        }
      ]
    },
    {
      "cell_type": "markdown",
      "metadata": {
        "id": "_mWUE9Ji0FuK",
        "colab_type": "text"
      },
      "source": [
        "### Accesses to data"
      ]
    },
    {
      "cell_type": "code",
      "metadata": {
        "id": "iFm-en3B0fY9",
        "colab_type": "code",
        "colab": {
          "base_uri": "https://localhost:8080/",
          "height": 124
        },
        "outputId": "4c101730-811b-4b8c-9e6c-9bbb427bdee4"
      },
      "source": [
        "from google.colab import drive\n",
        "drive.mount('/content/drive')"
      ],
      "execution_count": 2,
      "outputs": [
        {
          "output_type": "stream",
          "text": [
            "Go to this URL in a browser: https://accounts.google.com/o/oauth2/auth?client_id=947318989803-6bn6qk8qdgf4n4g3pfee6491hc0brc4i.apps.googleusercontent.com&redirect_uri=urn%3aietf%3awg%3aoauth%3a2.0%3aoob&response_type=code&scope=email%20https%3a%2f%2fwww.googleapis.com%2fauth%2fdocs.test%20https%3a%2f%2fwww.googleapis.com%2fauth%2fdrive%20https%3a%2f%2fwww.googleapis.com%2fauth%2fdrive.photos.readonly%20https%3a%2f%2fwww.googleapis.com%2fauth%2fpeopleapi.readonly\n",
            "\n",
            "Enter your authorization code:\n",
            "··········\n",
            "Mounted at /content/drive\n"
          ],
          "name": "stdout"
        }
      ]
    },
    {
      "cell_type": "markdown",
      "metadata": {
        "id": "oEvbqWtC0_KM",
        "colab_type": "text"
      },
      "source": [
        "### Directory"
      ]
    },
    {
      "cell_type": "code",
      "metadata": {
        "id": "mbFEcvKT-78G",
        "colab_type": "code",
        "outputId": "b0b37dba-12d3-4675-d6da-68518ca1fa21",
        "colab": {
          "base_uri": "https://localhost:8080/",
          "height": 34
        }
      },
      "source": [
        "os.system('cp drive/My\\ Drive/HumanProyec2/1HCP_hp2000/TimeF.mat Time.mat')\n",
        "os.system('cp drive/My\\ Drive/HumanProyec2/1HCP_hp2000/OrderF.mat Order.mat')\n",
        "os.system('cp drive/My\\ Drive/HumanProyec2/1HCP_hp2000/LabelsF.mat Labels.mat')\n",
        "os.system('cp drive/My\\ Drive/HumanProyec3/HumanProyec1.zip HumanProyec1.zip')\n",
        "os.system('cp drive/My\\ Drive/HumanProyec3/HumanProyec2.zip HumanProyec2.zip')\n",
        "os.system('cp drive/My\\ Drive/HumanProyec3/HumanProyec3.zip HumanProyec3.zip')\n",
        "os.system('cp drive/My\\ Drive/HumanProyec3/HumanProyec4.zip HumanProyec4.zip')\n",
        "os.system('cp drive/My\\ Drive/HumanProyec3/HumanProyec5.zip HumanProyec5.zip')"
      ],
      "execution_count": 3,
      "outputs": [
        {
          "output_type": "execute_result",
          "data": {
            "text/plain": [
              "0"
            ]
          },
          "metadata": {
            "tags": []
          },
          "execution_count": 3
        }
      ]
    },
    {
      "cell_type": "code",
      "metadata": {
        "id": "v53w7DwmAmlt",
        "colab_type": "code",
        "outputId": "937840e9-b743-4246-9d63-4a9ec5dc80b6",
        "colab": {
          "base_uri": "https://localhost:8080/",
          "height": 34
        }
      },
      "source": [
        "os.system('unzip HumanProyec1.zip'), os.system('rm -r HumanProyec1.zip')\n",
        "os.system('unzip HumanProyec2.zip'), os.system('rm -r HumanProyec2.zip')\n",
        "os.system('unzip HumanProyec3.zip'), os.system('rm -r HumanProyec3.zip')\n",
        "os.system('unzip HumanProyec4.zip'), os.system('rm -r HumanProyec4.zip')\n",
        "os.system('unzip HumanProyec5.zip'), os.system('rm -r HumanProyec5.zip')"
      ],
      "execution_count": 4,
      "outputs": [
        {
          "output_type": "execute_result",
          "data": {
            "text/plain": [
              "(0, 0)"
            ]
          },
          "metadata": {
            "tags": []
          },
          "execution_count": 4
        }
      ]
    },
    {
      "cell_type": "code",
      "metadata": {
        "id": "UjHzK5y21952",
        "colab_type": "code",
        "outputId": "1457947d-cdcc-4ffa-d4b5-27f292705545",
        "colab": {
          "base_uri": "https://localhost:8080/",
          "height": 72
        }
      },
      "source": [
        "FOLD=glob.glob('HCP_hp2000/*')\n",
        "DATA=glob.glob('*.mat')\n",
        "\n",
        "print(FOLD)\n",
        "print(DATA[-1])"
      ],
      "execution_count": 72,
      "outputs": [
        {
          "output_type": "stream",
          "text": [
            "['HCP_hp2000/C_AXI', 'HCP_hp2000/C_BLU', 'HCP_hp2000/BLU', 'HCP_hp2000/AXI', 'HCP_hp2000/PCA', 'HCP_hp2000/COM', 'HCP_hp2000/C_PCA', 'HCP_hp2000/C_COM']\n",
            "Order.mat\n"
          ],
          "name": "stdout"
        }
      ]
    },
    {
      "cell_type": "code",
      "metadata": {
        "id": "OyjKRK13706h",
        "colab_type": "code",
        "outputId": "c1b77732-0497-4a2c-aebf-0a8746032c5d",
        "colab": {
          "base_uri": "https://localhost:8080/",
          "height": 69
        }
      },
      "source": [
        "label=sio.loadmat('Labels.mat')['labels'][0]\n",
        "order=sio.loadmat('Order.mat')['order']\n",
        "timeS=sio.loadmat('Time.mat')['series']\n",
        "\n",
        "print('Labels per component     \\t', np.shape(label))\n",
        "print('Order of images          \\t', np.shape(order))\n",
        "print('Points time per component\\t', np.shape(timeS))"
      ],
      "execution_count": 73,
      "outputs": [
        {
          "output_type": "stream",
          "text": [
            "Labels per component     \t (22877,)\n",
            "Order of images          \t (22877,)\n",
            "Points time per component\t (1200, 22877)\n"
          ],
          "name": "stdout"
        }
      ]
    },
    {
      "cell_type": "markdown",
      "metadata": {
        "id": "sTmxPH2I_7cI",
        "colab_type": "text"
      },
      "source": [
        "### Images parameters"
      ]
    },
    {
      "cell_type": "code",
      "metadata": {
        "id": "zKVKjCjG_bjP",
        "colab_type": "code",
        "colab": {}
      },
      "source": [
        "DIR='drive/My Drive/ResultadosHP'\n",
        "slic=['/Axial','/Coronal','/Saggital']\n",
        "\n",
        "#Original shape\n",
        "SAG=73\n",
        "COR=91\n",
        "AXI=77\n",
        "\n",
        "#SAG=57\n",
        "#COR=73\n",
        "#AXI=57\n",
        "\n",
        "IMG_CHANNELS = 3\n",
        "nb_classes=2\n",
        "maxR=0.4\n",
        "shap={'Axial': (SAG, COR, IMG_CHANNELS), 'Coronal': (SAG, AXI, IMG_CHANNELS), 'Saggital': (AXI, COR, IMG_CHANNELS)}"
      ],
      "execution_count": 0,
      "outputs": []
    },
    {
      "cell_type": "markdown",
      "metadata": {
        "id": "84TwPXilsOWR",
        "colab_type": "text"
      },
      "source": [
        "### Training and test data"
      ]
    },
    {
      "cell_type": "code",
      "metadata": {
        "id": "JKye2ni1AOlp",
        "colab_type": "code",
        "outputId": "ac3a8fa7-6766-4072-c2a9-f25052e2cdd6",
        "colab": {
          "base_uri": "https://localhost:8080/",
          "height": 86
        }
      },
      "source": [
        "per=0.8\n",
        "per=int(np.shape(label)[0]*0.8)\n",
        "\n",
        "TEST_PATH=order[per:]\n",
        "TRAIN_PATH=order[:per]\n",
        "\n",
        "y_test =label[per:]\n",
        "y_train=label[:per]\n",
        "\n",
        "print('training labels ', y_train.shape)\n",
        "print('test labels     ', y_test.shape)\n",
        "\n",
        "print('training maps   ', TRAIN_PATH.shape)\n",
        "print('test maps       ', TEST_PATH.shape)"
      ],
      "execution_count": 75,
      "outputs": [
        {
          "output_type": "stream",
          "text": [
            "training labels  (18301,)\n",
            "test labels      (4576,)\n",
            "training maps    (18301,)\n",
            "test maps        (4576,)\n"
          ],
          "name": "stdout"
        }
      ]
    },
    {
      "cell_type": "code",
      "metadata": {
        "id": "u3IySaQ2iTOH",
        "colab_type": "code",
        "colab": {}
      },
      "source": [
        "def showSlices(ima1, ima2, ima3):\n",
        "  plt.figure(figsize=(20,5))\n",
        "  plt.subplot(1,3,1)\n",
        "  plt.imshow(ima1)\n",
        "  plt.title('Saggital')\n",
        "  plt.axis('off')\n",
        "  plt.subplot(1,3,2)\n",
        "  plt.imshow(ima2)\n",
        "  plt.title('Coronal')\n",
        "  plt.axis('off')\n",
        "  plt.subplot(1,3,3)\n",
        "  plt.imshow(ima3)\n",
        "  plt.title('Axial')\n",
        "  plt.axis('off')\n",
        "\n",
        "  print('Saggital shape ', np.shape(ima1))\n",
        "  print('Coronal shape ', np.shape(ima2))\n",
        "  print('Axial shape ', np.shape(ima3))"
      ],
      "execution_count": 0,
      "outputs": []
    },
    {
      "cell_type": "markdown",
      "metadata": {
        "id": "99UVwLQtseEg",
        "colab_type": "text"
      },
      "source": [
        "### Training images"
      ]
    },
    {
      "cell_type": "code",
      "metadata": {
        "id": "hUZU_5NME3-x",
        "colab_type": "code",
        "outputId": "502475aa-bf25-42f1-8da5-c6adf72e54f7",
        "colab": {
          "base_uri": "https://localhost:8080/",
          "height": 52
        }
      },
      "source": [
        "S_train = np.zeros((len(TRAIN_PATH), AXI, COR, 3), dtype=np.uint8)\n",
        "C_train = np.zeros((len(TRAIN_PATH), SAG, AXI, 3), dtype=np.uint8)\n",
        "A_train = np.zeros((len(TRAIN_PATH), SAG, COR, 3), dtype=np.uint8)\n",
        "\n",
        "cont=0\n",
        "loop=len(TRAIN_PATH)\n",
        "ni=1 #number of folder\n",
        "print(FOLD[ni][11:])\n",
        "\n",
        "for n in range(loop):  \n",
        "  namea=FOLD[ni]+slic[0]+'/'+TRAIN_PATH[n].strip()+'.png'\n",
        "  namec=FOLD[ni]+slic[1]+'/'+TRAIN_PATH[n].strip()+'.png'\n",
        "  names=FOLD[ni]+slic[2]+'/'+TRAIN_PATH[n].strip()+'.png'\n",
        "  \n",
        "  imaa=cv2.imread(namea)\n",
        "  imac=cv2.imread(namec)\n",
        "  imas=cv2.imread(names)\n",
        "\n",
        "  sag=cv2.resize(imas, (AXI, COR), interpolation = cv2.INTER_AREA)\n",
        "  cor=cv2.resize(imac, (AXI, SAG), interpolation = cv2.INTER_AREA)\n",
        "  axi=cv2.resize(imaa, (COR, SAG), interpolation = cv2.INTER_AREA)\n",
        "\n",
        "  S_train[n]=np.rot90(sag)\n",
        "  C_train[n]=cor\n",
        "  A_train[n]=axi\n",
        "\n",
        "  cont=cont+1\n",
        "  print('\\rProcess ', round(cont*100/loop,2), '%...' , end =\"\")"
      ],
      "execution_count": 77,
      "outputs": [
        {
          "output_type": "stream",
          "text": [
            "C_BLU\n",
            "Process  100.0 %..."
          ],
          "name": "stdout"
        }
      ]
    },
    {
      "cell_type": "markdown",
      "metadata": {
        "id": "y5d9VZbzsiF7",
        "colab_type": "text"
      },
      "source": [
        "### Sample images (training)"
      ]
    },
    {
      "cell_type": "code",
      "metadata": {
        "colab_type": "code",
        "outputId": "a577461b-baf8-4b71-e32f-cd8ccd088d5e",
        "id": "0SFXoffwzfhh",
        "colab": {
          "base_uri": "https://localhost:8080/",
          "height": 725
        }
      },
      "source": [
        "signal=np.random.choice(np.where(y_train==1)[0])\n",
        "noise=np.random.choice(np.where(y_train==0)[0])\n",
        "showSlices(S_train[signal], C_train[signal], A_train[signal])\n",
        "showSlices(S_train[noise], C_train[noise], A_train[noise])"
      ],
      "execution_count": 78,
      "outputs": [
        {
          "output_type": "stream",
          "text": [
            "Saggital shape  (77, 91, 3)\n",
            "Coronal shape  (73, 77, 3)\n",
            "Axial shape  (73, 91, 3)\n",
            "Saggital shape  (77, 91, 3)\n",
            "Coronal shape  (73, 77, 3)\n",
            "Axial shape  (73, 91, 3)\n"
          ],
          "name": "stdout"
        },
        {
          "output_type": "display_data",
          "data": {
            "image/png": "[encoded data removed]",
            "text/plain": [
              "<Figure size 1440x360 with 3 Axes>"
            ]
          },
          "metadata": {
            "tags": []
          }
        },
        {
          "output_type": "display_data",
          "data": {
            "image/png": "[encoded data removed]",
            "text/plain": [
              "<Figure size 1440x360 with 3 Axes>"
            ]
          },
          "metadata": {
            "tags": []
          }
        }
      ]
    },
    {
      "cell_type": "markdown",
      "metadata": {
        "id": "dUMPyJjqsubw",
        "colab_type": "text"
      },
      "source": [
        "### Test images"
      ]
    },
    {
      "cell_type": "code",
      "metadata": {
        "id": "ljj5puiLG8Nb",
        "colab_type": "code",
        "outputId": "f64e8e5b-2456-4caa-a506-adc119636dc5",
        "colab": {
          "base_uri": "https://localhost:8080/",
          "height": 34
        }
      },
      "source": [
        "S_test = np.zeros((len(TEST_PATH), AXI, COR, 3), dtype=np.uint8)\n",
        "C_test = np.zeros((len(TEST_PATH), SAG, AXI, 3), dtype=np.uint8)\n",
        "A_test = np.zeros((len(TEST_PATH), SAG, COR, 3), dtype=np.uint8)\n",
        "\n",
        "cont=0\n",
        "loop=len(TEST_PATH)\n",
        "\n",
        "for n in range(loop):  \n",
        "  namea=FOLD[ni]+slic[0]+'/'+TEST_PATH[n].strip()+'.png'\n",
        "  namec=FOLD[ni]+slic[1]+'/'+TEST_PATH[n].strip()+'.png'\n",
        "  names=FOLD[ni]+slic[2]+'/'+TEST_PATH[n].strip()+'.png'\n",
        "  \n",
        "  imaa=cv2.imread(namea)\n",
        "  imac=cv2.imread(namec)\n",
        "  imas=cv2.imread(names)\n",
        "\n",
        "  sag=cv2.resize(imas, (AXI, COR), interpolation = cv2.INTER_AREA)\n",
        "  cor=cv2.resize(imac, (AXI, SAG), interpolation = cv2.INTER_AREA)\n",
        "  axi=cv2.resize(imaa, (COR, SAG), interpolation = cv2.INTER_AREA)\n",
        "\n",
        "  S_test[n]=np.rot90(sag)\n",
        "  C_test[n]=cor\n",
        "  A_test[n]=axi\n",
        "\n",
        "  cont=cont+1\n",
        "  print('\\rProcess ', round(cont*100/loop,2), '%...' , end =\"\")"
      ],
      "execution_count": 79,
      "outputs": [
        {
          "output_type": "stream",
          "text": [
            "Process  100.0 %..."
          ],
          "name": "stdout"
        }
      ]
    },
    {
      "cell_type": "markdown",
      "metadata": {
        "id": "fouDtnUos6rR",
        "colab_type": "text"
      },
      "source": [
        "### sample images (test)"
      ]
    },
    {
      "cell_type": "code",
      "metadata": {
        "id": "FsMx96P2ihW8",
        "colab_type": "code",
        "outputId": "bea06ecc-fe93-4240-8246-f88b07134bb6",
        "colab": {
          "base_uri": "https://localhost:8080/",
          "height": 725
        }
      },
      "source": [
        "signal=np.random.choice(np.where(y_test==1)[0])\n",
        "noise=np.random.choice(np.where(y_test==0)[0])\n",
        "showSlices(S_test[signal], C_test[signal], A_test[signal])\n",
        "showSlices(S_test[noise], C_test[noise], A_test[noise])"
      ],
      "execution_count": 80,
      "outputs": [
        {
          "output_type": "stream",
          "text": [
            "Saggital shape  (77, 91, 3)\n",
            "Coronal shape  (73, 77, 3)\n",
            "Axial shape  (73, 91, 3)\n",
            "Saggital shape  (77, 91, 3)\n",
            "Coronal shape  (73, 77, 3)\n",
            "Axial shape  (73, 91, 3)\n"
          ],
          "name": "stdout"
        },
        {
          "output_type": "display_data",
          "data": {
            "image/png": "[encoded data removed]",
            "text/plain": [
              "<Figure size 1440x360 with 3 Axes>"
            ]
          },
          "metadata": {
            "tags": []
          }
        },
        {
          "output_type": "display_data",
          "data": {
            "image/png": "[encoded data removed]",
            "text/plain": [
              "<Figure size 1440x360 with 3 Axes>"
            ]
          },
          "metadata": {
            "tags": []
          }
        }
      ]
    },
    {
      "cell_type": "code",
      "metadata": {
        "id": "GobqjcS9INJe",
        "colab_type": "code",
        "colab": {}
      },
      "source": [
        "def get_model_1(Slic):\n",
        "\n",
        "    print(Slic+' model shape ', shap[Slic])\n",
        "    tf.reset_default_graph()\n",
        "    tf.keras.backend.clear_session()    \n",
        "    \n",
        "    inputs = Input(shap[Slic])\n",
        "    s = Lambda(lambda x: x / 255) (inputs)\n",
        "\n",
        "    c1 = Conv2D(16, (3, 3), activation='elu', kernel_initializer='he_normal', padding='same') (s)\n",
        "    c1 = Dropout(maxR) (c1)\n",
        "\n",
        "    c1 = Conv2D(16, (3, 3), activation='elu', kernel_initializer='he_normal', padding='same') (c1)\n",
        "    c1 = MaxPooling2D((2, 2)) (c1)    \n",
        "    \n",
        "    #Flatten layers\n",
        "    c6 = Flatten()(c1)\n",
        "        \n",
        "    c6 = Dense(16, activation='relu')(c6)\n",
        "    c6 = Dropout(maxR)(c6)   \n",
        "\n",
        "    c6 = Dense(8, activation='relu')(c6)\n",
        "    c6 = Dropout(maxR)(c6)  \n",
        "\n",
        "    c6 = Dense(4, activation='relu')(c6)\n",
        "    c6 = Dropout(maxR)(c6)    \n",
        "       \n",
        "    outputs = Dense(nb_classes, activation='softmax')(c6)\n",
        "\n",
        "    model = Model(inputs=[inputs], outputs=[outputs])\n",
        "    model.compile(optimizer='adam', loss='sparse_categorical_crossentropy', metrics=['accuracy'])\n",
        "        \n",
        "    return model"
      ],
      "execution_count": 0,
      "outputs": []
    },
    {
      "cell_type": "code",
      "metadata": {
        "id": "i-DnyH9vFetP",
        "colab_type": "code",
        "colab": {}
      },
      "source": [
        "def get_Layer_1(Slic):\n",
        "    print(Slic+' model shape ', shap[Slic])\n",
        "    tf.reset_default_graph()\n",
        "    tf.keras.backend.clear_session()    \n",
        "    \n",
        "    inputs = Input(shap[Slic])\n",
        "    s = Lambda(lambda x: x / 255) (inputs)\n",
        "\n",
        "    c1 = Conv2D(32, (3, 3), activation='elu', kernel_initializer='he_normal', padding='same') (s)\n",
        "    c1 = MaxPooling2D((2, 2)) (c1)    \n",
        "    c1 = Dropout(maxR) (c1) \n",
        "    \n",
        "    #Flatten layers\n",
        "    c6 = Flatten()(c1)\n",
        "        \n",
        "    c6 = Dense(128, activation='relu')(c6)\n",
        "    c6 = Dropout(maxR)(c6)       \n",
        "       \n",
        "    outputs = Dense(nb_classes, activation='softmax')(c6)\n",
        "\n",
        "    model = Model(inputs=[inputs], outputs=[outputs])\n",
        "    model.compile(optimizer='adam', loss='sparse_categorical_crossentropy', metrics=['accuracy'])\n",
        "        \n",
        "    return model"
      ],
      "execution_count": 0,
      "outputs": []
    },
    {
      "cell_type": "code",
      "metadata": {
        "id": "Uw1AjwNQHRaW",
        "colab_type": "code",
        "colab": {}
      },
      "source": [
        "def get_Layer_2(Slic):\n",
        "    print(Slic+' model shape ', shap[Slic])\n",
        "    tf.reset_default_graph()\n",
        "    tf.keras.backend.clear_session()    \n",
        "    \n",
        "    inputs = Input(shap[Slic])\n",
        "    s = Lambda(lambda x: x / 255) (inputs)\n",
        "\n",
        "    c1 = Conv2D(32, (3, 3), activation='elu', kernel_initializer='he_normal', padding='same') (s)\n",
        "    c1 = MaxPooling2D((2, 2)) (c1)    \n",
        "    c1 = Dropout(maxR) (c1)\n",
        "\n",
        "    c2 = Conv2D(64, (3, 3), activation='elu', kernel_initializer='he_normal', padding='same') (c1)\n",
        "    c2 = MaxPooling2D((2, 2)) (c2)    \n",
        "    c2 = Dropout(maxR) (c2)\n",
        "    \n",
        "    #Flatten layers\n",
        "    c6 = Flatten()(c2)\n",
        "        \n",
        "    c6 = Dense(128, activation='relu')(c6)\n",
        "    c6 = Dropout(maxR)(c6)       \n",
        "       \n",
        "    outputs = Dense(nb_classes, activation='softmax')(c6)\n",
        "\n",
        "    model = Model(inputs=[inputs], outputs=[outputs])\n",
        "    model.compile(optimizer='adam', loss='sparse_categorical_crossentropy', metrics=['accuracy'])\n",
        "        \n",
        "    return model"
      ],
      "execution_count": 0,
      "outputs": []
    },
    {
      "cell_type": "code",
      "metadata": {
        "id": "6UlMmbYcHel9",
        "colab_type": "code",
        "colab": {}
      },
      "source": [
        "def get_Layer_3(Slic):\n",
        "    print(Slic+' model shape ', shap[Slic])\n",
        "    tf.reset_default_graph()\n",
        "    tf.keras.backend.clear_session()    \n",
        "    \n",
        "    inputs = Input(shap[Slic])\n",
        "    s = Lambda(lambda x: x / 255) (inputs)\n",
        "\n",
        "    c1 = Conv2D(32, (3, 3), activation='elu', kernel_initializer='he_normal', padding='same') (s)\n",
        "    c1 = MaxPooling2D((2, 2)) (c1)    \n",
        "    c1 = Dropout(maxR) (c1)\n",
        "\n",
        "    c2 = Conv2D(64, (3, 3), activation='elu', kernel_initializer='he_normal', padding='same') (c1)\n",
        "    c2 = MaxPooling2D((2, 2)) (c2)    \n",
        "    c2 = Dropout(maxR) (c2)\n",
        "\n",
        "    c3 = Conv2D(128, (3, 3), activation='elu', kernel_initializer='he_normal', padding='same') (c2)\n",
        "    c3 = MaxPooling2D((2, 2)) (c3)    \n",
        "    c3 = Dropout(maxR) (c3)\n",
        "    \n",
        "    #Flatten layers\n",
        "    c6 = Flatten()(c3)\n",
        "        \n",
        "    c6 = Dense(128, activation='relu')(c6)\n",
        "    c6 = Dropout(maxR)(c6)       \n",
        "       \n",
        "    outputs = Dense(nb_classes, activation='softmax')(c6)\n",
        "\n",
        "    model = Model(inputs=[inputs], outputs=[outputs])\n",
        "    model.compile(optimizer='adam', loss='sparse_categorical_crossentropy', metrics=['accuracy'])\n",
        "        \n",
        "    return model"
      ],
      "execution_count": 0,
      "outputs": []
    },
    {
      "cell_type": "code",
      "metadata": {
        "id": "LEf4dRauHeRT",
        "colab_type": "code",
        "colab": {}
      },
      "source": [
        "def get_Layer_4(Slic):\n",
        "    print(Slic+' model shape ', shap[Slic])\n",
        "    tf.reset_default_graph()\n",
        "    tf.keras.backend.clear_session()    \n",
        "    \n",
        "    inputs = Input(shap[Slic])\n",
        "    s = Lambda(lambda x: x / 255) (inputs)\n",
        "\n",
        "    c1 = Conv2D(32, (3, 3), activation='elu', kernel_initializer='he_normal', padding='same') (s)\n",
        "    c1 = MaxPooling2D((2, 2)) (c1)    \n",
        "    c1 = Dropout(maxR) (c1) \n",
        "\n",
        "    c2 = Conv2D(32, (3, 3), activation='elu', kernel_initializer='he_normal', padding='same') (c1)\n",
        "    c2 = MaxPooling2D((2, 2)) (c2)    \n",
        "    c2 = Dropout(maxR) (c2)\n",
        "\n",
        "    c3 = Conv2D(64, (3, 3), activation='elu', kernel_initializer='he_normal', padding='same') (c2)\n",
        "    c3 = MaxPooling2D((2, 2)) (c3)    \n",
        "    c3 = Dropout(maxR) (c3)\n",
        "\n",
        "    c4 = Conv2D(128, (3, 3), activation='elu', kernel_initializer='he_normal', padding='same') (c3)\n",
        "    c4 = MaxPooling2D((2, 2)) (c4)    \n",
        "    c4 = Dropout(maxR) (c4)\n",
        "    \n",
        "    #Flatten layers\n",
        "    c6 = Flatten()(c4)\n",
        "\n",
        "    c6 = Dense(512, activation='relu')(c6)\n",
        "    c6 = Dropout(maxR)(c6)\n",
        "        \n",
        "    c6 = Dense(128, activation='relu')(c6)\n",
        "    c6 = Dropout(maxR)(c6)       \n",
        "       \n",
        "    outputs = Dense(nb_classes, activation='softmax')(c6)\n",
        "\n",
        "    model = Model(inputs=[inputs], outputs=[outputs])\n",
        "    model.compile(optimizer='adam', loss='sparse_categorical_crossentropy', metrics=['accuracy'])\n",
        "        \n",
        "    return model"
      ],
      "execution_count": 0,
      "outputs": []
    },
    {
      "cell_type": "code",
      "metadata": {
        "id": "QrME4vdwKo5v",
        "colab_type": "code",
        "colab": {}
      },
      "source": [
        "def get_model_Tree_SCA():\n",
        "    tf.reset_default_graph()\n",
        "    tf.keras.backend.clear_session()    \n",
        "    \n",
        "    inputsA = Input(shap['Axial'])\n",
        "    sa = Lambda(lambda x: x / 255) (inputsA)\n",
        "    c1 = Conv2D(16, (3, 3), activation='elu', kernel_initializer='he_normal', padding='same') (sa)\n",
        "    c1 = Dropout(maxR) (c1)\n",
        "    c1 = Conv2D(16, (3, 3), activation='elu', kernel_initializer='he_normal', padding='same') (c1)\n",
        "    c1 = MaxPooling2D((2, 2)) (c1)\n",
        "    #c2 = Conv2D(16, (3, 3), activation='elu', kernel_initializer='he_normal', padding='same') (c1)\n",
        "    #c2 = Dropout(maxR) (c2)\n",
        "    #c2 = Conv2D(16, (3, 3), activation='elu', kernel_initializer='he_normal', padding='same') (c2)\n",
        "    #c2 = MaxPooling2D((2, 2)) (c2)\n",
        "\n",
        "    inputsC = Input(shap['Coronal'])\n",
        "    sc = Lambda(lambda x: x / 255) (inputsC)\n",
        "    c3 = Conv2D(16, (3, 3), activation='elu', kernel_initializer='he_normal', padding='same') (sc)\n",
        "    c3 = Dropout(maxR) (c3)\n",
        "    c3 = Conv2D(16, (3, 3), activation='elu', kernel_initializer='he_normal', padding='same') (c3)\n",
        "    c3 = MaxPooling2D((2, 2)) (c3)\n",
        "    #c4 = Conv2D(16, (3, 3), activation='elu', kernel_initializer='he_normal', padding='same') (c3)\n",
        "    #c4 = Dropout(maxR) (c4)\n",
        "    #c4 = Conv2D(16, (3, 3), activation='elu', kernel_initializer='he_normal', padding='same') (c4)\n",
        "    #c4 = MaxPooling2D((2, 2)) (c4)  \n",
        "\n",
        "    inputsS = Input(shap['Saggital'])\n",
        "    ss = Lambda(lambda x: x / 255) (inputsS)\n",
        "    c5 = Conv2D(16, (3, 3), activation='elu', kernel_initializer='he_normal', padding='same') (ss)\n",
        "    c5 = Dropout(maxR) (c5)\n",
        "    c5 = Conv2D(16, (3, 3), activation='elu', kernel_initializer='he_normal', padding='same') (c5)\n",
        "    c5 = MaxPooling2D((2, 2)) (c5)\n",
        "    #c6 = Conv2D(16, (3, 3), activation='elu', kernel_initializer='he_normal', padding='same') (c5)\n",
        "    #c6 = Dropout(maxR) (c6)\n",
        "    #c6 = Conv2D(16, (3, 3), activation='elu', kernel_initializer='he_normal', padding='same') (c6)\n",
        "    #c6 = MaxPooling2D((2, 2)) (c6)\n",
        "\n",
        "    #Flatten layers\n",
        "    f2 = Flatten()(c1)\n",
        "    f4 = Flatten()(c3)\n",
        "    f6 = Flatten()(c5)\n",
        "\n",
        "    c7 = concatenate([f2, f4, f6])     \n",
        "        \n",
        "    c7 = Dense(16, activation='relu')(c7)\n",
        "    c7 = Dropout(maxR)(c7)   \n",
        "\n",
        "    c7 = Dense(8, activation='relu')(c7)\n",
        "    c7 = Dropout(maxR)(c7)  \n",
        "\n",
        "    c7 = Dense(4, activation='relu')(c7)\n",
        "    c7 = Dropout(maxR)(c7)    \n",
        "       \n",
        "    outputs = Dense(nb_classes, activation='softmax')(c7)\n",
        "\n",
        "    model = Model(inputs=[inputsA, inputsC, inputsS], outputs=[outputs])\n",
        "    model.compile(optimizer='adam', loss='sparse_categorical_crossentropy', metrics=['accuracy'])\n",
        "        \n",
        "    return model"
      ],
      "execution_count": 0,
      "outputs": []
    },
    {
      "cell_type": "code",
      "metadata": {
        "id": "THAJVBiTGcM2",
        "colab_type": "code",
        "colab": {}
      },
      "source": [
        "M_Layer1= get_Layer_1('Axial')\n",
        "M_Layer1.summary()\n",
        "earlystopper = EarlyStopping(patience=5, verbose=1)\n",
        "checkpointer = ModelCheckpoint('Layer_1.h5', verbose=1, save_best_only=True)\n",
        "resultsL1 = M_Layer1.fit(A_train, y_train, validation_split=0.1, batch_size=16, epochs=50, callbacks=[earlystopper, checkpointer])"
      ],
      "execution_count": 0,
      "outputs": []
    },
    {
      "cell_type": "code",
      "metadata": {
        "id": "VUnemUO7qWqV",
        "colab_type": "code",
        "colab": {}
      },
      "source": [
        "M_TSCA=get_model_Tree_SCA()\n",
        "M_TSCA.summary()\n",
        "earlystopper = EarlyStopping(patience=5, verbose=1)\n",
        "checkpointer = ModelCheckpoint('M_TSCA.h5', verbose=1, save_best_only=True)\n",
        "resultsTSCA = M_TSCA.fit([A_train, C_train, S_train], y_train, validation_split=0.1, batch_size=16, epochs=50, callbacks=[earlystopper, checkpointer])"
      ],
      "execution_count": 0,
      "outputs": []
    },
    {
      "cell_type": "code",
      "metadata": {
        "id": "Y0QMy15cn8MM",
        "colab_type": "code",
        "outputId": "417ad9a6-d99e-4925-b70f-7abbe448de4e",
        "colab": {
          "base_uri": "https://localhost:8080/",
          "height": 1000
        }
      },
      "source": [
        "M_Axial=get_model_1('Axial')\n",
        "M_Axial.summary()\n",
        "earlystopper = EarlyStopping(patience=5, verbose=1)\n",
        "checkpointer = ModelCheckpoint('Axial_1.h5', verbose=1, save_best_only=True)\n",
        "resultsA = M_Axial.fit(A_train, y_train, validation_split=0.1, batch_size=16, epochs=50, callbacks=[earlystopper, checkpointer])"
      ],
      "execution_count": 0,
      "outputs": [
        {
          "output_type": "stream",
          "text": [
            "Axial model shape  (73, 91, 3)\n",
            "Model: \"model\"\n",
            "_________________________________________________________________\n",
            "Layer (type)                 Output Shape              Param #   \n",
            "=================================================================\n",
            "input_1 (InputLayer)         [(None, 73, 91, 3)]       0         \n",
            "_________________________________________________________________\n",
            "lambda (Lambda)              (None, 73, 91, 3)         0         \n",
            "_________________________________________________________________\n",
            "conv2d (Conv2D)              (None, 73, 91, 16)        448       \n",
            "_________________________________________________________________\n",
            "dropout (Dropout)            (None, 73, 91, 16)        0         \n",
            "_________________________________________________________________\n",
            "conv2d_1 (Conv2D)            (None, 73, 91, 16)        2320      \n",
            "_________________________________________________________________\n",
            "max_pooling2d (MaxPooling2D) (None, 36, 45, 16)        0         \n",
            "_________________________________________________________________\n",
            "flatten (Flatten)            (None, 25920)             0         \n",
            "_________________________________________________________________\n",
            "dense (Dense)                (None, 16)                414736    \n",
            "_________________________________________________________________\n",
            "dropout_1 (Dropout)          (None, 16)                0         \n",
            "_________________________________________________________________\n",
            "dense_1 (Dense)              (None, 8)                 136       \n",
            "_________________________________________________________________\n",
            "dropout_2 (Dropout)          (None, 8)                 0         \n",
            "_________________________________________________________________\n",
            "dense_2 (Dense)              (None, 4)                 36        \n",
            "_________________________________________________________________\n",
            "dropout_3 (Dropout)          (None, 4)                 0         \n",
            "_________________________________________________________________\n",
            "dense_3 (Dense)              (None, 2)                 10        \n",
            "=================================================================\n",
            "Total params: 417,686\n",
            "Trainable params: 417,686\n",
            "Non-trainable params: 0\n",
            "_________________________________________________________________\n",
            "Train on 16470 samples, validate on 1831 samples\n",
            "Epoch 1/50\n",
            "16448/16470 [============================>.] - ETA: 0s - loss: 0.4217 - acc: 0.8920\n",
            "Epoch 00001: val_loss improved from inf to 0.34129, saving model to Axial_1.h5\n",
            "16470/16470 [==============================] - 7s 413us/sample - loss: 0.4214 - acc: 0.8920 - val_loss: 0.3413 - val_acc: 0.8940\n",
            "Epoch 2/50\n",
            "16400/16470 [============================>.] - ETA: 0s - loss: 0.3433 - acc: 0.8992\n",
            "Epoch 00002: val_loss improved from 0.34129 to 0.33715, saving model to Axial_1.h5\n",
            "16470/16470 [==============================] - 6s 393us/sample - loss: 0.3429 - acc: 0.8994 - val_loss: 0.3371 - val_acc: 0.8951\n",
            "Epoch 3/50\n",
            "16368/16470 [============================>.] - ETA: 0s - loss: 0.3332 - acc: 0.8992\n",
            "Epoch 00003: val_loss improved from 0.33715 to 0.33667, saving model to Axial_1.h5\n",
            "16470/16470 [==============================] - 6s 389us/sample - loss: 0.3328 - acc: 0.8994 - val_loss: 0.3367 - val_acc: 0.8951\n",
            "Epoch 4/50\n",
            "16384/16470 [============================>.] - ETA: 0s - loss: 0.3293 - acc: 0.8992\n",
            "Epoch 00004: val_loss improved from 0.33667 to 0.33587, saving model to Axial_1.h5\n",
            "16470/16470 [==============================] - 7s 396us/sample - loss: 0.3288 - acc: 0.8994 - val_loss: 0.3359 - val_acc: 0.8957\n",
            "Epoch 5/50\n",
            "16352/16470 [============================>.] - ETA: 0s - loss: 0.3270 - acc: 0.8996\n",
            "Epoch 00005: val_loss improved from 0.33587 to 0.33575, saving model to Axial_1.h5\n",
            "16470/16470 [==============================] - 6s 392us/sample - loss: 0.3276 - acc: 0.8994 - val_loss: 0.3357 - val_acc: 0.8957\n",
            "Epoch 6/50\n",
            "16416/16470 [============================>.] - ETA: 0s - loss: 0.3267 - acc: 0.8995\n",
            "Epoch 00006: val_loss improved from 0.33575 to 0.33560, saving model to Axial_1.h5\n",
            "16470/16470 [==============================] - 6s 393us/sample - loss: 0.3269 - acc: 0.8994 - val_loss: 0.3356 - val_acc: 0.8957\n",
            "Epoch 7/50\n",
            "16448/16470 [============================>.] - ETA: 0s - loss: 0.3267 - acc: 0.8995\n",
            "Epoch 00007: val_loss improved from 0.33560 to 0.33550, saving model to Axial_1.h5\n",
            "16470/16470 [==============================] - 6s 389us/sample - loss: 0.3269 - acc: 0.8994 - val_loss: 0.3355 - val_acc: 0.8957\n",
            "Epoch 8/50\n",
            " 9360/16470 [================>.............] - ETA: 2s - loss: 0.3285 - acc: 0.8985"
          ],
          "name": "stdout"
        }
      ]
    },
    {
      "cell_type": "code",
      "metadata": {
        "id": "AU4F7U7lJ-gU",
        "colab_type": "code",
        "colab": {}
      },
      "source": [
        "M_Coronal=get_model_1('Coronal')\n",
        "M_Coronal.summary()\n",
        "earlystopper = EarlyStopping(patience=5, verbose=1)\n",
        "checkpointer = ModelCheckpoint('Coronal_1.h5', verbose=1, save_best_only=True)\n",
        "resultsC = M_Coronal.fit(C_train, y_train, validation_split=0.1, batch_size=16, epochs=50, callbacks=[earlystopper, checkpointer])"
      ],
      "execution_count": 0,
      "outputs": []
    },
    {
      "cell_type": "code",
      "metadata": {
        "id": "54UCr6Wvjrwr",
        "colab_type": "code",
        "colab": {}
      },
      "source": [
        "M_Saggital=get_model_1('Saggital')\n",
        "M_Saggital.summary()\n",
        "earlystopper = EarlyStopping(patience=5, verbose=1)\n",
        "checkpointer = ModelCheckpoint('Saggital_1.h5', verbose=1, save_best_only=True)\n",
        "resultsS = M_Saggital.fit(S_train, y_train, validation_split=0.1, batch_size=16, epochs=50, callbacks=[earlystopper, checkpointer])"
      ],
      "execution_count": 0,
      "outputs": []
    },
    {
      "cell_type": "code",
      "metadata": {
        "id": "iaXFcqcmy9Q2",
        "colab_type": "code",
        "colab": {}
      },
      "source": [
        "M_SCA=get_model_SCA()\n",
        "M_SCA.summary()\n",
        "earlystopper = EarlyStopping(patience=5, verbose=1)\n",
        "checkpointer = ModelCheckpoint('M_SCA1.h5', verbose=1, save_best_only=True)\n",
        "resultsSCA = M_SCA.fit([S_train, C_train, A_train], y_train, validation_split=0.1, batch_size=16, epochs=50, callbacks=[earlystopper, checkpointer])"
      ],
      "execution_count": 0,
      "outputs": []
    }
  ]
}