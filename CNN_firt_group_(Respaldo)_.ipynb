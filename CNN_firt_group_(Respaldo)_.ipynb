{
  "nbformat": 4,
  "nbformat_minor": 0,
  "metadata": {
    "colab": {
      "name": "CNN - firt group (Respaldo) .ipynb",
      "provenance": [],
      "collapsed_sections": [],
      "toc_visible": true,
      "include_colab_link": true
    },
    "kernelspec": {
      "name": "python3",
      "display_name": "Python 3"
    },
    "accelerator": "GPU"
  },
  "cells": [
    {
      "cell_type": "markdown",
      "metadata": {
        "id": "view-in-github",
        "colab_type": "text"
      },
      "source": [
        "<a href=\"https://colab.research.google.com/github/LxMera/Convolutional-Neural-Network-for-the-classification-of-independent-components-of-rs-fMRI/blob/master/CNN_firt_group_(Respaldo)_.ipynb\" target=\"_parent\"><img src=\"https://colab.research.google.com/assets/colab-badge.svg\" alt=\"Open In Colab\"/></a>"
      ]
    },
    {
      "cell_type": "markdown",
      "metadata": {
        "id": "3HYdNkIx1Td5",
        "colab_type": "text"
      },
      "source": [
        "### Libraries"
      ]
    },
    {
      "cell_type": "code",
      "metadata": {
        "id": "zHIGHVJD1RvV",
        "colab_type": "code",
        "outputId": "5087fd9b-83a2-41d1-eb6b-6efd8773fa2c",
        "colab": {
          "base_uri": "https://localhost:8080/",
          "height": 64
        }
      },
      "source": [
        "import os\n",
        "import cv2\n",
        "import sys\n",
        "import glob\n",
        "import random\n",
        "import warnings\n",
        "import numpy as np\n",
        "import pandas as pd\n",
        "import scipy.io as sio\n",
        "import tensorflow as tf\n",
        "from itertools import chain\n",
        "import matplotlib.pyplot as plt\n",
        "from skimage.transform import resize\n",
        "from skimage.morphology import label\n",
        "from tensorflow.keras.layers import Input\n",
        "from tensorflow.keras import backend as K\n",
        "from tensorflow.keras.layers import concatenate\n",
        "from sklearn.preprocessing import StandardScaler\n",
        "from tensorflow.keras.layers import MaxPooling2D\n",
        "from tensorflow.keras.layers import Dropout, Lambda\n",
        "from tensorflow.keras.models import Model, load_model\n",
        "from tensorflow.keras.layers import Conv2D, Conv2DTranspose\n",
        "from tensorflow.keras.layers import Flatten, Dense, Activation\n",
        "from tensorflow.keras.callbacks import EarlyStopping, ModelCheckpoint\n",
        "from skimage.io import imread, imshow, imread_collection, concatenate_images"
      ],
      "execution_count": 1,
      "outputs": [
        {
          "output_type": "display_data",
          "data": {
            "text/html": [
              "<p style=\"color: red;\">\n",
              "The default version of TensorFlow in Colab will soon switch to TensorFlow 2.x.<br>\n",
              "We recommend you <a href=\"https://www.tensorflow.org/guide/migrate\" target=\"_blank\">upgrade</a> now \n",
              "or ensure your notebook will continue to use TensorFlow 1.x via the <code>%tensorflow_version 1.x</code> magic:\n",
              "<a href=\"https://colab.research.google.com/notebooks/tensorflow_version.ipynb\" target=\"_blank\">more info</a>.</p>\n"
            ],
            "text/plain": [
              "<IPython.core.display.HTML object>"
            ]
          },
          "metadata": {
            "tags": []
          }
        }
      ]
    },
    {
      "cell_type": "markdown",
      "metadata": {
        "id": "_mWUE9Ji0FuK",
        "colab_type": "text"
      },
      "source": [
        "### Accesses to data"
      ]
    },
    {
      "cell_type": "code",
      "metadata": {
        "id": "iFm-en3B0fY9",
        "colab_type": "code",
        "colab": {
          "base_uri": "https://localhost:8080/",
          "height": 124
        },
        "outputId": "4c101730-811b-4b8c-9e6c-9bbb427bdee4"
      },
      "source": [
        "from google.colab import drive\n",
        "drive.mount('/content/drive')"
      ],
      "execution_count": 2,
      "outputs": [
        {
          "output_type": "stream",
          "text": [
            "Go to this URL in a browser: https://accounts.google.com/o/oauth2/auth?client_id=947318989803-6bn6qk8qdgf4n4g3pfee6491hc0brc4i.apps.googleusercontent.com&redirect_uri=urn%3aietf%3awg%3aoauth%3a2.0%3aoob&response_type=code&scope=email%20https%3a%2f%2fwww.googleapis.com%2fauth%2fdocs.test%20https%3a%2f%2fwww.googleapis.com%2fauth%2fdrive%20https%3a%2f%2fwww.googleapis.com%2fauth%2fdrive.photos.readonly%20https%3a%2f%2fwww.googleapis.com%2fauth%2fpeopleapi.readonly\n",
            "\n",
            "Enter your authorization code:\n",
            "··········\n",
            "Mounted at /content/drive\n"
          ],
          "name": "stdout"
        }
      ]
    },
    {
      "cell_type": "markdown",
      "metadata": {
        "id": "oEvbqWtC0_KM",
        "colab_type": "text"
      },
      "source": [
        "### Directory"
      ]
    },
    {
      "cell_type": "code",
      "metadata": {
        "id": "mbFEcvKT-78G",
        "colab_type": "code",
        "outputId": "b0b37dba-12d3-4675-d6da-68518ca1fa21",
        "colab": {
          "base_uri": "https://localhost:8080/",
          "height": 34
        }
      },
      "source": [
        "os.system('cp drive/My\\ Drive/HumanProyec2/1HCP_hp2000/TimeF.mat Time.mat')\n",
        "os.system('cp drive/My\\ Drive/HumanProyec2/1HCP_hp2000/OrderF.mat Order.mat')\n",
        "os.system('cp drive/My\\ Drive/HumanProyec2/1HCP_hp2000/LabelsF.mat Labels.mat')\n",
        "os.system('cp drive/My\\ Drive/HumanProyec3/HumanProyec1.zip HumanProyec1.zip')\n",
        "os.system('cp drive/My\\ Drive/HumanProyec3/HumanProyec2.zip HumanProyec2.zip')\n",
        "os.system('cp drive/My\\ Drive/HumanProyec3/HumanProyec3.zip HumanProyec3.zip')\n",
        "os.system('cp drive/My\\ Drive/HumanProyec3/HumanProyec4.zip HumanProyec4.zip')\n",
        "os.system('cp drive/My\\ Drive/HumanProyec3/HumanProyec5.zip HumanProyec5.zip')"
      ],
      "execution_count": 3,
      "outputs": [
        {
          "output_type": "execute_result",
          "data": {
            "text/plain": [
              "0"
            ]
          },
          "metadata": {
            "tags": []
          },
          "execution_count": 3
        }
      ]
    },
    {
      "cell_type": "code",
      "metadata": {
        "id": "v53w7DwmAmlt",
        "colab_type": "code",
        "outputId": "937840e9-b743-4246-9d63-4a9ec5dc80b6",
        "colab": {
          "base_uri": "https://localhost:8080/",
          "height": 34
        }
      },
      "source": [
        "os.system('unzip HumanProyec1.zip'), os.system('rm -r HumanProyec1.zip')\n",
        "os.system('unzip HumanProyec2.zip'), os.system('rm -r HumanProyec2.zip')\n",
        "os.system('unzip HumanProyec3.zip'), os.system('rm -r HumanProyec3.zip')\n",
        "os.system('unzip HumanProyec4.zip'), os.system('rm -r HumanProyec4.zip')\n",
        "os.system('unzip HumanProyec5.zip'), os.system('rm -r HumanProyec5.zip')"
      ],
      "execution_count": 4,
      "outputs": [
        {
          "output_type": "execute_result",
          "data": {
            "text/plain": [
              "(0, 0)"
            ]
          },
          "metadata": {
            "tags": []
          },
          "execution_count": 4
        }
      ]
    },
    {
      "cell_type": "code",
      "metadata": {
        "id": "UjHzK5y21952",
        "colab_type": "code",
        "outputId": "62e577cc-c319-40f1-cef7-ac81ffc4fee9",
        "colab": {
          "base_uri": "https://localhost:8080/",
          "height": 52
        }
      },
      "source": [
        "FOLD=glob.glob('HCP_hp2000/*')\n",
        "DATA=glob.glob('*.mat')\n",
        "\n",
        "print(FOLD)\n",
        "print(DATA[-1])"
      ],
      "execution_count": 5,
      "outputs": [
        {
          "output_type": "stream",
          "text": [
            "['HCP_hp2000/C_AXI', 'HCP_hp2000/C_BLU', 'HCP_hp2000/BLU', 'HCP_hp2000/AXI', 'HCP_hp2000/PCA', 'HCP_hp2000/COM', 'HCP_hp2000/C_PCA', 'HCP_hp2000/C_COM']\n",
            "Order.mat\n"
          ],
          "name": "stdout"
        }
      ]
    },
    {
      "cell_type": "code",
      "metadata": {
        "id": "OyjKRK13706h",
        "colab_type": "code",
        "outputId": "415faf1e-18b7-4961-d0cd-202a5dcdb3f7",
        "colab": {
          "base_uri": "https://localhost:8080/",
          "height": 69
        }
      },
      "source": [
        "label=sio.loadmat('Labels.mat')['labels'][0]\n",
        "order=sio.loadmat('Order.mat')['order']\n",
        "timeS=sio.loadmat('Time.mat')['series']\n",
        "\n",
        "print('Labels per component     \\t', np.shape(label))\n",
        "print('Order of images          \\t', np.shape(order))\n",
        "print('Points time per component\\t', np.shape(timeS))"
      ],
      "execution_count": 6,
      "outputs": [
        {
          "output_type": "stream",
          "text": [
            "Labels per component     \t (22877,)\n",
            "Order of images          \t (22877,)\n",
            "Points time per component\t (1200, 22877)\n"
          ],
          "name": "stdout"
        }
      ]
    },
    {
      "cell_type": "markdown",
      "metadata": {
        "id": "sTmxPH2I_7cI",
        "colab_type": "text"
      },
      "source": [
        "### Images parameters"
      ]
    },
    {
      "cell_type": "code",
      "metadata": {
        "id": "zKVKjCjG_bjP",
        "colab_type": "code",
        "colab": {}
      },
      "source": [
        "DIR='drive/My Drive/ResultadosHP'\n",
        "slic=['/Axial','/Coronal','/Saggital']\n",
        "SAG=73\n",
        "COR=91\n",
        "AXI=77\n",
        "\n",
        "SAG=75\n",
        "COR=91\n",
        "AXI=75\n",
        "\n",
        "#SAG=57\n",
        "#COR=73\n",
        "#AXI=57\n",
        "\n",
        "IMG_CHANNELS = 3\n",
        "nb_classes=2\n",
        "maxR=0.4\n",
        "shap={'Axial': (SAG, COR, IMG_CHANNELS), 'Coronal': (SAG, AXI, IMG_CHANNELS), 'Saggital': (AXI, COR, IMG_CHANNELS)}"
      ],
      "execution_count": 0,
      "outputs": []
    },
    {
      "cell_type": "markdown",
      "metadata": {
        "id": "84TwPXilsOWR",
        "colab_type": "text"
      },
      "source": [
        "### Training and test data"
      ]
    },
    {
      "cell_type": "code",
      "metadata": {
        "id": "JKye2ni1AOlp",
        "colab_type": "code",
        "outputId": "4db62880-f180-438b-bce5-13eddaa220e5",
        "colab": {
          "base_uri": "https://localhost:8080/",
          "height": 86
        }
      },
      "source": [
        "per=0.8\n",
        "per=int(np.shape(label)[0]*0.8)\n",
        "\n",
        "TEST_PATH=order[per:]\n",
        "TRAIN_PATH=order[:per]\n",
        "\n",
        "y_test =label[per:]\n",
        "y_train=label[:per]\n",
        "\n",
        "print('training labels ', y_train.shape)\n",
        "print('test labels     ', y_test.shape)\n",
        "\n",
        "print('training maps   ', TRAIN_PATH.shape)\n",
        "print('test maps       ', TEST_PATH.shape)"
      ],
      "execution_count": 62,
      "outputs": [
        {
          "output_type": "stream",
          "text": [
            "training labels  (18301,)\n",
            "test labels      (4576,)\n",
            "training maps    (18301,)\n",
            "test maps        (4576,)\n"
          ],
          "name": "stdout"
        }
      ]
    },
    {
      "cell_type": "code",
      "metadata": {
        "id": "u3IySaQ2iTOH",
        "colab_type": "code",
        "colab": {}
      },
      "source": [
        "def showSlices(ima1, ima2, ima3):\n",
        "  plt.figure(figsize=(20,5))\n",
        "  plt.subplot(1,3,1)\n",
        "  plt.imshow(ima1)\n",
        "  plt.title('Saggital')\n",
        "  plt.axis('off')\n",
        "  plt.subplot(1,3,2)\n",
        "  plt.imshow(ima2)\n",
        "  plt.title('Coronal')\n",
        "  plt.axis('off')\n",
        "  plt.subplot(1,3,3)\n",
        "  plt.imshow(ima3)\n",
        "  plt.title('Axial')\n",
        "  plt.axis('off')\n",
        "\n",
        "  print('Saggital shape ', np.shape(ima1))\n",
        "  print('Coronal shape ', np.shape(ima2))\n",
        "  print('Axial shape ', np.shape(ima3))"
      ],
      "execution_count": 0,
      "outputs": []
    },
    {
      "cell_type": "markdown",
      "metadata": {
        "id": "99UVwLQtseEg",
        "colab_type": "text"
      },
      "source": [
        "### Training images"
      ]
    },
    {
      "cell_type": "code",
      "metadata": {
        "id": "hUZU_5NME3-x",
        "colab_type": "code",
        "outputId": "3bcce970-0a34-43df-ac42-549b58b2ce79",
        "colab": {
          "base_uri": "https://localhost:8080/",
          "height": 34
        }
      },
      "source": [
        "S_train = np.zeros((len(TRAIN_PATH), AXI, COR, 3), dtype=np.uint8)\n",
        "C_train = np.zeros((len(TRAIN_PATH), SAG, AXI, 3), dtype=np.uint8)\n",
        "A_train = np.zeros((len(TRAIN_PATH), SAG, COR, 3), dtype=np.uint8)\n",
        "\n",
        "cont=0\n",
        "loop=len(TRAIN_PATH)\n",
        "ni=1 #number of folder\n",
        "\n",
        "for n in range(loop):  \n",
        "  namea=FOLD[ni]+slic[0]+'/'+TRAIN_PATH[n].strip()+'.png'\n",
        "  namec=FOLD[ni]+slic[1]+'/'+TRAIN_PATH[n].strip()+'.png'\n",
        "  names=FOLD[ni]+slic[2]+'/'+TRAIN_PATH[n].strip()+'.png'\n",
        "  \n",
        "  imaa=cv2.imread(namea)\n",
        "  imac=cv2.imread(namec)\n",
        "  imas=cv2.imread(names)\n",
        "\n",
        "  sag=cv2.resize(imas, (AXI, COR), interpolation = cv2.INTER_AREA)\n",
        "  cor=cv2.resize(imac, (AXI, SAG), interpolation = cv2.INTER_AREA)\n",
        "  axi=cv2.resize(imaa, (COR, SAG), interpolation = cv2.INTER_AREA)\n",
        "\n",
        "  S_train[n]=np.rot90(sag)\n",
        "  C_train[n]=cor\n",
        "  A_train[n]=axi\n",
        "\n",
        "  cont=cont+1\n",
        "  print('\\rProcess ', round(cont*100/loop,2), '%...' , end =\"\")"
      ],
      "execution_count": 63,
      "outputs": [
        {
          "output_type": "stream",
          "text": [
            "Process  100.0 %..."
          ],
          "name": "stdout"
        }
      ]
    },
    {
      "cell_type": "markdown",
      "metadata": {
        "id": "y5d9VZbzsiF7",
        "colab_type": "text"
      },
      "source": [
        "### Sample images (training)"
      ]
    },
    {
      "cell_type": "code",
      "metadata": {
        "colab_type": "code",
        "outputId": "3ae1c644-5fae-4c7b-ca08-23e936bf4aa7",
        "id": "0SFXoffwzfhh",
        "colab": {
          "base_uri": "https://localhost:8080/",
          "height": 725
        }
      },
      "source": [
        "signal=np.random.choice(np.where(y_train==1)[0])\n",
        "noise=np.random.choice(np.where(y_train==0)[0])\n",
        "showSlices(S_train[signal], C_train[signal], A_train[signal])\n",
        "showSlices(S_train[noise], C_train[noise], A_train[noise])"
      ],
      "execution_count": 64,
      "outputs": [
        {
          "output_type": "stream",
          "text": [
            "Saggital shape  (75, 91, 3)\n",
            "Coronal shape  (75, 75, 3)\n",
            "Axial shape  (75, 91, 3)\n",
            "Saggital shape  (75, 91, 3)\n",
            "Coronal shape  (75, 75, 3)\n",
            "Axial shape  (75, 91, 3)\n"
          ],
          "name": "stdout"
        },
        {
          "output_type": "display_data",
          "data": {
            "image/png": "[encoded data removed]",
            "text/plain": [
              "<Figure size 1440x360 with 3 Axes>"
            ]
          },
          "metadata": {
            "tags": []
          }
        },
        {
          "output_type": "display_data",
          "data": {
            "image/png": "[encoded data removed]",
            "text/plain": [
              "<Figure size 1440x360 with 3 Axes>"
            ]
          },
          "metadata": {
            "tags": []
          }
        }
      ]
    },
    {
      "cell_type": "markdown",
      "metadata": {
        "id": "dUMPyJjqsubw",
        "colab_type": "text"
      },
      "source": [
        "### Test images"
      ]
    },
    {
      "cell_type": "code",
      "metadata": {
        "id": "ljj5puiLG8Nb",
        "colab_type": "code",
        "outputId": "0d5a3606-8b62-402a-adf0-be18142d1132",
        "colab": {
          "base_uri": "https://localhost:8080/",
          "height": 34
        }
      },
      "source": [
        "S_test = np.zeros((len(TEST_PATH), AXI, COR, 3), dtype=np.uint8)\n",
        "C_test = np.zeros((len(TEST_PATH), SAG, AXI, 3), dtype=np.uint8)\n",
        "A_test = np.zeros((len(TEST_PATH), SAG, COR, 3), dtype=np.uint8)\n",
        "\n",
        "cont=0\n",
        "loop=len(TEST_PATH)\n",
        "\n",
        "for n in range(loop):  \n",
        "  namea=FOLD[ni]+slic[0]+'/'+TEST_PATH[n].strip()+'.png'\n",
        "  namec=FOLD[ni]+slic[1]+'/'+TEST_PATH[n].strip()+'.png'\n",
        "  names=FOLD[ni]+slic[2]+'/'+TEST_PATH[n].strip()+'.png'\n",
        "  \n",
        "  imaa=cv2.imread(namea)\n",
        "  imac=cv2.imread(namec)\n",
        "  imas=cv2.imread(names)\n",
        "\n",
        "  sag=cv2.resize(imas, (AXI, COR), interpolation = cv2.INTER_AREA)\n",
        "  cor=cv2.resize(imac, (AXI, SAG), interpolation = cv2.INTER_AREA)\n",
        "  axi=cv2.resize(imaa, (COR, SAG), interpolation = cv2.INTER_AREA)\n",
        "\n",
        "  S_test[n]=np.rot90(sag)\n",
        "  C_test[n]=cor\n",
        "  A_test[n]=axi\n",
        "\n",
        "  cont=cont+1\n",
        "  print('\\rProcess ', round(cont*100/loop,2), '%...' , end =\"\")"
      ],
      "execution_count": 65,
      "outputs": [
        {
          "output_type": "stream",
          "text": [
            "Process  100.0 %..."
          ],
          "name": "stdout"
        }
      ]
    },
    {
      "cell_type": "markdown",
      "metadata": {
        "id": "fouDtnUos6rR",
        "colab_type": "text"
      },
      "source": [
        "### sample images (test)"
      ]
    },
    {
      "cell_type": "code",
      "metadata": {
        "id": "FsMx96P2ihW8",
        "colab_type": "code",
        "outputId": "735edc0b-ae8f-4207-b0e1-7c3026cfa358",
        "colab": {
          "base_uri": "https://localhost:8080/",
          "height": 725
        }
      },
      "source": [
        "signal=np.random.choice(np.where(y_test==1)[0])\n",
        "noise=np.random.choice(np.where(y_test==0)[0])\n",
        "showSlices(S_test[signal], C_test[signal], A_test[signal])\n",
        "showSlices(S_test[noise], C_test[noise], A_test[noise])"
      ],
      "execution_count": 66,
      "outputs": [
        {
          "output_type": "stream",
          "text": [
            "Saggital shape  (75, 91, 3)\n",
            "Coronal shape  (75, 75, 3)\n",
            "Axial shape  (75, 91, 3)\n",
            "Saggital shape  (75, 91, 3)\n",
            "Coronal shape  (75, 75, 3)\n",
            "Axial shape  (75, 91, 3)\n"
          ],
          "name": "stdout"
        },
        {
          "output_type": "display_data",
          "data": {
            "image/png": "[encoded data removed]",
            "text/plain": [
              "<Figure size 1440x360 with 3 Axes>"
            ]
          },
          "metadata": {
            "tags": []
          }
        },
        {
          "output_type": "display_data",
          "data": {
            "image/png": "[encoded data removed]",
            "text/plain": [
              "<Figure size 1440x360 with 3 Axes>"
            ]
          },
          "metadata": {
            "tags": []
          }
        }
      ]
    },
    {
      "cell_type": "code",
      "metadata": {
        "id": "GobqjcS9INJe",
        "colab_type": "code",
        "colab": {}
      },
      "source": [
        "def get_model_1(Slic):\n",
        "\n",
        "    print(Slic+' model shape ', shap[Slic])\n",
        "    tf.reset_default_graph()\n",
        "    tf.keras.backend.clear_session()    \n",
        "    \n",
        "    inputs = Input(shap[Slic])\n",
        "    s = Lambda(lambda x: x / 255) (inputs)\n",
        "\n",
        "    c1 = Conv2D(16, (3, 3), activation='elu', kernel_initializer='he_normal', padding='same') (s)\n",
        "    c1 = Dropout(maxR) (c1)\n",
        "\n",
        "    c1 = Conv2D(16, (3, 3), activation='elu', kernel_initializer='he_normal', padding='same') (c1)\n",
        "    c1 = MaxPooling2D((2, 2)) (c1)    \n",
        "    \n",
        "    #Flatten layers\n",
        "    c6 = Flatten()(c1)\n",
        "        \n",
        "    c6 = Dense(16, activation='relu')(c6)\n",
        "    c6 = Dropout(maxR)(c6)   \n",
        "\n",
        "    c6 = Dense(8, activation='relu')(c6)\n",
        "    c6 = Dropout(maxR)(c6)  \n",
        "\n",
        "    c6 = Dense(4, activation='relu')(c6)\n",
        "    c6 = Dropout(maxR)(c6)    \n",
        "       \n",
        "    outputs = Dense(nb_classes, activation='softmax')(c6)\n",
        "\n",
        "    model = Model(inputs=[inputs], outputs=[outputs])\n",
        "    model.compile(optimizer='adam', loss='sparse_categorical_crossentropy', metrics=['accuracy'])\n",
        "        \n",
        "    return model"
      ],
      "execution_count": 0,
      "outputs": []
    },
    {
      "cell_type": "code",
      "metadata": {
        "id": "pvzUt0Lcthh7",
        "colab_type": "code",
        "colab": {}
      },
      "source": [
        "def get_model_SCA():\n",
        "    tf.reset_default_graph()\n",
        "    tf.keras.backend.clear_session()    \n",
        "    \n",
        "    inputsA = Input(shap['Axial'])\n",
        "    sa = Lambda(lambda x: x / 255) (inputsA)\n",
        "\n",
        "    inputsC = Input(shap['Coronal'])\n",
        "    sc = Lambda(lambda x: x / 255) (inputsC)\n",
        "\n",
        "    inputsS = Input(shap['Saggital'])\n",
        "    ss = Lambda(lambda x: x / 255) (inputsS)\n",
        "\n",
        "    s = concatenate([sa, sc, ss], axis=2)\n",
        "\n",
        "    c1 = Conv2D(16, (3, 3), activation='elu', kernel_initializer='he_normal', padding='same') (s)\n",
        "    c1 = Dropout(maxR) (c1)\n",
        "\n",
        "    c1 = Conv2D(16, (3, 3), activation='elu', kernel_initializer='he_normal', padding='same') (c1)\n",
        "    c1 = MaxPooling2D((2, 2)) (c1)    \n",
        "    \n",
        "    #Flatten layers\n",
        "    c6 = Flatten()(c1)\n",
        "        \n",
        "    c6 = Dense(16, activation='relu')(c6)\n",
        "    c6 = Dropout(maxR)(c6)   \n",
        "\n",
        "    c6 = Dense(8, activation='relu')(c6)\n",
        "    c6 = Dropout(maxR)(c6)  \n",
        "\n",
        "    c6 = Dense(4, activation='relu')(c6)\n",
        "    c6 = Dropout(maxR)(c6)    \n",
        "       \n",
        "    outputs = Dense(nb_classes, activation='softmax')(c6)\n",
        "\n",
        "    model = Model(inputs=[inputsA, inputsC, inputsS], outputs=[outputs])\n",
        "    model.compile(optimizer='adam', loss='sparse_categorical_crossentropy', metrics=['accuracy'])\n",
        "        \n",
        "    return model"
      ],
      "execution_count": 0,
      "outputs": []
    },
    {
      "cell_type": "code",
      "metadata": {
        "id": "AL_F0t--pgG5",
        "colab_type": "code",
        "colab": {}
      },
      "source": [
        "def get_model_Tree_SCA():\n",
        "    tf.reset_default_graph()\n",
        "    tf.keras.backend.clear_session()    \n",
        "    \n",
        "    inputsA = Input(shap['Axial'])\n",
        "    sa = Lambda(lambda x: x / 255) (inputsA)\n",
        "    c1 = Conv2D(16, (3, 3), activation='elu', kernel_initializer='he_normal', padding='same') (sa)\n",
        "    c1 = Dropout(maxR) (c1)\n",
        "    c1 = Conv2D(16, (3, 3), activation='elu', kernel_initializer='he_normal', padding='same') (c1)\n",
        "    c1 = MaxPooling2D((2, 2)) (c1) \n",
        "\n",
        "    inputsC = Input(shap['Coronal'])\n",
        "    sc = Lambda(lambda x: x / 255) (inputsC)\n",
        "    c2 = Conv2D(16, (3, 3), activation='elu', kernel_initializer='he_normal', padding='same') (sc)\n",
        "    c2 = Dropout(maxR) (c2)\n",
        "    c2 = Conv2D(16, (3, 3), activation='elu', kernel_initializer='he_normal', padding='same') (c2)\n",
        "    c2 = MaxPooling2D((2, 2)) (c2)  \n",
        "\n",
        "    inputsS = Input(shap['Saggital'])\n",
        "    ss = Lambda(lambda x: x / 255) (inputsS)\n",
        "    c3 = Conv2D(16, (3, 3), activation='elu', kernel_initializer='he_normal', padding='same') (ss)\n",
        "    c3 = Dropout(maxR) (c3)\n",
        "    c3 = Conv2D(16, (3, 3), activation='elu', kernel_initializer='he_normal', padding='same') (c3)\n",
        "    c3 = MaxPooling2D((2, 2)) (c3)\n",
        "\n",
        "    s = concatenate([c1, c2, c3], axis=2)\n",
        "\n",
        "    c4 = Conv2D(16, (3, 3), activation='elu', kernel_initializer='he_normal', padding='same') (s)\n",
        "    c4 = Dropout(maxR) (c4)\n",
        "    c4 = Conv2D(16, (3, 3), activation='elu', kernel_initializer='he_normal', padding='same') (c4)\n",
        "    c4 = MaxPooling2D((2, 2)) (c4)   \n",
        "    \n",
        "    #Flatten layers\n",
        "    c6 = Flatten()(c4)\n",
        "        \n",
        "    c6 = Dense(16, activation='relu')(c6)\n",
        "    c6 = Dropout(maxR)(c6)   \n",
        "\n",
        "    c6 = Dense(8, activation='relu')(c6)\n",
        "    c6 = Dropout(maxR)(c6)  \n",
        "\n",
        "    c6 = Dense(4, activation='relu')(c6)\n",
        "    c6 = Dropout(maxR)(c6)    \n",
        "       \n",
        "    outputs = Dense(nb_classes, activation='softmax')(c6)\n",
        "\n",
        "    model = Model(inputs=[inputsA, inputsC, inputsS], outputs=[outputs])\n",
        "    model.compile(optimizer='adam', loss='sparse_categorical_crossentropy', metrics=['accuracy'])\n",
        "        \n",
        "    return model"
      ],
      "execution_count": 0,
      "outputs": []
    },
    {
      "cell_type": "code",
      "metadata": {
        "id": "VUnemUO7qWqV",
        "colab_type": "code",
        "colab": {
          "base_uri": "https://localhost:8080/",
          "height": 1000
        },
        "outputId": "19cfb91b-af88-4cc1-fcce-58c0a3e81f93"
      },
      "source": [
        "M_TSCA=get_model_Tree_SCA()\n",
        "M_TSCA.summary()\n",
        "earlystopper = EarlyStopping(patience=5, verbose=1)\n",
        "checkpointer = ModelCheckpoint('M_TSCA.h5', verbose=1, save_best_only=True)\n",
        "resultsTSCA = M_TSCA.fit([S_train, C_train, A_train], y_train, validation_split=0.1, batch_size=16, epochs=50, callbacks=[earlystopper, checkpointer])"
      ],
      "execution_count": 67,
      "outputs": [
        {
          "output_type": "stream",
          "text": [
            "Model: \"model\"\n",
            "__________________________________________________________________________________________________\n",
            "Layer (type)                    Output Shape         Param #     Connected to                     \n",
            "==================================================================================================\n",
            "input_1 (InputLayer)            [(None, 75, 91, 3)]  0                                            \n",
            "__________________________________________________________________________________________________\n",
            "input_2 (InputLayer)            [(None, 75, 75, 3)]  0                                            \n",
            "__________________________________________________________________________________________________\n",
            "input_3 (InputLayer)            [(None, 75, 91, 3)]  0                                            \n",
            "__________________________________________________________________________________________________\n",
            "lambda (Lambda)                 (None, 75, 91, 3)    0           input_1[0][0]                    \n",
            "__________________________________________________________________________________________________\n",
            "lambda_1 (Lambda)               (None, 75, 75, 3)    0           input_2[0][0]                    \n",
            "__________________________________________________________________________________________________\n",
            "lambda_2 (Lambda)               (None, 75, 91, 3)    0           input_3[0][0]                    \n",
            "__________________________________________________________________________________________________\n",
            "conv2d (Conv2D)                 (None, 75, 91, 16)   448         lambda[0][0]                     \n",
            "__________________________________________________________________________________________________\n",
            "conv2d_2 (Conv2D)               (None, 75, 75, 16)   448         lambda_1[0][0]                   \n",
            "__________________________________________________________________________________________________\n",
            "conv2d_4 (Conv2D)               (None, 75, 91, 16)   448         lambda_2[0][0]                   \n",
            "__________________________________________________________________________________________________\n",
            "dropout (Dropout)               (None, 75, 91, 16)   0           conv2d[0][0]                     \n",
            "__________________________________________________________________________________________________\n",
            "dropout_1 (Dropout)             (None, 75, 75, 16)   0           conv2d_2[0][0]                   \n",
            "__________________________________________________________________________________________________\n",
            "dropout_2 (Dropout)             (None, 75, 91, 16)   0           conv2d_4[0][0]                   \n",
            "__________________________________________________________________________________________________\n",
            "conv2d_1 (Conv2D)               (None, 75, 91, 16)   2320        dropout[0][0]                    \n",
            "__________________________________________________________________________________________________\n",
            "conv2d_3 (Conv2D)               (None, 75, 75, 16)   2320        dropout_1[0][0]                  \n",
            "__________________________________________________________________________________________________\n",
            "conv2d_5 (Conv2D)               (None, 75, 91, 16)   2320        dropout_2[0][0]                  \n",
            "__________________________________________________________________________________________________\n",
            "max_pooling2d (MaxPooling2D)    (None, 37, 45, 16)   0           conv2d_1[0][0]                   \n",
            "__________________________________________________________________________________________________\n",
            "max_pooling2d_1 (MaxPooling2D)  (None, 37, 37, 16)   0           conv2d_3[0][0]                   \n",
            "__________________________________________________________________________________________________\n",
            "max_pooling2d_2 (MaxPooling2D)  (None, 37, 45, 16)   0           conv2d_5[0][0]                   \n",
            "__________________________________________________________________________________________________\n",
            "concatenate (Concatenate)       (None, 37, 127, 16)  0           max_pooling2d[0][0]              \n",
            "                                                                 max_pooling2d_1[0][0]            \n",
            "                                                                 max_pooling2d_2[0][0]            \n",
            "__________________________________________________________________________________________________\n",
            "conv2d_6 (Conv2D)               (None, 37, 127, 16)  2320        concatenate[0][0]                \n",
            "__________________________________________________________________________________________________\n",
            "dropout_3 (Dropout)             (None, 37, 127, 16)  0           conv2d_6[0][0]                   \n",
            "__________________________________________________________________________________________________\n",
            "conv2d_7 (Conv2D)               (None, 37, 127, 16)  2320        dropout_3[0][0]                  \n",
            "__________________________________________________________________________________________________\n",
            "max_pooling2d_3 (MaxPooling2D)  (None, 18, 63, 16)   0           conv2d_7[0][0]                   \n",
            "__________________________________________________________________________________________________\n",
            "flatten (Flatten)               (None, 18144)        0           max_pooling2d_3[0][0]            \n",
            "__________________________________________________________________________________________________\n",
            "dense (Dense)                   (None, 16)           290320      flatten[0][0]                    \n",
            "__________________________________________________________________________________________________\n",
            "dropout_4 (Dropout)             (None, 16)           0           dense[0][0]                      \n",
            "__________________________________________________________________________________________________\n",
            "dense_1 (Dense)                 (None, 8)            136         dropout_4[0][0]                  \n",
            "__________________________________________________________________________________________________\n",
            "dropout_5 (Dropout)             (None, 8)            0           dense_1[0][0]                    \n",
            "__________________________________________________________________________________________________\n",
            "dense_2 (Dense)                 (None, 4)            36          dropout_5[0][0]                  \n",
            "__________________________________________________________________________________________________\n",
            "dropout_6 (Dropout)             (None, 4)            0           dense_2[0][0]                    \n",
            "__________________________________________________________________________________________________\n",
            "dense_3 (Dense)                 (None, 2)            10          dropout_6[0][0]                  \n",
            "==================================================================================================\n",
            "Total params: 303,446\n",
            "Trainable params: 303,446\n",
            "Non-trainable params: 0\n",
            "__________________________________________________________________________________________________\n",
            "Train on 16470 samples, validate on 1831 samples\n",
            "Epoch 1/50\n",
            "16464/16470 [============================>.] - ETA: 0s - loss: 0.3959 - acc: 0.8847\n",
            "Epoch 00001: val_loss improved from inf to 0.29964, saving model to M_TSCA.h5\n",
            "16470/16470 [==============================] - 15s 924us/sample - loss: 0.3958 - acc: 0.8848 - val_loss: 0.2996 - val_acc: 0.8951\n",
            "Epoch 2/50\n",
            "16464/16470 [============================>.] - ETA: 0s - loss: 0.3112 - acc: 0.8994\n",
            "Epoch 00002: val_loss improved from 0.29964 to 0.24772, saving model to M_TSCA.h5\n",
            "16470/16470 [==============================] - 14s 875us/sample - loss: 0.3112 - acc: 0.8994 - val_loss: 0.2477 - val_acc: 0.8951\n",
            "Epoch 3/50\n",
            "16416/16470 [============================>.] - ETA: 0s - loss: 0.3030 - acc: 0.8994\n",
            "Epoch 00003: val_loss did not improve from 0.24772\n",
            "16470/16470 [==============================] - 14s 867us/sample - loss: 0.3032 - acc: 0.8993 - val_loss: 0.2659 - val_acc: 0.8951\n",
            "Epoch 4/50\n",
            "16432/16470 [============================>.] - ETA: 0s - loss: 0.2973 - acc: 0.8995\n",
            "Epoch 00004: val_loss improved from 0.24772 to 0.23852, saving model to M_TSCA.h5\n",
            "16470/16470 [==============================] - 14s 871us/sample - loss: 0.2975 - acc: 0.8994 - val_loss: 0.2385 - val_acc: 0.8951\n",
            "Epoch 5/50\n",
            "16464/16470 [============================>.] - ETA: 0s - loss: 0.2997 - acc: 0.8993\n",
            "Epoch 00005: val_loss improved from 0.23852 to 0.23459, saving model to M_TSCA.h5\n",
            "16470/16470 [==============================] - 14s 872us/sample - loss: 0.2997 - acc: 0.8993 - val_loss: 0.2346 - val_acc: 0.8951\n",
            "Epoch 6/50\n",
            "16416/16470 [============================>.] - ETA: 0s - loss: 0.3018 - acc: 0.8995\n",
            "Epoch 00006: val_loss did not improve from 0.23459\n",
            "16470/16470 [==============================] - 14s 862us/sample - loss: 0.3022 - acc: 0.8993 - val_loss: 0.2491 - val_acc: 0.8951\n",
            "Epoch 7/50\n",
            "16464/16470 [============================>.] - ETA: 0s - loss: 0.2951 - acc: 0.8994\n",
            "Epoch 00007: val_loss did not improve from 0.23459\n",
            "16470/16470 [==============================] - 14s 865us/sample - loss: 0.2950 - acc: 0.8994 - val_loss: 0.2477 - val_acc: 0.8951\n",
            "Epoch 8/50\n",
            "16416/16470 [============================>.] - ETA: 0s - loss: 0.2940 - acc: 0.8995\n",
            "Epoch 00008: val_loss did not improve from 0.23459\n",
            "16470/16470 [==============================] - 14s 862us/sample - loss: 0.2942 - acc: 0.8994 - val_loss: 0.2555 - val_acc: 0.8951\n",
            "Epoch 9/50\n",
            "16464/16470 [============================>.] - ETA: 0s - loss: 0.2968 - acc: 0.8994\n",
            "Epoch 00009: val_loss did not improve from 0.23459\n",
            "16470/16470 [==============================] - 14s 865us/sample - loss: 0.2969 - acc: 0.8994 - val_loss: 0.2407 - val_acc: 0.8951\n",
            "Epoch 10/50\n",
            "16432/16470 [============================>.] - ETA: 0s - loss: 0.2972 - acc: 0.8993\n",
            "Epoch 00010: val_loss did not improve from 0.23459\n",
            "16470/16470 [==============================] - 14s 860us/sample - loss: 0.2969 - acc: 0.8994 - val_loss: 0.2390 - val_acc: 0.8951\n",
            "Epoch 00010: early stopping\n"
          ],
          "name": "stdout"
        }
      ]
    },
    {
      "cell_type": "code",
      "metadata": {
        "id": "Y0QMy15cn8MM",
        "colab_type": "code",
        "outputId": "62f2b409-db5c-4389-9a2f-1d75d5a175c9",
        "colab": {
          "base_uri": "https://localhost:8080/",
          "height": 1000
        }
      },
      "source": [
        "M_Axial=get_model_1('Axial')\n",
        "M_Axial.summary()\n",
        "earlystopper = EarlyStopping(patience=5, verbose=1)\n",
        "checkpointer = ModelCheckpoint('Axial_1.h5', verbose=1, save_best_only=True)\n",
        "resultsA = M_Axial.fit(A_train, y_train, validation_split=0.1, batch_size=16, epochs=50, callbacks=[earlystopper, checkpointer])"
      ],
      "execution_count": 30,
      "outputs": [
        {
          "output_type": "stream",
          "text": [
            "Axial model shape  (73, 91, 3)\n",
            "Model: \"model\"\n",
            "_________________________________________________________________\n",
            "Layer (type)                 Output Shape              Param #   \n",
            "=================================================================\n",
            "input_1 (InputLayer)         [(None, 73, 91, 3)]       0         \n",
            "_________________________________________________________________\n",
            "lambda (Lambda)              (None, 73, 91, 3)         0         \n",
            "_________________________________________________________________\n",
            "conv2d (Conv2D)              (None, 73, 91, 16)        448       \n",
            "_________________________________________________________________\n",
            "dropout (Dropout)            (None, 73, 91, 16)        0         \n",
            "_________________________________________________________________\n",
            "conv2d_1 (Conv2D)            (None, 73, 91, 16)        2320      \n",
            "_________________________________________________________________\n",
            "max_pooling2d (MaxPooling2D) (None, 36, 45, 16)        0         \n",
            "_________________________________________________________________\n",
            "flatten (Flatten)            (None, 25920)             0         \n",
            "_________________________________________________________________\n",
            "dense (Dense)                (None, 16)                414736    \n",
            "_________________________________________________________________\n",
            "dropout_1 (Dropout)          (None, 16)                0         \n",
            "_________________________________________________________________\n",
            "dense_1 (Dense)              (None, 8)                 136       \n",
            "_________________________________________________________________\n",
            "dropout_2 (Dropout)          (None, 8)                 0         \n",
            "_________________________________________________________________\n",
            "dense_2 (Dense)              (None, 4)                 36        \n",
            "_________________________________________________________________\n",
            "dropout_3 (Dropout)          (None, 4)                 0         \n",
            "_________________________________________________________________\n",
            "dense_3 (Dense)              (None, 2)                 10        \n",
            "=================================================================\n",
            "Total params: 417,686\n",
            "Trainable params: 417,686\n",
            "Non-trainable params: 0\n",
            "_________________________________________________________________\n",
            "Train on 16470 samples, validate on 1831 samples\n",
            "Epoch 1/50\n",
            "16384/16470 [============================>.] - ETA: 0s - loss: 0.4068 - acc: 0.8993\n",
            "Epoch 00001: val_loss improved from inf to 0.79543, saving model to Axial_1.h5\n",
            "16470/16470 [==============================] - 7s 417us/sample - loss: 0.4063 - acc: 0.8994 - val_loss: 0.7954 - val_acc: 0.8951\n",
            "Epoch 2/50\n",
            "16400/16470 [============================>.] - ETA: 0s - loss: 0.3404 - acc: 0.8993\n",
            "Epoch 00002: val_loss improved from 0.79543 to 0.43229, saving model to Axial_1.h5\n",
            "16470/16470 [==============================] - 7s 395us/sample - loss: 0.3401 - acc: 0.8994 - val_loss: 0.4323 - val_acc: 0.8951\n",
            "Epoch 3/50\n",
            "16464/16470 [============================>.] - ETA: 0s - loss: 0.3317 - acc: 0.8994\n",
            "Epoch 00003: val_loss did not improve from 0.43229\n",
            "16470/16470 [==============================] - 6s 391us/sample - loss: 0.3318 - acc: 0.8994 - val_loss: 0.4426 - val_acc: 0.8951\n",
            "Epoch 4/50\n",
            "16416/16470 [============================>.] - ETA: 0s - loss: 0.3289 - acc: 0.8994\n",
            "Epoch 00004: val_loss improved from 0.43229 to 0.41415, saving model to Axial_1.h5\n",
            "16470/16470 [==============================] - 7s 399us/sample - loss: 0.3290 - acc: 0.8994 - val_loss: 0.4141 - val_acc: 0.8951\n",
            "Epoch 5/50\n",
            "16448/16470 [============================>.] - ETA: 0s - loss: 0.3291 - acc: 0.8994\n",
            "Epoch 00005: val_loss improved from 0.41415 to 0.40237, saving model to Axial_1.h5\n",
            "16470/16470 [==============================] - 6s 394us/sample - loss: 0.3291 - acc: 0.8994 - val_loss: 0.4024 - val_acc: 0.8951\n",
            "Epoch 6/50\n",
            "16432/16470 [============================>.] - ETA: 0s - loss: 0.3271 - acc: 0.8995\n",
            "Epoch 00006: val_loss did not improve from 0.40237\n",
            "16470/16470 [==============================] - 6s 386us/sample - loss: 0.3272 - acc: 0.8994 - val_loss: 0.4122 - val_acc: 0.8951\n",
            "Epoch 7/50\n",
            "16432/16470 [============================>.] - ETA: 0s - loss: 0.3278 - acc: 0.8995\n",
            "Epoch 00007: val_loss improved from 0.40237 to 0.38654, saving model to Axial_1.h5\n",
            "16470/16470 [==============================] - 6s 388us/sample - loss: 0.3280 - acc: 0.8994 - val_loss: 0.3865 - val_acc: 0.8951\n",
            "Epoch 8/50\n",
            "16400/16470 [============================>.] - ETA: 0s - loss: 0.3270 - acc: 0.8995\n",
            "Epoch 00008: val_loss improved from 0.38654 to 0.37690, saving model to Axial_1.h5\n",
            "16470/16470 [==============================] - 6s 390us/sample - loss: 0.3273 - acc: 0.8994 - val_loss: 0.3769 - val_acc: 0.8951\n",
            "Epoch 9/50\n",
            "16368/16470 [============================>.] - ETA: 0s - loss: 0.3263 - acc: 0.8996\n",
            "Epoch 00009: val_loss improved from 0.37690 to 0.37350, saving model to Axial_1.h5\n",
            "16470/16470 [==============================] - 6s 389us/sample - loss: 0.3268 - acc: 0.8994 - val_loss: 0.3735 - val_acc: 0.8951\n",
            "Epoch 10/50\n",
            "16352/16470 [============================>.] - ETA: 0s - loss: 0.3265 - acc: 0.8995\n",
            "Epoch 00010: val_loss improved from 0.37350 to 0.37072, saving model to Axial_1.h5\n",
            "16470/16470 [==============================] - 6s 385us/sample - loss: 0.3266 - acc: 0.8994 - val_loss: 0.3707 - val_acc: 0.8951\n",
            "Epoch 11/50\n",
            "16432/16470 [============================>.] - ETA: 0s - loss: 0.3271 - acc: 0.8992\n",
            "Epoch 00011: val_loss improved from 0.37072 to 0.35652, saving model to Axial_1.h5\n",
            "16470/16470 [==============================] - 6s 387us/sample - loss: 0.3267 - acc: 0.8994 - val_loss: 0.3565 - val_acc: 0.8951\n",
            "Epoch 12/50\n",
            "16352/16470 [============================>.] - ETA: 0s - loss: 0.3270 - acc: 0.8993\n",
            "Epoch 00012: val_loss improved from 0.35652 to 0.35469, saving model to Axial_1.h5\n",
            "16470/16470 [==============================] - 6s 391us/sample - loss: 0.3267 - acc: 0.8994 - val_loss: 0.3547 - val_acc: 0.8951\n",
            "Epoch 13/50\n",
            "16384/16470 [============================>.] - ETA: 0s - loss: 0.3269 - acc: 0.8992\n",
            "Epoch 00013: val_loss improved from 0.35469 to 0.35286, saving model to Axial_1.h5\n",
            "16470/16470 [==============================] - 6s 389us/sample - loss: 0.3265 - acc: 0.8994 - val_loss: 0.3529 - val_acc: 0.8951\n",
            "Epoch 14/50\n",
            "16368/16470 [============================>.] - ETA: 0s - loss: 0.3271 - acc: 0.8991\n",
            "Epoch 00014: val_loss did not improve from 0.35286\n",
            "16470/16470 [==============================] - 6s 390us/sample - loss: 0.3265 - acc: 0.8994 - val_loss: 0.3589 - val_acc: 0.8951\n",
            "Epoch 15/50\n",
            "16368/16470 [============================>.] - ETA: 0s - loss: 0.3254 - acc: 0.8999\n",
            "Epoch 00015: val_loss did not improve from 0.35286\n",
            "16470/16470 [==============================] - 7s 401us/sample - loss: 0.3265 - acc: 0.8994 - val_loss: 0.3540 - val_acc: 0.8951\n",
            "Epoch 16/50\n",
            "16400/16470 [============================>.] - ETA: 0s - loss: 0.3267 - acc: 0.8993\n",
            "Epoch 00016: val_loss did not improve from 0.35286\n",
            "16470/16470 [==============================] - 6s 391us/sample - loss: 0.3265 - acc: 0.8994 - val_loss: 0.3560 - val_acc: 0.8951\n",
            "Epoch 17/50\n",
            "16448/16470 [============================>.] - ETA: 0s - loss: 0.3268 - acc: 0.8993\n",
            "Epoch 00017: val_loss improved from 0.35286 to 0.35257, saving model to Axial_1.h5\n",
            "16470/16470 [==============================] - 6s 389us/sample - loss: 0.3265 - acc: 0.8994 - val_loss: 0.3526 - val_acc: 0.8951\n",
            "Epoch 18/50\n",
            "16432/16470 [============================>.] - ETA: 0s - loss: 0.3262 - acc: 0.8995\n",
            "Epoch 00018: val_loss improved from 0.35257 to 0.35191, saving model to Axial_1.h5\n",
            "16470/16470 [==============================] - 6s 388us/sample - loss: 0.3265 - acc: 0.8994 - val_loss: 0.3519 - val_acc: 0.8951\n",
            "Epoch 19/50\n",
            "16384/16470 [============================>.] - ETA: 0s - loss: 0.3262 - acc: 0.8995\n",
            "Epoch 00019: val_loss improved from 0.35191 to 0.34641, saving model to Axial_1.h5\n",
            "16470/16470 [==============================] - 6s 388us/sample - loss: 0.3265 - acc: 0.8994 - val_loss: 0.3464 - val_acc: 0.8951\n",
            "Epoch 20/50\n",
            "16448/16470 [============================>.] - ETA: 0s - loss: 0.3268 - acc: 0.8993\n",
            "Epoch 00020: val_loss improved from 0.34641 to 0.34572, saving model to Axial_1.h5\n",
            "16470/16470 [==============================] - 6s 387us/sample - loss: 0.3265 - acc: 0.8994 - val_loss: 0.3457 - val_acc: 0.8951\n",
            "Epoch 21/50\n",
            "16432/16470 [============================>.] - ETA: 0s - loss: 0.3263 - acc: 0.8995\n",
            "Epoch 00021: val_loss improved from 0.34572 to 0.34480, saving model to Axial_1.h5\n",
            "16470/16470 [==============================] - 6s 386us/sample - loss: 0.3265 - acc: 0.8994 - val_loss: 0.3448 - val_acc: 0.8951\n",
            "Epoch 22/50\n",
            "16352/16470 [============================>.] - ETA: 0s - loss: 0.3262 - acc: 0.8995\n",
            "Epoch 00022: val_loss improved from 0.34480 to 0.34472, saving model to Axial_1.h5\n",
            "16470/16470 [==============================] - 6s 388us/sample - loss: 0.3265 - acc: 0.8994 - val_loss: 0.3447 - val_acc: 0.8951\n",
            "Epoch 23/50\n",
            "16384/16470 [============================>.] - ETA: 0s - loss: 0.3268 - acc: 0.8992\n",
            "Epoch 00023: val_loss improved from 0.34472 to 0.34417, saving model to Axial_1.h5\n",
            "16470/16470 [==============================] - 6s 391us/sample - loss: 0.3265 - acc: 0.8994 - val_loss: 0.3442 - val_acc: 0.8951\n",
            "Epoch 24/50\n",
            "16400/16470 [============================>.] - ETA: 0s - loss: 0.3258 - acc: 0.8997\n",
            "Epoch 00024: val_loss improved from 0.34417 to 0.34281, saving model to Axial_1.h5\n",
            "16470/16470 [==============================] - 6s 386us/sample - loss: 0.3264 - acc: 0.8994 - val_loss: 0.3428 - val_acc: 0.8951\n",
            "Epoch 25/50\n",
            "16400/16470 [============================>.] - ETA: 0s - loss: 0.3265 - acc: 0.8994\n",
            "Epoch 00025: val_loss did not improve from 0.34281\n",
            "16470/16470 [==============================] - 6s 389us/sample - loss: 0.3265 - acc: 0.8994 - val_loss: 0.3439 - val_acc: 0.8951\n",
            "Epoch 26/50\n",
            "16368/16470 [============================>.] - ETA: 0s - loss: 0.3263 - acc: 0.8995\n",
            "Epoch 00026: val_loss did not improve from 0.34281\n",
            "16470/16470 [==============================] - 6s 387us/sample - loss: 0.3265 - acc: 0.8994 - val_loss: 0.3438 - val_acc: 0.8951\n",
            "Epoch 27/50\n",
            "16384/16470 [============================>.] - ETA: 0s - loss: 0.3259 - acc: 0.8997\n",
            "Epoch 00027: val_loss did not improve from 0.34281\n",
            "16470/16470 [==============================] - 6s 388us/sample - loss: 0.3265 - acc: 0.8994 - val_loss: 0.3433 - val_acc: 0.8951\n",
            "Epoch 28/50\n",
            "16464/16470 [============================>.] - ETA: 0s - loss: 0.3266 - acc: 0.8994\n",
            "Epoch 00028: val_loss did not improve from 0.34281\n",
            "16470/16470 [==============================] - 6s 386us/sample - loss: 0.3265 - acc: 0.8994 - val_loss: 0.3436 - val_acc: 0.8951\n",
            "Epoch 29/50\n",
            "16368/16470 [============================>.] - ETA: 0s - loss: 0.3265 - acc: 0.8994\n",
            "Epoch 00029: val_loss did not improve from 0.34281\n",
            "16470/16470 [==============================] - 6s 385us/sample - loss: 0.3265 - acc: 0.8994 - val_loss: 0.3442 - val_acc: 0.8951\n",
            "Epoch 00029: early stopping\n"
          ],
          "name": "stdout"
        }
      ]
    },
    {
      "cell_type": "code",
      "metadata": {
        "id": "AU4F7U7lJ-gU",
        "colab_type": "code",
        "colab": {}
      },
      "source": [
        "M_Coronal=get_model_1('Coronal')\n",
        "M_Coronal.summary()\n",
        "earlystopper = EarlyStopping(patience=5, verbose=1)\n",
        "checkpointer = ModelCheckpoint('Coronal_1.h5', verbose=1, save_best_only=True)\n",
        "resultsC = M_Coronal.fit(C_train, y_train, validation_split=0.1, batch_size=16, epochs=50, callbacks=[earlystopper, checkpointer])"
      ],
      "execution_count": 0,
      "outputs": []
    },
    {
      "cell_type": "code",
      "metadata": {
        "id": "54UCr6Wvjrwr",
        "colab_type": "code",
        "colab": {}
      },
      "source": [
        "M_Saggital=get_model_1('Saggital')\n",
        "M_Saggital.summary()\n",
        "earlystopper = EarlyStopping(patience=5, verbose=1)\n",
        "checkpointer = ModelCheckpoint('Saggital_1.h5', verbose=1, save_best_only=True)\n",
        "resultsS = M_Saggital.fit(S_train, y_train, validation_split=0.1, batch_size=16, epochs=50, callbacks=[earlystopper, checkpointer])"
      ],
      "execution_count": 0,
      "outputs": []
    },
    {
      "cell_type": "code",
      "metadata": {
        "id": "iaXFcqcmy9Q2",
        "colab_type": "code",
        "colab": {}
      },
      "source": [
        "M_SCA=get_model_SCA()\n",
        "M_SCA.summary()\n",
        "earlystopper = EarlyStopping(patience=5, verbose=1)\n",
        "checkpointer = ModelCheckpoint('M_SCA1.h5', verbose=1, save_best_only=True)\n",
        "resultsSCA = M_SCA.fit([S_train, C_train, A_train], y_train, validation_split=0.1, batch_size=16, epochs=50, callbacks=[earlystopper, checkpointer])"
      ],
      "execution_count": 0,
      "outputs": []
    }
  ]
}