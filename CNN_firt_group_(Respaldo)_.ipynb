{
  "nbformat": 4,
  "nbformat_minor": 0,
  "metadata": {
    "colab": {
      "name": "CNN - firt group (Respaldo) .ipynb",
      "provenance": [],
      "collapsed_sections": [],
      "include_colab_link": true
    },
    "kernelspec": {
      "name": "python3",
      "display_name": "Python 3"
    },
    "accelerator": "GPU"
  },
  "cells": [
    {
      "cell_type": "markdown",
      "metadata": {
        "id": "view-in-github",
        "colab_type": "text"
      },
      "source": [
        "<a href=\"https://colab.research.google.com/github/LxMera/Convolutional-Neural-Network-for-the-classification-of-independent-components-of-rs-fMRI/blob/master/CNN_firt_group_(Respaldo)_.ipynb\" target=\"_parent\"><img src=\"https://colab.research.google.com/assets/colab-badge.svg\" alt=\"Open In Colab\"/></a>"
      ]
    },
    {
      "cell_type": "markdown",
      "metadata": {
        "id": "3HYdNkIx1Td5",
        "colab_type": "text"
      },
      "source": [
        "### Libraries"
      ]
    },
    {
      "cell_type": "code",
      "metadata": {
        "id": "zHIGHVJD1RvV",
        "colab_type": "code",
        "colab": {}
      },
      "source": [
        "import os\n",
        "import cv2\n",
        "import sys\n",
        "import glob\n",
        "import random\n",
        "import warnings\n",
        "import numpy as np\n",
        "import pandas as pd\n",
        "import scipy.io as sio\n",
        "import tensorflow as tf\n",
        "from itertools import chain\n",
        "import matplotlib.pyplot as plt\n",
        "from skimage.transform import resize\n",
        "from skimage.morphology import label\n",
        "from tensorflow.keras.layers import Input\n",
        "from tensorflow.keras import backend as K\n",
        "from tensorflow.keras.layers import concatenate\n",
        "from sklearn.preprocessing import StandardScaler\n",
        "from tensorflow.keras.layers import MaxPooling2D\n",
        "from tensorflow.keras.layers import Dropout, Lambda\n",
        "from tensorflow.keras.models import Model, load_model\n",
        "from tensorflow.keras.layers import Conv2D, Conv2DTranspose\n",
        "from tensorflow.keras.layers import Flatten, Dense, Activation\n",
        "from tensorflow.keras.callbacks import EarlyStopping, ModelCheckpoint\n",
        "from skimage.io import imread, imshow, imread_collection, concatenate_images"
      ],
      "execution_count": 0,
      "outputs": []
    },
    {
      "cell_type": "markdown",
      "metadata": {
        "id": "_mWUE9Ji0FuK",
        "colab_type": "text"
      },
      "source": [
        "### Accesses to data"
      ]
    },
    {
      "cell_type": "code",
      "metadata": {
        "id": "iFm-en3B0fY9",
        "colab_type": "code",
        "colab": {}
      },
      "source": [
        "from google.colab import drive\n",
        "drive.mount('/content/drive')"
      ],
      "execution_count": 0,
      "outputs": []
    },
    {
      "cell_type": "markdown",
      "metadata": {
        "id": "oEvbqWtC0_KM",
        "colab_type": "text"
      },
      "source": [
        "### Directory"
      ]
    },
    {
      "cell_type": "code",
      "metadata": {
        "id": "mbFEcvKT-78G",
        "colab_type": "code",
        "outputId": "b57c6b2e-e59f-4aaa-c74f-a3828ecd565b",
        "colab": {
          "base_uri": "https://localhost:8080/",
          "height": 34
        }
      },
      "source": [
        "os.system('cp drive/My\\ Drive/HumanProject3/TimeF.mat Time.mat')\n",
        "os.system('cp drive/My\\ Drive/HumanProject3/OrderF.mat Order.mat')\n",
        "os.system('cp drive/My\\ Drive/HumanProject3/LabelsF.mat Labels.mat')\n",
        "os.system('cp drive/My\\ Drive/HumanProject3/HumanProject1.zip HumanProject1.zip')\n",
        "os.system('cp drive/My\\ Drive/HumanProject3/HumanProject2.zip HumanProject2.zip')\n",
        "os.system('cp drive/My\\ Drive/HumanProject3/HumanProject3.zip HumanProject3.zip')\n",
        "os.system('cp drive/My\\ Drive/HumanProject3/HumanProject4.zip HumanProject4.zip')\n",
        "os.system('cp drive/My\\ Drive/HumanProject3/HumanProject5.zip HumanProject5.zip')"
      ],
      "execution_count": 3,
      "outputs": [
        {
          "output_type": "execute_result",
          "data": {
            "text/plain": [
              "0"
            ]
          },
          "metadata": {
            "tags": []
          },
          "execution_count": 3
        }
      ]
    },
    {
      "cell_type": "code",
      "metadata": {
        "id": "v53w7DwmAmlt",
        "colab_type": "code",
        "outputId": "3ffa35af-0415-4cf1-e7ad-23db1b730925",
        "colab": {
          "base_uri": "https://localhost:8080/",
          "height": 34
        }
      },
      "source": [
        "os.system('unzip HumanProject1.zip'), os.system('rm -r HumanProject1.zip')\n",
        "os.system('unzip HumanProject2.zip'), os.system('rm -r HumanProject2.zip')\n",
        "os.system('unzip HumanProject3.zip'), os.system('rm -r HumanProject3.zip')\n",
        "os.system('unzip HumanProject4.zip'), os.system('rm -r HumanProject4.zip')\n",
        "os.system('unzip HumanProject5.zip'), os.system('rm -r HumanProject5.zip')"
      ],
      "execution_count": 4,
      "outputs": [
        {
          "output_type": "execute_result",
          "data": {
            "text/plain": [
              "(0, 0)"
            ]
          },
          "metadata": {
            "tags": []
          },
          "execution_count": 4
        }
      ]
    },
    {
      "cell_type": "code",
      "metadata": {
        "id": "UjHzK5y21952",
        "colab_type": "code",
        "outputId": "91b70261-78e1-43c6-896d-8d59e0dfb203",
        "colab": {
          "base_uri": "https://localhost:8080/",
          "height": 51
        }
      },
      "source": [
        "FOLD=glob.glob('HCP_hp2000/*')\n",
        "DATA=glob.glob('*.mat')\n",
        "\n",
        "print(FOLD)\n",
        "print(DATA[-1])"
      ],
      "execution_count": 5,
      "outputs": [
        {
          "output_type": "stream",
          "text": [
            "['HCP_hp2000/C_AXI', 'HCP_hp2000/C_BLU', 'HCP_hp2000/BLU', 'HCP_hp2000/AXI', 'HCP_hp2000/PCA', 'HCP_hp2000/COM', 'HCP_hp2000/C_PCA', 'HCP_hp2000/C_COM']\n",
            "Order.mat\n"
          ],
          "name": "stdout"
        }
      ]
    },
    {
      "cell_type": "code",
      "metadata": {
        "id": "OyjKRK13706h",
        "colab_type": "code",
        "outputId": "7676f191-d950-4e41-821a-7dfc4c630ef0",
        "colab": {
          "base_uri": "https://localhost:8080/",
          "height": 68
        }
      },
      "source": [
        "label=sio.loadmat('Labels.mat')['labels'][0]\n",
        "order=sio.loadmat('Order.mat')['order']\n",
        "timeS=sio.loadmat('Time.mat')['series']\n",
        "\n",
        "print('Labels per component     \\t', np.shape(label))\n",
        "print('Order of images          \\t', np.shape(order))\n",
        "print('Points time per component\\t', np.shape(timeS))"
      ],
      "execution_count": 6,
      "outputs": [
        {
          "output_type": "stream",
          "text": [
            "Labels per component     \t (22877,)\n",
            "Order of images          \t (22877,)\n",
            "Points time per component\t (1200, 22877)\n"
          ],
          "name": "stdout"
        }
      ]
    },
    {
      "cell_type": "markdown",
      "metadata": {
        "id": "sTmxPH2I_7cI",
        "colab_type": "text"
      },
      "source": [
        "### Images parameters"
      ]
    },
    {
      "cell_type": "code",
      "metadata": {
        "id": "zKVKjCjG_bjP",
        "colab_type": "code",
        "colab": {
          "base_uri": "https://localhost:8080/",
          "height": 34
        },
        "outputId": "7a308aed-8a25-4ff0-be64-b404c46fd082"
      },
      "source": [
        "DIR0='drive/My Drive/ResultadosHP/'\n",
        "slic=['/Saggital','/Coronal','/Axial']\n",
        "\n",
        "#Original shape\n",
        "SAG=73\n",
        "COR=91\n",
        "AXI=77\n",
        "\n",
        "#SAG=57\n",
        "#COR=73\n",
        "#AXI=57\n",
        "\n",
        "IMG_CHANNELS = 3\n",
        "nb_classes=2\n",
        "maxR=0.4\n",
        "shap={'Axial': (SAG, COR, IMG_CHANNELS), 'Coronal': (SAG, AXI, IMG_CHANNELS), 'Saggital': (AXI, COR, IMG_CHANNELS)}\n",
        "numFolder=1 #number of folder\n",
        "print(FOLD[numFolder][11:])"
      ],
      "execution_count": 8,
      "outputs": [
        {
          "output_type": "stream",
          "text": [
            "C_BLU\n"
          ],
          "name": "stdout"
        }
      ]
    },
    {
      "cell_type": "markdown",
      "metadata": {
        "id": "84TwPXilsOWR",
        "colab_type": "text"
      },
      "source": [
        "### Training and test data"
      ]
    },
    {
      "cell_type": "code",
      "metadata": {
        "id": "JKye2ni1AOlp",
        "colab_type": "code",
        "outputId": "bf0a4549-1872-41bd-f073-71736fa667e2",
        "colab": {
          "base_uri": "https://localhost:8080/",
          "height": 85
        }
      },
      "source": [
        "per=0.8\n",
        "per=int(np.shape(label)[0]*0.8)\n",
        "\n",
        "TEST_PATH=order[per:]\n",
        "TRAIN_PATH=order[:per]\n",
        "\n",
        "y_test =label[per:]\n",
        "y_train=label[:per]\n",
        "\n",
        "print('training labels ', y_train.shape)\n",
        "print('test labels     ', y_test.shape)\n",
        "\n",
        "print('training maps   ', TRAIN_PATH.shape)\n",
        "print('test maps       ', TEST_PATH.shape)"
      ],
      "execution_count": 9,
      "outputs": [
        {
          "output_type": "stream",
          "text": [
            "training labels  (18301,)\n",
            "test labels      (4576,)\n",
            "training maps    (18301,)\n",
            "test maps        (4576,)\n"
          ],
          "name": "stdout"
        }
      ]
    },
    {
      "cell_type": "code",
      "metadata": {
        "id": "u3IySaQ2iTOH",
        "colab_type": "code",
        "colab": {}
      },
      "source": [
        "def showSlices(ima1, ima2, ima3, sh=False):\n",
        "  plt.figure(figsize=(20,5))\n",
        "  plt.subplot(1,3,1)\n",
        "  plt.imshow(ima1)\n",
        "  plt.title('Saggital')\n",
        "  plt.axis('off')\n",
        "  plt.subplot(1,3,2)\n",
        "  plt.imshow(ima2)\n",
        "  plt.title('Coronal')\n",
        "  plt.axis('off')\n",
        "  plt.subplot(1,3,3)\n",
        "  plt.imshow(ima3)\n",
        "  plt.title('Axial')\n",
        "  plt.axis('off')\n",
        "\n",
        "  if sh:\n",
        "    print('Saggital shape ', np.shape(ima1))\n",
        "    print('Coronal shape ', np.shape(ima2))\n",
        "    print('Axial shape ', np.shape(ima3))"
      ],
      "execution_count": 0,
      "outputs": []
    },
    {
      "cell_type": "markdown",
      "metadata": {
        "id": "99UVwLQtseEg",
        "colab_type": "text"
      },
      "source": [
        "### Training images"
      ]
    },
    {
      "cell_type": "code",
      "metadata": {
        "id": "hUZU_5NME3-x",
        "colab_type": "code",
        "colab": {}
      },
      "source": [
        "def TrainingImages(ni):\n",
        "  print(FOLD[ni][11:])\n",
        "  s_train = np.zeros((len(TRAIN_PATH), AXI, COR, 3), dtype=np.uint8)\n",
        "  c_train = np.zeros((len(TRAIN_PATH), SAG, AXI, 3), dtype=np.uint8)\n",
        "  a_train = np.zeros((len(TRAIN_PATH), SAG, COR, 3), dtype=np.uint8)\n",
        "\n",
        "  cont=0\n",
        "  loop=len(TRAIN_PATH)\n",
        "\n",
        "  for n in range(loop):  \n",
        "    namea=FOLD[ni]+slic[2]+'/'+TRAIN_PATH[n].strip()+'.png'\n",
        "    namec=FOLD[ni]+slic[1]+'/'+TRAIN_PATH[n].strip()+'.png'\n",
        "    names=FOLD[ni]+slic[0]+'/'+TRAIN_PATH[n].strip()+'.png'\n",
        "    \n",
        "    imaa=cv2.imread(namea)\n",
        "    imac=cv2.imread(namec)\n",
        "    imas=cv2.imread(names)\n",
        "\n",
        "    sag=cv2.resize(imas, (AXI, COR), interpolation = cv2.INTER_AREA)\n",
        "    cor=cv2.resize(imac, (AXI, SAG), interpolation = cv2.INTER_AREA)\n",
        "    axi=cv2.resize(imaa, (COR, SAG), interpolation = cv2.INTER_AREA)\n",
        "\n",
        "    s_train[n]=np.rot90(sag)\n",
        "    c_train[n]=cor\n",
        "    a_train[n]=axi\n",
        "\n",
        "    cont=cont+1\n",
        "    print('\\rProcess ', round(cont*100/loop,2), '%...' , end =\"\")\n",
        "  return s_train, c_train, a_train"
      ],
      "execution_count": 0,
      "outputs": []
    },
    {
      "cell_type": "markdown",
      "metadata": {
        "id": "y5d9VZbzsiF7",
        "colab_type": "text"
      },
      "source": [
        "### Sample images (training)"
      ]
    },
    {
      "cell_type": "code",
      "metadata": {
        "colab_type": "code",
        "outputId": "d732ebee-9b05-4fcb-e51a-62c4c150c2ac",
        "id": "0SFXoffwzfhh",
        "colab": {
          "base_uri": "https://localhost:8080/",
          "height": 655
        }
      },
      "source": [
        "SCA_train=TrainingImages(numFolder)\n",
        "\n",
        "signal=np.random.choice(np.where(y_train==1)[0])\n",
        "noise=np.random.choice(np.where(y_train==0)[0])\n",
        "showSlices(SCA_train[0][signal], SCA_train[1][signal], SCA_train[2][signal])\n",
        "showSlices(SCA_train[0][noise], SCA_train[1][noise], SCA_train[2][noise])"
      ],
      "execution_count": 12,
      "outputs": [
        {
          "output_type": "stream",
          "text": [
            "C_BLU\n",
            "Process  100.0 %..."
          ],
          "name": "stdout"
        },
        {
          "output_type": "display_data",
          "data": {
            "image/png": "[encoded data removed]",
            "text/plain": [
              "<Figure size 1440x360 with 3 Axes>"
            ]
          },
          "metadata": {
            "tags": []
          }
        },
        {
          "output_type": "display_data",
          "data": {
            "image/png": "[encoded data removed]",
            "text/plain": [
              "<Figure size 1440x360 with 3 Axes>"
            ]
          },
          "metadata": {
            "tags": []
          }
        }
      ]
    },
    {
      "cell_type": "markdown",
      "metadata": {
        "id": "dUMPyJjqsubw",
        "colab_type": "text"
      },
      "source": [
        "### Test images"
      ]
    },
    {
      "cell_type": "code",
      "metadata": {
        "id": "ljj5puiLG8Nb",
        "colab_type": "code",
        "colab": {}
      },
      "source": [
        "def testImages(ni): \n",
        "  print(FOLD[ni][11:])\n",
        "  s_test = np.zeros((len(TEST_PATH), AXI, COR, 3), dtype=np.uint8)\n",
        "  c_test = np.zeros((len(TEST_PATH), SAG, AXI, 3), dtype=np.uint8)\n",
        "  a_test = np.zeros((len(TEST_PATH), SAG, COR, 3), dtype=np.uint8)\n",
        "\n",
        "  cont=0\n",
        "  loop=len(TEST_PATH)\n",
        "\n",
        "  for n in range(loop):  \n",
        "    namea=FOLD[ni]+slic[2]+'/'+TEST_PATH[n].strip()+'.png'\n",
        "    namec=FOLD[ni]+slic[1]+'/'+TEST_PATH[n].strip()+'.png'\n",
        "    names=FOLD[ni]+slic[0]+'/'+TEST_PATH[n].strip()+'.png'\n",
        "    \n",
        "    imaa=cv2.imread(namea)\n",
        "    imac=cv2.imread(namec)\n",
        "    imas=cv2.imread(names)\n",
        "\n",
        "    sag=cv2.resize(imas, (AXI, COR), interpolation = cv2.INTER_AREA)\n",
        "    cor=cv2.resize(imac, (AXI, SAG), interpolation = cv2.INTER_AREA)\n",
        "    axi=cv2.resize(imaa, (COR, SAG), interpolation = cv2.INTER_AREA)\n",
        "\n",
        "    s_test[n]=np.rot90(sag)\n",
        "    c_test[n]=cor\n",
        "    a_test[n]=axi\n",
        "\n",
        "    cont=cont+1\n",
        "    print('\\rProcess ', round(cont*100/loop,2), '%...' , end =\"\")\n",
        "  return s_test, c_test, a_test"
      ],
      "execution_count": 0,
      "outputs": []
    },
    {
      "cell_type": "markdown",
      "metadata": {
        "id": "fouDtnUos6rR",
        "colab_type": "text"
      },
      "source": [
        "### sample images (test)"
      ]
    },
    {
      "cell_type": "code",
      "metadata": {
        "id": "FsMx96P2ihW8",
        "colab_type": "code",
        "outputId": "1ca3d96e-ccbd-4378-82c4-21a71af8ce67",
        "colab": {
          "base_uri": "https://localhost:8080/",
          "height": 655
        }
      },
      "source": [
        "SCA_test=testImages(numFolder)\n",
        "\n",
        "signal=np.random.choice(np.where(y_test==1)[0])\n",
        "noise=np.random.choice(np.where(y_test==0)[0])\n",
        "showSlices(SCA_test[0][signal], SCA_test[1][signal], SCA_test[2][signal])\n",
        "showSlices(SCA_test[0][noise], SCA_test[1][noise], SCA_test[2][noise])"
      ],
      "execution_count": 14,
      "outputs": [
        {
          "output_type": "stream",
          "text": [
            "C_BLU\n",
            "Process  100.0 %..."
          ],
          "name": "stdout"
        },
        {
          "output_type": "display_data",
          "data": {
            "image/png": "[encoded data removed]",
            "text/plain": [
              "<Figure size 1440x360 with 3 Axes>"
            ]
          },
          "metadata": {
            "tags": []
          }
        },
        {
          "output_type": "display_data",
          "data": {
            "image/png": "[encoded data removed]",
            "text/plain": [
              "<Figure size 1440x360 with 3 Axes>"
            ]
          },
          "metadata": {
            "tags": []
          }
        }
      ]
    },
    {
      "cell_type": "code",
      "metadata": {
        "id": "KChmaLF1yz6S",
        "colab_type": "code",
        "colab": {
          "base_uri": "https://localhost:8080/",
          "height": 51
        },
        "outputId": "e06fd719-3aba-4c5c-981b-4366c363d344"
      },
      "source": [
        "print(np.shape(SCA_train[0]))\n",
        "print(np.shape(SCA_test[0]))"
      ],
      "execution_count": 28,
      "outputs": [
        {
          "output_type": "stream",
          "text": [
            "(18301, 77, 91, 3)\n",
            "(4576, 77, 91, 3)\n"
          ],
          "name": "stdout"
        }
      ]
    },
    {
      "cell_type": "markdown",
      "metadata": {
        "id": "iR5B3g_SUQ0t",
        "colab_type": "text"
      },
      "source": [
        "### Model 1"
      ]
    },
    {
      "cell_type": "code",
      "metadata": {
        "id": "GobqjcS9INJe",
        "colab_type": "code",
        "colab": {}
      },
      "source": [
        "def get_model_1(Slic):\n",
        "\n",
        "    print(Slic+' model shape ', shap[Slic])\n",
        "    tf.reset_default_graph()\n",
        "    tf.keras.backend.clear_session()    \n",
        "    \n",
        "    inputs = Input(shap[Slic])\n",
        "    s = Lambda(lambda x: x / 255) (inputs)\n",
        "\n",
        "    c1 = Conv2D(16, (3, 3), activation='elu', kernel_initializer='he_normal', padding='same') (s)\n",
        "    c1 = Dropout(maxR) (c1)\n",
        "\n",
        "    c1 = Conv2D(16, (3, 3), activation='elu', kernel_initializer='he_normal', padding='same') (c1)\n",
        "    c1 = MaxPooling2D((2, 2)) (c1)    \n",
        "    \n",
        "    #Flatten layers\n",
        "    c6 = Flatten()(c1)\n",
        "        \n",
        "    c6 = Dense(16, activation='relu')(c6)\n",
        "    c6 = Dropout(maxR)(c6)   \n",
        "\n",
        "    c6 = Dense(8, activation='relu')(c6)\n",
        "    c6 = Dropout(maxR)(c6)  \n",
        "\n",
        "    c6 = Dense(4, activation='relu')(c6)\n",
        "    c6 = Dropout(maxR)(c6)    \n",
        "       \n",
        "    outputs = Dense(nb_classes, activation='softmax')(c6)\n",
        "\n",
        "    model = Model(inputs=[inputs], outputs=[outputs])\n",
        "    model.compile(optimizer='adam', loss='sparse_categorical_crossentropy', metrics=['accuracy'])\n",
        "        \n",
        "    return model"
      ],
      "execution_count": 0,
      "outputs": []
    },
    {
      "cell_type": "markdown",
      "metadata": {
        "id": "WPQOCAA1UTzc",
        "colab_type": "text"
      },
      "source": [
        "### Model with one layer"
      ]
    },
    {
      "cell_type": "code",
      "metadata": {
        "id": "i-DnyH9vFetP",
        "colab_type": "code",
        "colab": {}
      },
      "source": [
        "def get_Layer_1(Slic):\n",
        "    print(Slic+' model shape ', shap[Slic])\n",
        "    tf.reset_default_graph()\n",
        "    tf.keras.backend.clear_session()    \n",
        "    \n",
        "    inputs = Input(shap[Slic])\n",
        "    s = Lambda(lambda x: x / 255) (inputs)\n",
        "\n",
        "    c1 = Conv2D(32, (3, 3), activation='elu', kernel_initializer='he_normal', padding='same') (s)\n",
        "    c1 = MaxPooling2D((2, 2)) (c1)    \n",
        "    c1 = Dropout(maxR) (c1) \n",
        "    \n",
        "    #Flatten layers\n",
        "    c6 = Flatten()(c1)\n",
        "        \n",
        "    c6 = Dense(128, activation='relu')(c6)\n",
        "    c6 = Dropout(maxR)(c6)       \n",
        "       \n",
        "    outputs = Dense(nb_classes, activation='softmax')(c6)\n",
        "\n",
        "    model = Model(inputs=[inputs], outputs=[outputs])\n",
        "    model.compile(optimizer='adam', loss='sparse_categorical_crossentropy', metrics=['accuracy'])\n",
        "        \n",
        "    return model"
      ],
      "execution_count": 0,
      "outputs": []
    },
    {
      "cell_type": "markdown",
      "metadata": {
        "id": "QcL75a_OUZmO",
        "colab_type": "text"
      },
      "source": [
        "### Model with two layers"
      ]
    },
    {
      "cell_type": "code",
      "metadata": {
        "id": "Uw1AjwNQHRaW",
        "colab_type": "code",
        "colab": {}
      },
      "source": [
        "def get_Layer_2(Slic):\n",
        "    print(Slic+' model shape ', shap[Slic])\n",
        "    tf.reset_default_graph()\n",
        "    tf.keras.backend.clear_session()    \n",
        "    \n",
        "    inputs = Input(shap[Slic])\n",
        "    s = Lambda(lambda x: x / 255) (inputs)\n",
        "\n",
        "    c1 = Conv2D(32, (3, 3), activation='elu', kernel_initializer='he_normal', padding='same') (s)\n",
        "    c1 = MaxPooling2D((2, 2)) (c1)    \n",
        "    c1 = Dropout(maxR) (c1)\n",
        "\n",
        "    c2 = Conv2D(64, (3, 3), activation='elu', kernel_initializer='he_normal', padding='same') (c1)\n",
        "    c2 = MaxPooling2D((2, 2)) (c2)    \n",
        "    c2 = Dropout(maxR) (c2)\n",
        "    \n",
        "    #Flatten layers\n",
        "    c6 = Flatten()(c2)\n",
        "        \n",
        "    c6 = Dense(128, activation='relu')(c6)\n",
        "    c6 = Dropout(maxR)(c6)       \n",
        "       \n",
        "    outputs = Dense(nb_classes, activation='softmax')(c6)\n",
        "\n",
        "    model = Model(inputs=[inputs], outputs=[outputs])\n",
        "    model.compile(optimizer='adam', loss='sparse_categorical_crossentropy', metrics=['accuracy'])\n",
        "        \n",
        "    return model"
      ],
      "execution_count": 0,
      "outputs": []
    },
    {
      "cell_type": "markdown",
      "metadata": {
        "id": "2MzVAmG2UeyU",
        "colab_type": "text"
      },
      "source": [
        "### Model with three layers"
      ]
    },
    {
      "cell_type": "code",
      "metadata": {
        "id": "6UlMmbYcHel9",
        "colab_type": "code",
        "colab": {}
      },
      "source": [
        "def get_Layer_3(Slic):\n",
        "    print(Slic+' model shape ', shap[Slic])\n",
        "    tf.reset_default_graph()\n",
        "    tf.keras.backend.clear_session()    \n",
        "    \n",
        "    inputs = Input(shap[Slic])\n",
        "    s = Lambda(lambda x: x / 255) (inputs)\n",
        "\n",
        "    c1 = Conv2D(32, (3, 3), activation='elu', kernel_initializer='he_normal', padding='same') (s)\n",
        "    c1 = MaxPooling2D((2, 2)) (c1)    \n",
        "    c1 = Dropout(maxR) (c1)\n",
        "\n",
        "    c2 = Conv2D(64, (3, 3), activation='elu', kernel_initializer='he_normal', padding='same') (c1)\n",
        "    c2 = MaxPooling2D((2, 2)) (c2)    \n",
        "    c2 = Dropout(maxR) (c2)\n",
        "\n",
        "    c3 = Conv2D(128, (3, 3), activation='elu', kernel_initializer='he_normal', padding='same') (c2)\n",
        "    c3 = MaxPooling2D((2, 2)) (c3)    \n",
        "    c3 = Dropout(maxR) (c3)\n",
        "    \n",
        "    #Flatten layers\n",
        "    c6 = Flatten()(c3)\n",
        "        \n",
        "    c6 = Dense(128, activation='relu')(c6)\n",
        "    c6 = Dropout(maxR)(c6)       \n",
        "       \n",
        "    outputs = Dense(nb_classes, activation='softmax')(c6)\n",
        "\n",
        "    model = Model(inputs=[inputs], outputs=[outputs])\n",
        "    model.compile(optimizer='adam', loss='sparse_categorical_crossentropy', metrics=['accuracy'])\n",
        "        \n",
        "    return model"
      ],
      "execution_count": 0,
      "outputs": []
    },
    {
      "cell_type": "markdown",
      "metadata": {
        "id": "WoGnTKPyUrCu",
        "colab_type": "text"
      },
      "source": [
        "### Model with four layers"
      ]
    },
    {
      "cell_type": "code",
      "metadata": {
        "id": "LEf4dRauHeRT",
        "colab_type": "code",
        "colab": {}
      },
      "source": [
        "def get_Layer_4(Slic):\n",
        "    print(Slic+' model shape ', shap[Slic])\n",
        "    tf.reset_default_graph()\n",
        "    tf.keras.backend.clear_session()    \n",
        "    \n",
        "    inputs = Input(shap[Slic])\n",
        "    s = Lambda(lambda x: x / 255) (inputs)\n",
        "\n",
        "    c1 = Conv2D(32, (3, 3), activation='elu', kernel_initializer='he_normal', padding='same') (s)\n",
        "    c1 = MaxPooling2D((2, 2)) (c1)    \n",
        "    c1 = Dropout(maxR) (c1) \n",
        "\n",
        "    c2 = Conv2D(32, (3, 3), activation='elu', kernel_initializer='he_normal', padding='same') (c1)\n",
        "    c2 = MaxPooling2D((2, 2)) (c2)    \n",
        "    c2 = Dropout(maxR) (c2)\n",
        "\n",
        "    c3 = Conv2D(64, (3, 3), activation='elu', kernel_initializer='he_normal', padding='same') (c2)\n",
        "    c3 = MaxPooling2D((2, 2)) (c3)    \n",
        "    c3 = Dropout(maxR) (c3)\n",
        "\n",
        "    c4 = Conv2D(128, (3, 3), activation='elu', kernel_initializer='he_normal', padding='same') (c3)\n",
        "    c4 = MaxPooling2D((2, 2)) (c4)    \n",
        "    c4 = Dropout(maxR) (c4)\n",
        "    \n",
        "    #Flatten layers\n",
        "    c6 = Flatten()(c4)\n",
        "\n",
        "    c6 = Dense(512, activation='relu')(c6)\n",
        "    c6 = Dropout(maxR)(c6)\n",
        "        \n",
        "    c6 = Dense(128, activation='relu')(c6)\n",
        "    c6 = Dropout(maxR)(c6)       \n",
        "       \n",
        "    outputs = Dense(nb_classes, activation='softmax')(c6)\n",
        "\n",
        "    model = Model(inputs=[inputs], outputs=[outputs])\n",
        "    model.compile(optimizer='adam', loss='sparse_categorical_crossentropy', metrics=['accuracy'])\n",
        "        \n",
        "    return model"
      ],
      "execution_count": 0,
      "outputs": []
    },
    {
      "cell_type": "markdown",
      "metadata": {
        "id": "_sQGF1j4UzCr",
        "colab_type": "text"
      },
      "source": [
        "### Model LeNet"
      ]
    },
    {
      "cell_type": "code",
      "metadata": {
        "id": "ZFqEEaAnVCXQ",
        "colab_type": "code",
        "colab": {}
      },
      "source": [
        "def get_LeNet(Slic):\n",
        "\n",
        "    print(Slic+' model shape ', shap[Slic])\n",
        "    tf.reset_default_graph()\n",
        "    tf.keras.backend.clear_session()    \n",
        "    \n",
        "    inputs = Input(shap[Slic])\n",
        "    s = Lambda(lambda x: x / 255) (inputs)\n",
        "\n",
        "    c1 = Conv2D(20, (5, 5), activation='relu', kernel_initializer='he_normal', padding='same') (s)\n",
        "    c1 = MaxPooling2D((2, 2)) (c1)\n",
        "    c1 = Dropout(maxR)(c1) \n",
        "\n",
        "    c2 = Conv2D(50, (5, 5), activation='relu', kernel_initializer='he_normal', padding='same') (c1)\n",
        "    c2 = MaxPooling2D((2, 2)) (c2)\n",
        "    c2 = Dropout(maxR)(c2) \n",
        "\n",
        "    c6 = Flatten()(c2)\n",
        "\n",
        "    c6 = Dense(500, activation='relu')(c6)\n",
        "    c6 = Dropout(maxR)(c6) \n",
        "       \n",
        "    outputs = Dense(nb_classes, activation='softmax')(c6)\n",
        "\n",
        "    model = Model(inputs=[inputs], outputs=[outputs])\n",
        "    model.compile(optimizer='adam', loss='sparse_categorical_crossentropy', metrics=['accuracy'])\n",
        "        \n",
        "    return model"
      ],
      "execution_count": 0,
      "outputs": []
    },
    {
      "cell_type": "markdown",
      "metadata": {
        "id": "3GpHdk2JUvbE",
        "colab_type": "text"
      },
      "source": [
        "### Model Tree SCA"
      ]
    },
    {
      "cell_type": "code",
      "metadata": {
        "id": "QrME4vdwKo5v",
        "colab_type": "code",
        "colab": {}
      },
      "source": [
        "def get_model_Tree_SCA():\n",
        "    tf.reset_default_graph()\n",
        "    tf.keras.backend.clear_session()    \n",
        "    \n",
        "    inputsA = Input(shap['Axial'])\n",
        "    sa = Lambda(lambda x: x / 255) (inputsA)\n",
        "    c1 = Conv2D(16, (3, 3), activation='elu', kernel_initializer='he_normal', padding='same') (sa)\n",
        "    c1 = Dropout(maxR) (c1)\n",
        "    c1 = Conv2D(16, (3, 3), activation='elu', kernel_initializer='he_normal', padding='same') (c1)\n",
        "    c1 = MaxPooling2D((2, 2)) (c1)\n",
        "\n",
        "    inputsC = Input(shap['Coronal'])\n",
        "    sc = Lambda(lambda x: x / 255) (inputsC)\n",
        "    c3 = Conv2D(16, (3, 3), activation='elu', kernel_initializer='he_normal', padding='same') (sc)\n",
        "    c3 = Dropout(maxR) (c3)\n",
        "    c3 = Conv2D(16, (3, 3), activation='elu', kernel_initializer='he_normal', padding='same') (c3)\n",
        "    c3 = MaxPooling2D((2, 2)) (c3) \n",
        "\n",
        "    inputsS = Input(shap['Saggital'])\n",
        "    ss = Lambda(lambda x: x / 255) (inputsS)\n",
        "    c5 = Conv2D(16, (3, 3), activation='elu', kernel_initializer='he_normal', padding='same') (ss)\n",
        "    c5 = Dropout(maxR) (c5)\n",
        "    c5 = Conv2D(16, (3, 3), activation='elu', kernel_initializer='he_normal', padding='same') (c5)\n",
        "    c5 = MaxPooling2D((2, 2)) (c5)\n",
        "\n",
        "    #Flatten layers\n",
        "    f2 = Flatten()(c1)\n",
        "    f4 = Flatten()(c3)\n",
        "    f6 = Flatten()(c5)\n",
        "\n",
        "    c7 = concatenate([f2, f4, f6])     \n",
        "        \n",
        "    c7 = Dense(16, activation='relu')(c7)\n",
        "    c7 = Dropout(maxR)(c7)   \n",
        "\n",
        "    c7 = Dense(8, activation='relu')(c7)\n",
        "    c7 = Dropout(maxR)(c7)  \n",
        "\n",
        "    c7 = Dense(4, activation='relu')(c7)\n",
        "    c7 = Dropout(maxR)(c7)    \n",
        "       \n",
        "    outputs = Dense(nb_classes, activation='softmax')(c7)\n",
        "\n",
        "    model = Model(inputs=[inputsA, inputsC, inputsS], outputs=[outputs])\n",
        "    model.compile(optimizer='adam', loss='sparse_categorical_crossentropy', metrics=['accuracy'])\n",
        "        \n",
        "    return model"
      ],
      "execution_count": 0,
      "outputs": []
    },
    {
      "cell_type": "markdown",
      "metadata": {
        "id": "u2puku5qlhqk",
        "colab_type": "text"
      },
      "source": [
        "# Training"
      ]
    },
    {
      "cell_type": "code",
      "metadata": {
        "id": "oCygHU3kaudG",
        "colab_type": "code",
        "colab": {
          "base_uri": "https://localhost:8080/",
          "height": 204
        },
        "outputId": "86f5496e-27ad-4383-9fb4-20ee46de6a29"
      },
      "source": [
        "DIR=DIR0+'MODELS/'\n",
        "DIRM=DIR0+'MAT/'\n",
        "for k in range(10):\n",
        "  for i in range(8):\n",
        "    SCA_train=TrainingImages(i)  \n",
        "    for j in range(3):    \n",
        "      ext=FOLD[i][11:]+'-'+slic[j][1:]+'-'+str(k)+'.h5'\n",
        "\n",
        "      name=DIR+'MODEL1-'+ext\n",
        "      print(name)\n",
        "      model0= get_model_1(slic[j][1:])\n",
        "      earlystopper = EarlyStopping(patience=5, verbose=0)\n",
        "      checkpointer = ModelCheckpoint(name, verbose=0, save_best_only=True)\n",
        "      result = model0.fit(SCA_train[j], y_train, validation_split=0.1, batch_size=16, epochs=50, callbacks=[earlystopper, checkpointer])\n",
        "      sio.savemat(DIRM+name[35:-3]+'.mat', {'acc': result.history['acc'], 'val_acc': result.history['val_acc'],  'loss': result.history['loss'],  'val_loss': result.history['val_loss']})\n",
        "      del model0\n",
        "\n",
        "      name=DIR+'LAYER1-'+ext\n",
        "      print(name)\n",
        "      model0= get_Layer_1(slic[j][1:])\n",
        "      earlystopper = EarlyStopping(patience=5, verbose=0)\n",
        "      checkpointer = ModelCheckpoint(name, verbose=0, save_best_only=True)\n",
        "      result = model0.fit(SCA_train[j], y_train, validation_split=0.1, batch_size=16, epochs=50, callbacks=[earlystopper, checkpointer])\n",
        "      sio.savemat(DIRM+name[35:-3]+'.mat', {'acc': result.history['acc'], 'val_acc': result.history['val_acc'],  'loss': result.history['loss'],  'val_loss': result.history['val_loss']})\n",
        "      del model0\n",
        "\n",
        "      name=DIR+'LAYER2-'+ext\n",
        "      print(name)\n",
        "      model0= get_Layer_2(slic[j][1:])\n",
        "      earlystopper = EarlyStopping(patience=5, verbose=0)\n",
        "      checkpointer = ModelCheckpoint(name, verbose=0, save_best_only=True)\n",
        "      result = model0.fit(SCA_train[j], y_train, validation_split=0.1, batch_size=16, epochs=50, callbacks=[earlystopper, checkpointer])\n",
        "      sio.savemat(DIRM+name[35:-3]+'.mat', {'acc': result.history['acc'], 'val_acc': result.history['val_acc'],  'loss': result.history['loss'],  'val_loss': result.history['val_loss']})\n",
        "      del model0\n",
        "\n",
        "      name=DIR+'LAYER3-'+ext\n",
        "      print(name)\n",
        "      model0= get_Layer_3(slic[j][1:])\n",
        "      earlystopper = EarlyStopping(patience=5, verbose=0)\n",
        "      checkpointer = ModelCheckpoint(name, verbose=0, save_best_only=True)\n",
        "      result = model0.fit(SCA_train[j], y_train, validation_split=0.1, batch_size=16, epochs=50, callbacks=[earlystopper, checkpointer])\n",
        "      sio.savemat(DIRM+name[35:-3]+'.mat', {'acc': result.history['acc'], 'val_acc': result.history['val_acc'],  'loss': result.history['loss'],  'val_loss': result.history['val_loss']})\n",
        "      del model0\n",
        "\n",
        "      name=DIR+'LAYER4-'+ext\n",
        "      print(name)\n",
        "      model0= get_Layer_4(slic[j][1:])\n",
        "      earlystopper = EarlyStopping(patience=5, verbose=0)\n",
        "      checkpointer = ModelCheckpoint(name, verbose=0, save_best_only=True)\n",
        "      result = model0.fit(SCA_train[j], y_train, validation_split=0.1, batch_size=16, epochs=50, callbacks=[earlystopper, checkpointer])\n",
        "      sio.savemat(DIRM+name[35:-3]+'.mat', {'acc': result.history['acc'], 'val_acc': result.history['val_acc'],  'loss': result.history['loss'],  'val_loss': result.history['val_loss']})\n",
        "      del model0\n",
        "\n",
        "      name=DIR+'LeNet-'+ext\n",
        "      print(name)\n",
        "      model0= get_LeNet(slic[j][1:])\n",
        "      earlystopper = EarlyStopping(patience=5, verbose=0)\n",
        "      checkpointer = ModelCheckpoint(name, verbose=0, save_best_only=True)\n",
        "      result = model0.fit(SCA_train[j], y_train, validation_split=0.1, batch_size=16, epochs=50, callbacks=[earlystopper, checkpointer])\n",
        "      sio.savemat(DIRM+name[35:-3]+'.mat', {'acc': result.history['acc'], 'val_acc': result.history['val_acc'],  'loss': result.history['loss'],  'val_loss': result.history['val_loss']})\n",
        "      del model0"
      ],
      "execution_count": 0,
      "outputs": [
        {
          "output_type": "stream",
          "text": [
            "16470/16470 [==============================] - 12s 707us/sample - loss: 0.3265 - acc: 0.8994 - val_loss: 0.3358 - val_acc: 0.8951\n",
            "Epoch 8/50\n",
            "16470/16470 [==============================] - 13s 763us/sample - loss: 0.3269 - acc: 0.8994 - val_loss: 0.3356 - val_acc: 0.8951\n",
            "Epoch 9/50\n",
            "16470/16470 [==============================] - 12s 703us/sample - loss: 0.3266 - acc: 0.8994 - val_loss: 0.3358 - val_acc: 0.8951\n",
            "Epoch 10/50\n",
            "16470/16470 [==============================] - 12s 704us/sample - loss: 0.3266 - acc: 0.8994 - val_loss: 0.3358 - val_acc: 0.8951\n",
            "Epoch 11/50\n",
            "16470/16470 [==============================] - 12s 713us/sample - loss: 0.3265 - acc: 0.8994 - val_loss: 0.3360 - val_acc: 0.8951\n",
            "Epoch 12/50\n",
            " 8304/16470 [==============>...............] - ETA: 5s - loss: 0.3288 - acc: 0.8984"
          ],
          "name": "stdout"
        }
      ]
    }
  ]
}