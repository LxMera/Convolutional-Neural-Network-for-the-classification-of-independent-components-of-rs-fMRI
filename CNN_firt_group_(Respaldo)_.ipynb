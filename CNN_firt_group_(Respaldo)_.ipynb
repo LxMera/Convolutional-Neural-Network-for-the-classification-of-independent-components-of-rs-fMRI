{
  "nbformat": 4,
  "nbformat_minor": 0,
  "metadata": {
    "colab": {
      "name": "CNN - firt group (Respaldo) .ipynb",
      "provenance": [],
      "collapsed_sections": [],
      "include_colab_link": true
    },
    "kernelspec": {
      "name": "python3",
      "display_name": "Python 3"
    },
    "accelerator": "GPU"
  },
  "cells": [
    {
      "cell_type": "markdown",
      "metadata": {
        "id": "view-in-github",
        "colab_type": "text"
      },
      "source": [
        "<a href=\"https://colab.research.google.com/github/LxMera/Convolutional-Neural-Network-for-the-classification-of-independent-components-of-rs-fMRI/blob/master/CNN_firt_group_(Respaldo)_.ipynb\" target=\"_parent\"><img src=\"https://colab.research.google.com/assets/colab-badge.svg\" alt=\"Open In Colab\"/></a>"
      ]
    },
    {
      "cell_type": "markdown",
      "metadata": {
        "id": "3HYdNkIx1Td5",
        "colab_type": "text"
      },
      "source": [
        "### Libraries"
      ]
    },
    {
      "cell_type": "code",
      "metadata": {
        "id": "zHIGHVJD1RvV",
        "colab_type": "code",
        "colab": {}
      },
      "source": [
        "import os\n",
        "import cv2\n",
        "import sys\n",
        "import glob\n",
        "import random\n",
        "import warnings\n",
        "import numpy as np\n",
        "import pandas as pd\n",
        "import scipy.io as sio\n",
        "import tensorflow as tf\n",
        "from itertools import chain\n",
        "import matplotlib.pyplot as plt\n",
        "from skimage.transform import resize\n",
        "from skimage.morphology import label\n",
        "from tensorflow.keras.layers import Input\n",
        "from tensorflow.keras import backend as K\n",
        "from tensorflow.keras.layers import concatenate\n",
        "from sklearn.preprocessing import StandardScaler\n",
        "from tensorflow.keras.layers import MaxPooling2D\n",
        "from tensorflow.keras.layers import Dropout, Lambda\n",
        "from tensorflow.keras.models import Model, load_model\n",
        "from tensorflow.keras.layers import Conv2D, Conv2DTranspose\n",
        "from tensorflow.keras.layers import Flatten, Dense, Activation\n",
        "from tensorflow.keras.callbacks import EarlyStopping, ModelCheckpoint\n",
        "from skimage.io import imread, imshow, imread_collection, concatenate_images"
      ],
      "execution_count": 0,
      "outputs": []
    },
    {
      "cell_type": "markdown",
      "metadata": {
        "id": "_mWUE9Ji0FuK",
        "colab_type": "text"
      },
      "source": [
        "### Accesses to data"
      ]
    },
    {
      "cell_type": "code",
      "metadata": {
        "id": "iFm-en3B0fY9",
        "colab_type": "code",
        "colab": {}
      },
      "source": [
        "from google.colab import drive\n",
        "drive.mount('/content/drive')"
      ],
      "execution_count": 0,
      "outputs": []
    },
    {
      "cell_type": "markdown",
      "metadata": {
        "id": "oEvbqWtC0_KM",
        "colab_type": "text"
      },
      "source": [
        "### Directory"
      ]
    },
    {
      "cell_type": "code",
      "metadata": {
        "id": "mbFEcvKT-78G",
        "colab_type": "code",
        "outputId": "685826c1-d01d-448d-886e-13ba0b8c0283",
        "colab": {
          "base_uri": "https://localhost:8080/",
          "height": 34
        }
      },
      "source": [
        "os.system('cp drive/My\\ Drive/HumanProject3/Time.mat Time.mat')\n",
        "os.system('cp drive/My\\ Drive/HumanProject3/Order.mat Order.mat')\n",
        "os.system('cp drive/My\\ Drive/HumanProject3/Labels.mat Labels.mat')\n",
        "os.system('cp drive/My\\ Drive/HumanProject3/HumanProject1.zip HumanProject1.zip')\n",
        "os.system('cp drive/My\\ Drive/HumanProject3/HumanProject2.zip HumanProject2.zip')\n",
        "os.system('cp drive/My\\ Drive/HumanProject3/HumanProject3.zip HumanProject3.zip')\n",
        "os.system('cp drive/My\\ Drive/HumanProject3/HumanProject4.zip HumanProject4.zip')\n",
        "os.system('cp drive/My\\ Drive/HumanProject3/HumanProject5.zip HumanProject5.zip')"
      ],
      "execution_count": 3,
      "outputs": [
        {
          "output_type": "execute_result",
          "data": {
            "text/plain": [
              "0"
            ]
          },
          "metadata": {
            "tags": []
          },
          "execution_count": 3
        }
      ]
    },
    {
      "cell_type": "code",
      "metadata": {
        "id": "v53w7DwmAmlt",
        "colab_type": "code",
        "outputId": "7e0b9bfd-3790-4392-acfa-2c729322d661",
        "colab": {
          "base_uri": "https://localhost:8080/",
          "height": 34
        }
      },
      "source": [
        "os.system('unzip HumanProject1.zip'), os.system('rm -r HumanProject1.zip')\n",
        "os.system('unzip HumanProject2.zip'), os.system('rm -r HumanProject2.zip')\n",
        "os.system('unzip HumanProject3.zip'), os.system('rm -r HumanProject3.zip')\n",
        "os.system('unzip HumanProject4.zip'), os.system('rm -r HumanProject4.zip')\n",
        "os.system('unzip HumanProject5.zip'), os.system('rm -r HumanProject5.zip')"
      ],
      "execution_count": 4,
      "outputs": [
        {
          "output_type": "execute_result",
          "data": {
            "text/plain": [
              "(0, 0)"
            ]
          },
          "metadata": {
            "tags": []
          },
          "execution_count": 4
        }
      ]
    },
    {
      "cell_type": "code",
      "metadata": {
        "id": "UjHzK5y21952",
        "colab_type": "code",
        "outputId": "fa62bfd5-d336-4d68-d12d-a75f2738f539",
        "colab": {
          "base_uri": "https://localhost:8080/",
          "height": 68
        }
      },
      "source": [
        "FOLD=np.sort(glob.glob('HCP_hp2000/*'))\n",
        "DATA=glob.glob('*.mat')\n",
        "\n",
        "print(FOLD)\n",
        "print(DATA[-1])"
      ],
      "execution_count": 14,
      "outputs": [
        {
          "output_type": "stream",
          "text": [
            "['HCP_hp2000/AXI' 'HCP_hp2000/BLU' 'HCP_hp2000/COM' 'HCP_hp2000/C_AXI'\n",
            " 'HCP_hp2000/C_BLU' 'HCP_hp2000/C_COM' 'HCP_hp2000/C_PCA' 'HCP_hp2000/PCA']\n",
            "Order.mat\n"
          ],
          "name": "stdout"
        }
      ]
    },
    {
      "cell_type": "code",
      "metadata": {
        "id": "OyjKRK13706h",
        "colab_type": "code",
        "outputId": "e0a89e7b-c769-4807-a03a-2f182779e366",
        "colab": {
          "base_uri": "https://localhost:8080/",
          "height": 68
        }
      },
      "source": [
        "label=sio.loadmat('Labels.mat')['labels'][0]\n",
        "order=sio.loadmat('Order.mat')['order']\n",
        "timeS=sio.loadmat('Time.mat')['series']\n",
        "\n",
        "print('Labels per component     \\t', np.shape(label))\n",
        "print('Order of images          \\t', np.shape(order))\n",
        "print('Points time per component\\t', np.shape(timeS))"
      ],
      "execution_count": 15,
      "outputs": [
        {
          "output_type": "stream",
          "text": [
            "Labels per component     \t (22877,)\n",
            "Order of images          \t (22877,)\n",
            "Points time per component\t (1200, 22877)\n"
          ],
          "name": "stdout"
        }
      ]
    },
    {
      "cell_type": "markdown",
      "metadata": {
        "id": "sTmxPH2I_7cI",
        "colab_type": "text"
      },
      "source": [
        "### Images parameters"
      ]
    },
    {
      "cell_type": "code",
      "metadata": {
        "id": "zKVKjCjG_bjP",
        "colab_type": "code",
        "outputId": "889efcd7-9b61-42ab-be1a-0a47493dcd57",
        "colab": {
          "base_uri": "https://localhost:8080/",
          "height": 34
        }
      },
      "source": [
        "DIR0='drive/My Drive/AnexosCNN/Resultados-01/'\n",
        "slic=['/Saggital','/Coronal','/Axial']\n",
        "\n",
        "#Original shape\n",
        "SAG=73\n",
        "COR=91\n",
        "AXI=77\n",
        "\n",
        "#SAG=57\n",
        "#COR=73\n",
        "#AXI=57\n",
        "\n",
        "IMG_CHANNELS = 3\n",
        "nb_classes=2\n",
        "maxR=0.4\n",
        "shap={'Axial': (SAG, COR, IMG_CHANNELS), 'Coronal': (SAG, AXI, IMG_CHANNELS), 'Saggital': (AXI, COR, IMG_CHANNELS)}\n",
        "numFolder=1 #number of folder\n",
        "print(FOLD[numFolder][11:])"
      ],
      "execution_count": 16,
      "outputs": [
        {
          "output_type": "stream",
          "text": [
            "BLU\n"
          ],
          "name": "stdout"
        }
      ]
    },
    {
      "cell_type": "markdown",
      "metadata": {
        "id": "84TwPXilsOWR",
        "colab_type": "text"
      },
      "source": [
        "### Training and test data"
      ]
    },
    {
      "cell_type": "code",
      "metadata": {
        "id": "JKye2ni1AOlp",
        "colab_type": "code",
        "outputId": "38ae618d-adaf-42bb-9537-bd0346531849",
        "colab": {
          "base_uri": "https://localhost:8080/",
          "height": 85
        }
      },
      "source": [
        "per=0.8\n",
        "per=int(np.shape(label)[0]*0.8)\n",
        "\n",
        "TEST_PATH=order[per:]\n",
        "TRAIN_PATH=order[:per]\n",
        "\n",
        "y_test =label[per:]\n",
        "y_train=label[:per]\n",
        "\n",
        "print('training labels ', y_train.shape)\n",
        "print('test labels     ', y_test.shape)\n",
        "\n",
        "print('training maps   ', TRAIN_PATH.shape)\n",
        "print('test maps       ', TEST_PATH.shape)"
      ],
      "execution_count": 18,
      "outputs": [
        {
          "output_type": "stream",
          "text": [
            "training labels  (18301,)\n",
            "test labels      (4576,)\n",
            "training maps    (18301,)\n",
            "test maps        (4576,)\n"
          ],
          "name": "stdout"
        }
      ]
    },
    {
      "cell_type": "code",
      "metadata": {
        "id": "u3IySaQ2iTOH",
        "colab_type": "code",
        "colab": {}
      },
      "source": [
        "def showSlices(ima1, ima2, ima3, sh=False):\n",
        "  plt.figure(figsize=(20,5))\n",
        "  plt.subplot(1,3,1)\n",
        "  plt.imshow(ima1)\n",
        "  plt.title('Saggital')\n",
        "  plt.axis('off')\n",
        "  plt.subplot(1,3,2)\n",
        "  plt.imshow(ima2)\n",
        "  plt.title('Coronal')\n",
        "  plt.axis('off')\n",
        "  plt.subplot(1,3,3)\n",
        "  plt.imshow(ima3)\n",
        "  plt.title('Axial')\n",
        "  plt.axis('off')\n",
        "\n",
        "  if sh:\n",
        "    print('Saggital shape ', np.shape(ima1))\n",
        "    print('Coronal shape ', np.shape(ima2))\n",
        "    print('Axial shape ', np.shape(ima3))"
      ],
      "execution_count": 0,
      "outputs": []
    },
    {
      "cell_type": "markdown",
      "metadata": {
        "id": "99UVwLQtseEg",
        "colab_type": "text"
      },
      "source": [
        "### Training images"
      ]
    },
    {
      "cell_type": "code",
      "metadata": {
        "id": "hUZU_5NME3-x",
        "colab_type": "code",
        "colab": {}
      },
      "source": [
        "def TrainingImages(ni):\n",
        "  print(FOLD[ni][11:])\n",
        "  s_train = np.zeros((len(TRAIN_PATH), AXI, COR, 3), dtype=np.uint8)\n",
        "  c_train = np.zeros((len(TRAIN_PATH), SAG, AXI, 3), dtype=np.uint8)\n",
        "  a_train = np.zeros((len(TRAIN_PATH), SAG, COR, 3), dtype=np.uint8)\n",
        "\n",
        "  cont=0\n",
        "  loop=len(TRAIN_PATH)\n",
        "\n",
        "  for n in range(loop):  \n",
        "    namea=FOLD[ni]+slic[2]+'/'+TRAIN_PATH[n].strip()+'.png'\n",
        "    namec=FOLD[ni]+slic[1]+'/'+TRAIN_PATH[n].strip()+'.png'\n",
        "    names=FOLD[ni]+slic[0]+'/'+TRAIN_PATH[n].strip()+'.png'\n",
        "    \n",
        "    imaa=cv2.imread(namea)\n",
        "    imac=cv2.imread(namec)\n",
        "    imas=cv2.imread(names)\n",
        "\n",
        "    sag=cv2.resize(imas, (AXI, COR), interpolation = cv2.INTER_AREA)\n",
        "    cor=cv2.resize(imac, (AXI, SAG), interpolation = cv2.INTER_AREA)\n",
        "    axi=cv2.resize(imaa, (COR, SAG), interpolation = cv2.INTER_AREA)\n",
        "\n",
        "    s_train[n]=np.rot90(sag)\n",
        "    c_train[n]=cor\n",
        "    a_train[n]=axi\n",
        "\n",
        "    cont=cont+1\n",
        "    print('\\rProcess ', round(cont*100/loop,2), '%...' , end =\"\")\n",
        "  return s_train, c_train, a_train"
      ],
      "execution_count": 0,
      "outputs": []
    },
    {
      "cell_type": "markdown",
      "metadata": {
        "id": "y5d9VZbzsiF7",
        "colab_type": "text"
      },
      "source": [
        "### Sample images (training)"
      ]
    },
    {
      "cell_type": "code",
      "metadata": {
        "colab_type": "code",
        "outputId": "78927e73-6429-4f06-d609-764b2038faee",
        "id": "0SFXoffwzfhh",
        "colab": {
          "base_uri": "https://localhost:8080/",
          "height": 655
        }
      },
      "source": [
        "SCA_train=TrainingImages(numFolder)\n",
        "\n",
        "signal=np.random.choice(np.where(y_train==1)[0])\n",
        "noise=np.random.choice(np.where(y_train==0)[0])\n",
        "showSlices(SCA_train[0][signal], SCA_train[1][signal], SCA_train[2][signal])\n",
        "showSlices(SCA_train[0][noise], SCA_train[1][noise], SCA_train[2][noise])"
      ],
      "execution_count": 21,
      "outputs": [
        {
          "output_type": "stream",
          "text": [
            "BLU\n",
            "Process  100.0 %..."
          ],
          "name": "stdout"
        },
        {
          "output_type": "display_data",
          "data": {
            "image/png": "[encoded data removed]",
            "text/plain": [
              "<Figure size 1440x360 with 3 Axes>"
            ]
          },
          "metadata": {
            "tags": []
          }
        },
        {
          "output_type": "display_data",
          "data": {
            "image/png": "[encoded data removed]",
            "text/plain": [
              "<Figure size 1440x360 with 3 Axes>"
            ]
          },
          "metadata": {
            "tags": []
          }
        }
      ]
    },
    {
      "cell_type": "markdown",
      "metadata": {
        "id": "dUMPyJjqsubw",
        "colab_type": "text"
      },
      "source": [
        "### Test images"
      ]
    },
    {
      "cell_type": "code",
      "metadata": {
        "id": "ljj5puiLG8Nb",
        "colab_type": "code",
        "colab": {}
      },
      "source": [
        "def testImages(ni): \n",
        "  print(FOLD[ni][11:])\n",
        "  s_test = np.zeros((len(TEST_PATH), AXI, COR, 3), dtype=np.uint8)\n",
        "  c_test = np.zeros((len(TEST_PATH), SAG, AXI, 3), dtype=np.uint8)\n",
        "  a_test = np.zeros((len(TEST_PATH), SAG, COR, 3), dtype=np.uint8)\n",
        "\n",
        "  cont=0\n",
        "  loop=len(TEST_PATH)\n",
        "\n",
        "  for n in range(loop):  \n",
        "    namea=FOLD[ni]+slic[2]+'/'+TEST_PATH[n].strip()+'.png'\n",
        "    namec=FOLD[ni]+slic[1]+'/'+TEST_PATH[n].strip()+'.png'\n",
        "    names=FOLD[ni]+slic[0]+'/'+TEST_PATH[n].strip()+'.png'\n",
        "    \n",
        "    imaa=cv2.imread(namea)\n",
        "    imac=cv2.imread(namec)\n",
        "    imas=cv2.imread(names)\n",
        "\n",
        "    sag=cv2.resize(imas, (AXI, COR), interpolation = cv2.INTER_AREA)\n",
        "    cor=cv2.resize(imac, (AXI, SAG), interpolation = cv2.INTER_AREA)\n",
        "    axi=cv2.resize(imaa, (COR, SAG), interpolation = cv2.INTER_AREA)\n",
        "\n",
        "    s_test[n]=np.rot90(sag)\n",
        "    c_test[n]=cor\n",
        "    a_test[n]=axi\n",
        "\n",
        "    cont=cont+1\n",
        "    print('\\rProcess ', round(cont*100/loop,2), '%...' , end =\"\")\n",
        "  return s_test, c_test, a_test"
      ],
      "execution_count": 0,
      "outputs": []
    },
    {
      "cell_type": "markdown",
      "metadata": {
        "id": "fouDtnUos6rR",
        "colab_type": "text"
      },
      "source": [
        "### sample images (test)"
      ]
    },
    {
      "cell_type": "code",
      "metadata": {
        "id": "FsMx96P2ihW8",
        "colab_type": "code",
        "outputId": "9c2e08df-d9c2-43f2-dbd4-c873e5a9658b",
        "colab": {
          "base_uri": "https://localhost:8080/",
          "height": 655
        }
      },
      "source": [
        "SCA_test=testImages(numFolder)\n",
        "\n",
        "signal=np.random.choice(np.where(y_test==1)[0])\n",
        "noise=np.random.choice(np.where(y_test==0)[0])\n",
        "showSlices(SCA_test[0][signal], SCA_test[1][signal], SCA_test[2][signal])\n",
        "showSlices(SCA_test[0][noise], SCA_test[1][noise], SCA_test[2][noise])"
      ],
      "execution_count": 23,
      "outputs": [
        {
          "output_type": "stream",
          "text": [
            "BLU\n",
            "Process  100.0 %..."
          ],
          "name": "stdout"
        },
        {
          "output_type": "display_data",
          "data": {
            "image/png": "[encoded data removed]",
            "text/plain": [
              "<Figure size 1440x360 with 3 Axes>"
            ]
          },
          "metadata": {
            "tags": []
          }
        },
        {
          "output_type": "display_data",
          "data": {
            "image/png": "[encoded data removed]",
            "text/plain": [
              "<Figure size 1440x360 with 3 Axes>"
            ]
          },
          "metadata": {
            "tags": []
          }
        }
      ]
    },
    {
      "cell_type": "code",
      "metadata": {
        "id": "KChmaLF1yz6S",
        "colab_type": "code",
        "outputId": "4dc8bddd-eb3b-4346-d804-f1ea57b8d2dd",
        "colab": {
          "base_uri": "https://localhost:8080/",
          "height": 51
        }
      },
      "source": [
        "print(np.shape(SCA_train[0]))\n",
        "print(np.shape(SCA_test[0]))"
      ],
      "execution_count": 25,
      "outputs": [
        {
          "output_type": "stream",
          "text": [
            "(18301, 77, 91, 3)\n",
            "(4576, 77, 91, 3)\n"
          ],
          "name": "stdout"
        }
      ]
    },
    {
      "cell_type": "markdown",
      "metadata": {
        "id": "iR5B3g_SUQ0t",
        "colab_type": "text"
      },
      "source": [
        "### Model 1"
      ]
    },
    {
      "cell_type": "code",
      "metadata": {
        "id": "GobqjcS9INJe",
        "colab_type": "code",
        "colab": {}
      },
      "source": [
        "def get_model_1(Slic):\n",
        "\n",
        "    print(Slic+' model shape ', shap[Slic])\n",
        "    tf.reset_default_graph()\n",
        "    tf.keras.backend.clear_session()    \n",
        "    \n",
        "    inputs = Input(shap[Slic])\n",
        "    s = Lambda(lambda x: x / 255) (inputs)\n",
        "\n",
        "    c1 = Conv2D(16, (3, 3), activation='elu', kernel_initializer='he_normal', padding='same') (s)\n",
        "    c1 = Dropout(maxR) (c1)\n",
        "\n",
        "    c1 = Conv2D(16, (3, 3), activation='elu', kernel_initializer='he_normal', padding='same') (c1)\n",
        "    c1 = MaxPooling2D((2, 2)) (c1)    \n",
        "    \n",
        "    #Flatten layers\n",
        "    c6 = Flatten()(c1)\n",
        "        \n",
        "    c6 = Dense(16, activation='relu')(c6)\n",
        "    c6 = Dropout(maxR)(c6)   \n",
        "\n",
        "    c6 = Dense(8, activation='relu')(c6)\n",
        "    c6 = Dropout(maxR)(c6)  \n",
        "\n",
        "    c6 = Dense(4, activation='relu')(c6)\n",
        "    c6 = Dropout(maxR)(c6)    \n",
        "       \n",
        "    outputs = Dense(nb_classes, activation='softmax')(c6)\n",
        "\n",
        "    model = Model(inputs=[inputs], outputs=[outputs])\n",
        "    model.compile(optimizer='adam', loss='sparse_categorical_crossentropy', metrics=['accuracy'])\n",
        "        \n",
        "    return model"
      ],
      "execution_count": 0,
      "outputs": []
    },
    {
      "cell_type": "markdown",
      "metadata": {
        "id": "WPQOCAA1UTzc",
        "colab_type": "text"
      },
      "source": [
        "### Model with one layer"
      ]
    },
    {
      "cell_type": "code",
      "metadata": {
        "id": "i-DnyH9vFetP",
        "colab_type": "code",
        "colab": {}
      },
      "source": [
        "def get_Layer_1(Slic):\n",
        "    print(Slic+' model shape ', shap[Slic])\n",
        "    tf.reset_default_graph()\n",
        "    tf.keras.backend.clear_session()    \n",
        "    \n",
        "    inputs = Input(shap[Slic])\n",
        "    s = Lambda(lambda x: x / 255) (inputs)\n",
        "\n",
        "    c1 = Conv2D(32, (3, 3), activation='elu', kernel_initializer='he_normal', padding='same') (s)\n",
        "    c1 = MaxPooling2D((2, 2)) (c1)    \n",
        "    c1 = Dropout(maxR) (c1) \n",
        "    \n",
        "    #Flatten layers\n",
        "    c6 = Flatten()(c1)\n",
        "        \n",
        "    c6 = Dense(128, activation='relu')(c6)\n",
        "    c6 = Dropout(maxR)(c6)       \n",
        "       \n",
        "    outputs = Dense(nb_classes, activation='softmax')(c6)\n",
        "\n",
        "    model = Model(inputs=[inputs], outputs=[outputs])\n",
        "    model.compile(optimizer='adam', loss='sparse_categorical_crossentropy', metrics=['accuracy'])\n",
        "        \n",
        "    return model"
      ],
      "execution_count": 0,
      "outputs": []
    },
    {
      "cell_type": "markdown",
      "metadata": {
        "id": "QcL75a_OUZmO",
        "colab_type": "text"
      },
      "source": [
        "### Model with two layers"
      ]
    },
    {
      "cell_type": "code",
      "metadata": {
        "id": "Uw1AjwNQHRaW",
        "colab_type": "code",
        "colab": {}
      },
      "source": [
        "def get_Layer_2(Slic):\n",
        "    print(Slic+' model shape ', shap[Slic])\n",
        "    tf.reset_default_graph()\n",
        "    tf.keras.backend.clear_session()    \n",
        "    \n",
        "    inputs = Input(shap[Slic])\n",
        "    s = Lambda(lambda x: x / 255) (inputs)\n",
        "\n",
        "    c1 = Conv2D(32, (3, 3), activation='elu', kernel_initializer='he_normal', padding='same') (s)\n",
        "    c1 = MaxPooling2D((2, 2)) (c1)    \n",
        "    c1 = Dropout(maxR) (c1)\n",
        "\n",
        "    c2 = Conv2D(64, (3, 3), activation='elu', kernel_initializer='he_normal', padding='same') (c1)\n",
        "    c2 = MaxPooling2D((2, 2)) (c2)    \n",
        "    c2 = Dropout(maxR) (c2)\n",
        "    \n",
        "    #Flatten layers\n",
        "    c6 = Flatten()(c2)\n",
        "        \n",
        "    c6 = Dense(128, activation='relu')(c6)\n",
        "    c6 = Dropout(maxR)(c6)       \n",
        "       \n",
        "    outputs = Dense(nb_classes, activation='softmax')(c6)\n",
        "\n",
        "    model = Model(inputs=[inputs], outputs=[outputs])\n",
        "    model.compile(optimizer='adam', loss='sparse_categorical_crossentropy', metrics=['accuracy'])\n",
        "        \n",
        "    return model"
      ],
      "execution_count": 0,
      "outputs": []
    },
    {
      "cell_type": "markdown",
      "metadata": {
        "id": "2MzVAmG2UeyU",
        "colab_type": "text"
      },
      "source": [
        "### Model with three layers"
      ]
    },
    {
      "cell_type": "code",
      "metadata": {
        "id": "6UlMmbYcHel9",
        "colab_type": "code",
        "colab": {}
      },
      "source": [
        "def get_Layer_3(Slic):\n",
        "    print(Slic+' model shape ', shap[Slic])\n",
        "    tf.reset_default_graph()\n",
        "    tf.keras.backend.clear_session()    \n",
        "    \n",
        "    inputs = Input(shap[Slic])\n",
        "    s = Lambda(lambda x: x / 255) (inputs)\n",
        "\n",
        "    c1 = Conv2D(32, (3, 3), activation='elu', kernel_initializer='he_normal', padding='same') (s)\n",
        "    c1 = MaxPooling2D((2, 2)) (c1)    \n",
        "    c1 = Dropout(maxR) (c1)\n",
        "\n",
        "    c2 = Conv2D(64, (3, 3), activation='elu', kernel_initializer='he_normal', padding='same') (c1)\n",
        "    c2 = MaxPooling2D((2, 2)) (c2)    \n",
        "    c2 = Dropout(maxR) (c2)\n",
        "\n",
        "    c3 = Conv2D(128, (3, 3), activation='elu', kernel_initializer='he_normal', padding='same') (c2)\n",
        "    c3 = MaxPooling2D((2, 2)) (c3)    \n",
        "    c3 = Dropout(maxR) (c3)\n",
        "    \n",
        "    #Flatten layers\n",
        "    c6 = Flatten()(c3)\n",
        "        \n",
        "    c6 = Dense(128, activation='relu')(c6)\n",
        "    c6 = Dropout(maxR)(c6)       \n",
        "       \n",
        "    outputs = Dense(nb_classes, activation='softmax')(c6)\n",
        "\n",
        "    model = Model(inputs=[inputs], outputs=[outputs])\n",
        "    model.compile(optimizer='adam', loss='sparse_categorical_crossentropy', metrics=['accuracy'])\n",
        "        \n",
        "    return model"
      ],
      "execution_count": 0,
      "outputs": []
    },
    {
      "cell_type": "markdown",
      "metadata": {
        "id": "WoGnTKPyUrCu",
        "colab_type": "text"
      },
      "source": [
        "### Model with four layers"
      ]
    },
    {
      "cell_type": "code",
      "metadata": {
        "id": "LEf4dRauHeRT",
        "colab_type": "code",
        "colab": {}
      },
      "source": [
        "def get_Layer_4(Slic):\n",
        "    print(Slic+' model shape ', shap[Slic])\n",
        "    tf.reset_default_graph()\n",
        "    tf.keras.backend.clear_session()    \n",
        "    \n",
        "    inputs = Input(shap[Slic])\n",
        "    s = Lambda(lambda x: x / 255) (inputs)\n",
        "\n",
        "    c1 = Conv2D(32, (3, 3), activation='elu', kernel_initializer='he_normal', padding='same') (s)\n",
        "    c1 = MaxPooling2D((2, 2)) (c1)    \n",
        "    c1 = Dropout(maxR) (c1) \n",
        "\n",
        "    c2 = Conv2D(32, (3, 3), activation='elu', kernel_initializer='he_normal', padding='same') (c1)\n",
        "    c2 = MaxPooling2D((2, 2)) (c2)    \n",
        "    c2 = Dropout(maxR) (c2)\n",
        "\n",
        "    c3 = Conv2D(64, (3, 3), activation='elu', kernel_initializer='he_normal', padding='same') (c2)\n",
        "    c3 = MaxPooling2D((2, 2)) (c3)    \n",
        "    c3 = Dropout(maxR) (c3)\n",
        "\n",
        "    c4 = Conv2D(128, (3, 3), activation='elu', kernel_initializer='he_normal', padding='same') (c3)\n",
        "    c4 = MaxPooling2D((2, 2)) (c4)    \n",
        "    c4 = Dropout(maxR) (c4)\n",
        "    \n",
        "    #Flatten layers\n",
        "    c6 = Flatten()(c4)\n",
        "\n",
        "    c6 = Dense(512, activation='relu')(c6)\n",
        "    c6 = Dropout(maxR)(c6)\n",
        "        \n",
        "    c6 = Dense(128, activation='relu')(c6)\n",
        "    c6 = Dropout(maxR)(c6)       \n",
        "       \n",
        "    outputs = Dense(nb_classes, activation='softmax')(c6)\n",
        "\n",
        "    model = Model(inputs=[inputs], outputs=[outputs])\n",
        "    model.compile(optimizer='adam', loss='sparse_categorical_crossentropy', metrics=['accuracy'])\n",
        "        \n",
        "    return model"
      ],
      "execution_count": 0,
      "outputs": []
    },
    {
      "cell_type": "markdown",
      "metadata": {
        "id": "_sQGF1j4UzCr",
        "colab_type": "text"
      },
      "source": [
        "### Model LeNet"
      ]
    },
    {
      "cell_type": "code",
      "metadata": {
        "id": "ZFqEEaAnVCXQ",
        "colab_type": "code",
        "colab": {}
      },
      "source": [
        "def get_LeNet(Slic):\n",
        "\n",
        "    print(Slic+' model shape ', shap[Slic])\n",
        "    tf.reset_default_graph()\n",
        "    tf.keras.backend.clear_session()    \n",
        "    \n",
        "    inputs = Input(shap[Slic])\n",
        "    s = Lambda(lambda x: x / 255) (inputs)\n",
        "\n",
        "    c1 = Conv2D(20, (5, 5), activation='relu', kernel_initializer='he_normal', padding='same') (s)\n",
        "    c1 = MaxPooling2D((2, 2)) (c1)\n",
        "    c1 = Dropout(maxR)(c1) \n",
        "\n",
        "    c2 = Conv2D(50, (5, 5), activation='relu', kernel_initializer='he_normal', padding='same') (c1)\n",
        "    c2 = MaxPooling2D((2, 2)) (c2)\n",
        "    c2 = Dropout(maxR)(c2) \n",
        "\n",
        "    c6 = Flatten()(c2)\n",
        "\n",
        "    c6 = Dense(500, activation='relu')(c6)\n",
        "    c6 = Dropout(maxR)(c6) \n",
        "       \n",
        "    outputs = Dense(nb_classes, activation='softmax')(c6)\n",
        "\n",
        "    model = Model(inputs=[inputs], outputs=[outputs])\n",
        "    model.compile(optimizer='adam', loss='sparse_categorical_crossentropy', metrics=['accuracy'])\n",
        "        \n",
        "    return model"
      ],
      "execution_count": 0,
      "outputs": []
    },
    {
      "cell_type": "markdown",
      "metadata": {
        "id": "3GpHdk2JUvbE",
        "colab_type": "text"
      },
      "source": [
        "### Model Tree SCA"
      ]
    },
    {
      "cell_type": "code",
      "metadata": {
        "id": "QrME4vdwKo5v",
        "colab_type": "code",
        "colab": {}
      },
      "source": [
        "def get_model_Tree_SCA():\n",
        "    tf.reset_default_graph()\n",
        "    tf.keras.backend.clear_session()    \n",
        "    \n",
        "    inputsA = Input(shap['Axial'])\n",
        "    sa = Lambda(lambda x: x / 255) (inputsA)\n",
        "    c1 = Conv2D(16, (3, 3), activation='elu', kernel_initializer='he_normal', padding='same') (sa)\n",
        "    c1 = Dropout(maxR) (c1)\n",
        "    c1 = Conv2D(16, (3, 3), activation='elu', kernel_initializer='he_normal', padding='same') (c1)\n",
        "    c1 = MaxPooling2D((2, 2)) (c1)\n",
        "\n",
        "    inputsC = Input(shap['Coronal'])\n",
        "    sc = Lambda(lambda x: x / 255) (inputsC)\n",
        "    c3 = Conv2D(16, (3, 3), activation='elu', kernel_initializer='he_normal', padding='same') (sc)\n",
        "    c3 = Dropout(maxR) (c3)\n",
        "    c3 = Conv2D(16, (3, 3), activation='elu', kernel_initializer='he_normal', padding='same') (c3)\n",
        "    c3 = MaxPooling2D((2, 2)) (c3) \n",
        "\n",
        "    inputsS = Input(shap['Saggital'])\n",
        "    ss = Lambda(lambda x: x / 255) (inputsS)\n",
        "    c5 = Conv2D(16, (3, 3), activation='elu', kernel_initializer='he_normal', padding='same') (ss)\n",
        "    c5 = Dropout(maxR) (c5)\n",
        "    c5 = Conv2D(16, (3, 3), activation='elu', kernel_initializer='he_normal', padding='same') (c5)\n",
        "    c5 = MaxPooling2D((2, 2)) (c5)\n",
        "\n",
        "    #Flatten layers\n",
        "    f2 = Flatten()(c1)\n",
        "    f4 = Flatten()(c3)\n",
        "    f6 = Flatten()(c5)\n",
        "\n",
        "    c7 = concatenate([f2, f4, f6])     \n",
        "        \n",
        "    c7 = Dense(16, activation='relu')(c7)\n",
        "    c7 = Dropout(maxR)(c7)   \n",
        "\n",
        "    c7 = Dense(8, activation='relu')(c7)\n",
        "    c7 = Dropout(maxR)(c7)  \n",
        "\n",
        "    c7 = Dense(4, activation='relu')(c7)\n",
        "    c7 = Dropout(maxR)(c7)    \n",
        "       \n",
        "    outputs = Dense(nb_classes, activation='softmax')(c7)\n",
        "\n",
        "    model = Model(inputs=[inputsA, inputsC, inputsS], outputs=[outputs])\n",
        "    model.compile(optimizer='adam', loss='sparse_categorical_crossentropy', metrics=['accuracy'])\n",
        "        \n",
        "    return model"
      ],
      "execution_count": 0,
      "outputs": []
    },
    {
      "cell_type": "markdown",
      "metadata": {
        "id": "u2puku5qlhqk",
        "colab_type": "text"
      },
      "source": [
        "# Training"
      ]
    },
    {
      "cell_type": "code",
      "metadata": {
        "id": "oCygHU3kaudG",
        "colab_type": "code",
        "outputId": "36c79d64-6c4e-4feb-f8c8-e849af7cd5f7",
        "colab": {
          "base_uri": "https://localhost:8080/",
          "height": 952
        }
      },
      "source": [
        "DIR=DIR0+'MODELS/'\n",
        "DIRM=DIR0+'MAT/'\n",
        "DIRT=DIR0+'TEST/'\n",
        "\n",
        "for k in range(10):\n",
        "  for i in range(8):\n",
        "    SCA_train=TrainingImages(i)\n",
        "    SCA_test=testImages(i) \n",
        "    for j in range(3):    \n",
        "      ext=FOLD[i][11:]+'-'+slic[j][1:]+'-'+str(k)+'.h5'\n",
        "\n",
        "      name=DIR+'MODEL1-'+ext\n",
        "      print(name)      \n",
        "      model0= get_model_1(slic[j][1:])\n",
        "      earlystopper = EarlyStopping(patience=5, verbose=0)\n",
        "      checkpointer = ModelCheckpoint(name, verbose=0, save_best_only=True)\n",
        "      result = model0.fit(SCA_train[j], y_train, validation_split=0.1, batch_size=16, epochs=50, callbacks=[earlystopper, checkpointer])\n",
        "      sio.savemat(DIRM+name[46:-3]+'.mat', {'acc': result.history['acc'], 'val_acc': result.history['val_acc'],  'loss': result.history['loss'],  'val_loss': result.history['val_loss']})\n",
        "      test_preds = model0.predict(SCA_test[j])\n",
        "      test_pre=test_preds.argmax(axis=1)\n",
        "      Accuracy = np.mean(test_pre == y_test)\n",
        "      sio.savemat(DIRT+name[46:-3]+'.mat', {'Accuracy test': Accuracy,'vec_pred': test_preds})      \n",
        "      del model0\n",
        "\n",
        "      name=DIR+'LAYER1-'+ext\n",
        "      print(name)\n",
        "      model0= get_Layer_1(slic[j][1:])\n",
        "      earlystopper = EarlyStopping(patience=5, verbose=0)\n",
        "      checkpointer = ModelCheckpoint(name, verbose=0, save_best_only=True)\n",
        "      result = model0.fit(SCA_train[j], y_train, validation_split=0.1, batch_size=16, epochs=50, callbacks=[earlystopper, checkpointer])\n",
        "      sio.savemat(DIRM+name[46:-3]+'.mat', {'acc': result.history['acc'], 'val_acc': result.history['val_acc'],  'loss': result.history['loss'],  'val_loss': result.history['val_loss']})\n",
        "      test_preds = model0.predict(SCA_test[j])\n",
        "      test_pre=test_preds.argmax(axis=1)\n",
        "      Accuracy = np.mean(test_pre == y_test)\n",
        "      sio.savemat(DIRT+name[46:-3]+'.mat', {'Accuracy test': Accuracy,'vec_pred': test_preds})\n",
        "      del model0\n",
        "\n",
        "      name=DIR+'LAYER2-'+ext\n",
        "      print(name)\n",
        "      model0= get_Layer_2(slic[j][1:])\n",
        "      earlystopper = EarlyStopping(patience=5, verbose=0)\n",
        "      checkpointer = ModelCheckpoint(name, verbose=0, save_best_only=True)\n",
        "      result = model0.fit(SCA_train[j], y_train, validation_split=0.1, batch_size=16, epochs=50, callbacks=[earlystopper, checkpointer])\n",
        "      sio.savemat(DIRM+name[46:-3]+'.mat', {'acc': result.history['acc'], 'val_acc': result.history['val_acc'],  'loss': result.history['loss'],  'val_loss': result.history['val_loss']})\n",
        "      test_preds = model0.predict(SCA_test[j])\n",
        "      test_pre=test_preds.argmax(axis=1)\n",
        "      Accuracy = np.mean(test_pre == y_test)\n",
        "      sio.savemat(DIRT+name[46:-3]+'.mat', {'Accuracy test': Accuracy,'vec_pred': test_preds})\n",
        "      del model0\n",
        "\n",
        "      name=DIR+'LAYER3-'+ext\n",
        "      print(name)\n",
        "      model0= get_Layer_3(slic[j][1:])\n",
        "      earlystopper = EarlyStopping(patience=5, verbose=0)\n",
        "      checkpointer = ModelCheckpoint(name, verbose=0, save_best_only=True)\n",
        "      result = model0.fit(SCA_train[j], y_train, validation_split=0.1, batch_size=16, epochs=50, callbacks=[earlystopper, checkpointer])\n",
        "      sio.savemat(DIRM+name[46:-3]+'.mat', {'acc': result.history['acc'], 'val_acc': result.history['val_acc'],  'loss': result.history['loss'],  'val_loss': result.history['val_loss']})\n",
        "      test_preds = model0.predict(SCA_test[j])\n",
        "      test_pre=test_preds.argmax(axis=1)\n",
        "      Accuracy = np.mean(test_pre == y_test)\n",
        "      sio.savemat(DIRT+name[46:-3]+'.mat', {'Accuracy test': Accuracy,'vec_pred': test_preds})\n",
        "      del model0\n",
        "\n",
        "      name=DIR+'LAYER4-'+ext\n",
        "      print(name)\n",
        "      model0= get_Layer_4(slic[j][1:])\n",
        "      earlystopper = EarlyStopping(patience=5, verbose=0)\n",
        "      checkpointer = ModelCheckpoint(name, verbose=0, save_best_only=True)\n",
        "      result = model0.fit(SCA_train[j], y_train, validation_split=0.1, batch_size=16, epochs=50, callbacks=[earlystopper, checkpointer])\n",
        "      sio.savemat(DIRM+name[46:-3]+'.mat', {'acc': result.history['acc'], 'val_acc': result.history['val_acc'],  'loss': result.history['loss'],  'val_loss': result.history['val_loss']})\n",
        "      test_preds = model0.predict(SCA_test[j])\n",
        "      test_pre=test_preds.argmax(axis=1)\n",
        "      Accuracy = np.mean(test_pre == y_test)\n",
        "      sio.savemat(DIRT+name[46:-3]+'.mat', {'Accuracy test': Accuracy,'vec_pred': test_preds})\n",
        "      del model0\n",
        "\n",
        "      name=DIR+'LeNet-'+ext\n",
        "      print(name)\n",
        "      model0= get_LeNet(slic[j][1:])\n",
        "      earlystopper = EarlyStopping(patience=5, verbose=0)\n",
        "      checkpointer = ModelCheckpoint(name, verbose=0, save_best_only=True)\n",
        "      result = model0.fit(SCA_train[j], y_train, validation_split=0.1, batch_size=16, epochs=50, callbacks=[earlystopper, checkpointer])\n",
        "      sio.savemat(DIRM+name[46:-3]+'.mat', {'acc': result.history['acc'], 'val_acc': result.history['val_acc'],  'loss': result.history['loss'],  'val_loss': result.history['val_loss']})\n",
        "      test_preds = model0.predict(SCA_test[j])\n",
        "      test_pre=test_preds.argmax(axis=1)\n",
        "      Accuracy = np.mean(test_pre == y_test)\n",
        "      sio.savemat(DIRT+name[46:-3]+'.mat', {'Accuracy test': Accuracy,'vec_pred': test_preds})\n",
        "      del model0"
      ],
      "execution_count": 0,
      "outputs": [
        {
          "output_type": "stream",
          "text": [
            "16470/16470 [==============================] - 6s 367us/sample - loss: 0.0542 - acc: 0.9811 - val_loss: 0.2333 - val_acc: 0.9596\n",
            "Epoch 11/50\n",
            "16470/16470 [==============================] - 6s 367us/sample - loss: 0.0569 - acc: 0.9814 - val_loss: 0.1443 - val_acc: 0.9563\n",
            "Epoch 12/50\n",
            "16470/16470 [==============================] - 6s 365us/sample - loss: 0.0495 - acc: 0.9829 - val_loss: 0.1950 - val_acc: 0.9623\n",
            "drive/My Drive/AnexosCNN/Resultados-01/MODELS/LAYER4-AXI-Axial-0.h5\n",
            "Axial model shape  (73, 91, 3)\n",
            "Train on 16470 samples, validate on 1831 samples\n",
            "Epoch 1/50\n",
            "16470/16470 [==============================] - 6s 392us/sample - loss: 0.3305 - acc: 0.8981 - val_loss: 0.2500 - val_acc: 0.9044\n",
            "Epoch 2/50\n",
            "16470/16470 [==============================] - 6s 360us/sample - loss: 0.1863 - acc: 0.9378 - val_loss: 0.1966 - val_acc: 0.9481\n",
            "Epoch 3/50\n",
            "16470/16470 [==============================] - 6s 363us/sample - loss: 0.1404 - acc: 0.9563 - val_loss: 0.1773 - val_acc: 0.9530\n",
            "Epoch 4/50\n",
            "16470/16470 [==============================] - 6s 370us/sample - loss: 0.1298 - acc: 0.9582 - val_loss: 0.1370 - val_acc: 0.9569\n",
            "Epoch 5/50\n",
            "16470/16470 [==============================] - 6s 357us/sample - loss: 0.1177 - acc: 0.9612 - val_loss: 0.1373 - val_acc: 0.9601\n",
            "Epoch 6/50\n",
            "16470/16470 [==============================] - 6s 357us/sample - loss: 0.1075 - acc: 0.9655 - val_loss: 0.1400 - val_acc: 0.9579\n",
            "Epoch 7/50\n",
            "16470/16470 [==============================] - 6s 382us/sample - loss: 0.1076 - acc: 0.9648 - val_loss: 0.1157 - val_acc: 0.9661\n",
            "Epoch 8/50\n",
            "16470/16470 [==============================] - 6s 359us/sample - loss: 0.1040 - acc: 0.9651 - val_loss: 0.1405 - val_acc: 0.9585\n",
            "Epoch 9/50\n",
            "16470/16470 [==============================] - 6s 357us/sample - loss: 0.1016 - acc: 0.9684 - val_loss: 0.2451 - val_acc: 0.9241\n",
            "Epoch 10/50\n",
            "16470/16470 [==============================] - 6s 353us/sample - loss: 0.1011 - acc: 0.9679 - val_loss: 0.1941 - val_acc: 0.9645\n",
            "Epoch 11/50\n",
            "16470/16470 [==============================] - 6s 358us/sample - loss: 0.1032 - acc: 0.9682 - val_loss: 0.1435 - val_acc: 0.9623\n",
            "Epoch 12/50\n",
            "16470/16470 [==============================] - 6s 356us/sample - loss: 0.0981 - acc: 0.9693 - val_loss: 0.1339 - val_acc: 0.9661\n",
            "drive/My Drive/AnexosCNN/Resultados-01/MODELS/LeNet-AXI-Axial-0.h5\n",
            "Axial model shape  (73, 91, 3)\n",
            "Train on 16470 samples, validate on 1831 samples\n",
            "Epoch 1/50\n",
            "16470/16470 [==============================] - 7s 437us/sample - loss: 0.3337 - acc: 0.9177 - val_loss: 0.2313 - val_acc: 0.9405\n",
            "Epoch 2/50\n",
            "16470/16470 [==============================] - 7s 420us/sample - loss: 0.1247 - acc: 0.9586 - val_loss: 0.1674 - val_acc: 0.9459\n",
            "Epoch 3/50\n",
            "16470/16470 [==============================] - 7s 420us/sample - loss: 0.0984 - acc: 0.9675 - val_loss: 0.1412 - val_acc: 0.9585\n",
            "Epoch 4/50\n",
            "16470/16470 [==============================] - 7s 423us/sample - loss: 0.0821 - acc: 0.9724 - val_loss: 0.1266 - val_acc: 0.9601\n",
            "Epoch 5/50\n",
            "16470/16470 [==============================] - 7s 404us/sample - loss: 0.0717 - acc: 0.9766 - val_loss: 0.1269 - val_acc: 0.9607\n",
            "Epoch 6/50\n",
            "16470/16470 [==============================] - 7s 402us/sample - loss: 0.0606 - acc: 0.9787 - val_loss: 0.1389 - val_acc: 0.9607\n",
            "Epoch 7/50\n",
            "16470/16470 [==============================] - 7s 445us/sample - loss: 0.0551 - acc: 0.9804 - val_loss: 0.1252 - val_acc: 0.9634\n",
            "Epoch 8/50\n",
            "16470/16470 [==============================] - 7s 398us/sample - loss: 0.0539 - acc: 0.9817 - val_loss: 0.1283 - val_acc: 0.9623\n",
            "Epoch 9/50\n",
            "16470/16470 [==============================] - 7s 405us/sample - loss: 0.0459 - acc: 0.9840 - val_loss: 0.1415 - val_acc: 0.9552\n",
            "Epoch 10/50\n",
            " 2992/16470 [====>.........................] - ETA: 5s - loss: 0.0375 - acc: 0.9870"
          ],
          "name": "stdout"
        }
      ]
    }
  ]
}