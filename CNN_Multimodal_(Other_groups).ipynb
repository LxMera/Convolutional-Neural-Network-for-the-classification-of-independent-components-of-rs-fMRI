{
  "nbformat": 4,
  "nbformat_minor": 0,
  "metadata": {
    "colab": {
      "name": "CNN_Multimodal-(Other groups).ipynb",
      "provenance": [],
      "collapsed_sections": [],
      "include_colab_link": true
    },
    "kernelspec": {
      "name": "python3",
      "display_name": "Python 3"
    }
  },
  "cells": [
    {
      "cell_type": "markdown",
      "metadata": {
        "id": "view-in-github",
        "colab_type": "text"
      },
      "source": [
        "<a href=\"https://colab.research.google.com/github/LxMera/Convolutional-Neural-Network-for-the-classification-of-independent-components-of-rs-fMRI/blob/master/CNN_Multimodal_(Other_groups).ipynb\" target=\"_parent\"><img src=\"https://colab.research.google.com/assets/colab-badge.svg\" alt=\"Open In Colab\"/></a>"
      ]
    },
    {
      "cell_type": "markdown",
      "metadata": {
        "id": "3HYdNkIx1Td5",
        "colab_type": "text"
      },
      "source": [
        "### Libraries"
      ]
    },
    {
      "cell_type": "code",
      "metadata": {
        "id": "zHIGHVJD1RvV",
        "colab_type": "code",
        "colab": {}
      },
      "source": [
        "import os\n",
        "import cv2\n",
        "import sys\n",
        "import glob\n",
        "import random\n",
        "import warnings\n",
        "import numpy as np\n",
        "import pandas as pd\n",
        "import scipy.io as sio\n",
        "import tensorflow as tf\n",
        "from itertools import chain\n",
        "import matplotlib.pyplot as plt\n",
        "from skimage.transform import resize\n",
        "from skimage.morphology import label\n",
        "from tensorflow.keras.layers import Input\n",
        "from tensorflow.keras import backend as K\n",
        "from tensorflow.keras.layers import concatenate\n",
        "from sklearn.preprocessing import StandardScaler\n",
        "from tensorflow.keras.layers import MaxPooling2D\n",
        "from tensorflow.keras.layers import Dropout, Lambda\n",
        "from tensorflow.keras.models import Model, load_model\n",
        "from tensorflow.keras.layers import Conv2D, Conv2DTranspose\n",
        "from tensorflow.keras.layers import Flatten, Dense, Activation\n",
        "from tensorflow.keras.callbacks import EarlyStopping, ModelCheckpoint\n",
        "from skimage.io import imread, imshow, imread_collection, concatenate_images"
      ],
      "execution_count": 0,
      "outputs": []
    },
    {
      "cell_type": "markdown",
      "metadata": {
        "id": "_mWUE9Ji0FuK",
        "colab_type": "text"
      },
      "source": [
        "### Accesses to data"
      ]
    },
    {
      "cell_type": "code",
      "metadata": {
        "id": "iFm-en3B0fY9",
        "colab_type": "code",
        "outputId": "78a8c528-d2ba-42a8-a8d5-0c4114d047c8",
        "colab": {
          "base_uri": "https://localhost:8080/",
          "height": 35
        }
      },
      "source": [
        "from google.colab import drive\n",
        "drive.mount('/content/drive')"
      ],
      "execution_count": 27,
      "outputs": [
        {
          "output_type": "stream",
          "text": [
            "Drive already mounted at /content/drive; to attempt to forcibly remount, call drive.mount(\"/content/drive\", force_remount=True).\n"
          ],
          "name": "stdout"
        }
      ]
    },
    {
      "cell_type": "markdown",
      "metadata": {
        "id": "oEvbqWtC0_KM",
        "colab_type": "text"
      },
      "source": [
        "### Directory"
      ]
    },
    {
      "cell_type": "code",
      "metadata": {
        "id": "mbFEcvKT-78G",
        "colab_type": "code",
        "outputId": "33bb978d-3c19-43d2-88b9-ea0bfde22088",
        "colab": {
          "base_uri": "https://localhost:8080/",
          "height": 35
        }
      },
      "source": [
        "os.system('cp drive/My\\ Drive/WhitePro/1000WhII_MB6.zip 1000WhII_MB6.zip')\n",
        "os.system('cp drive/My\\ Drive/WhitePro/460WhII_MB6.zip 460WhII_MB6.zip')\n",
        "os.system('cp drive/My\\ Drive/WhitePro/200WhII_Standard.zip 200WhII_Standard.zip')\n",
        "os.system('cp drive/My\\ Drive/WhitePro/200Standard.zip 200Standard.zip')\n",
        "os.system('cp drive/My\\ Drive/WhitePro/180Standard.zip 180Standard.zip')\n",
        "os.system('cp drive/My\\ Drive/WhitePro/145Standard.zip 145Standard.zip')"
      ],
      "execution_count": 28,
      "outputs": [
        {
          "output_type": "execute_result",
          "data": {
            "text/plain": [
              "0"
            ]
          },
          "metadata": {
            "tags": []
          },
          "execution_count": 28
        }
      ]
    },
    {
      "cell_type": "code",
      "metadata": {
        "id": "v53w7DwmAmlt",
        "colab_type": "code",
        "colab": {
          "base_uri": "https://localhost:8080/",
          "height": 35
        },
        "outputId": "88a08bcf-d224-4d2c-eaba-5620b0512926"
      },
      "source": [
        "os.system('unzip 1000WhII_MB6.zip'),# os.system('rm -r 1000WhII_MB6.zip')\n",
        "os.system('unzip 460WhII_MB6.zip'),# os.system('rm -r 460WhII_MB6.zip')\n",
        "os.system('unzip 200WhII_Standard.zip'),# os.system('rm -r 200WhII_Standard.zip')\n",
        "os.system('unzip 200Standard.zip'),# os.system('rm -r 200Standard.zip')\n",
        "os.system('unzip 180Standard.zip'),# os.system('rm -r 180Standard.zip')\n",
        "os.system('unzip 145Standard.zip'),# os.system('rm -r 145Standard.zip')"
      ],
      "execution_count": 29,
      "outputs": [
        {
          "output_type": "execute_result",
          "data": {
            "text/plain": [
              "(256,)"
            ]
          },
          "metadata": {
            "tags": []
          },
          "execution_count": 29
        }
      ]
    },
    {
      "cell_type": "code",
      "metadata": {
        "id": "1rO9xaCNCEu5",
        "colab_type": "code",
        "colab": {
          "base_uri": "https://localhost:8080/",
          "height": 52
        },
        "outputId": "02d99e1c-f516-4de9-9f67-31972659f70d"
      },
      "source": [
        "GROUPS=np.sort(glob.glob('*.zip'))\n",
        "print(GROUPS)"
      ],
      "execution_count": 30,
      "outputs": [
        {
          "output_type": "stream",
          "text": [
            "['1000WhII_MB6.zip' '145Standard.zip' '180Standard.zip' '200Standard.zip'\n",
            " '200WhII_Standard.zip' '460WhII_MB6.zip']\n"
          ],
          "name": "stdout"
        }
      ]
    },
    {
      "cell_type": "code",
      "metadata": {
        "id": "X0YVL8EDCINx",
        "colab_type": "code",
        "colab": {
          "base_uri": "https://localhost:8080/",
          "height": 35
        },
        "outputId": "92f2c382-04fd-4823-9aef-be8df2bff93f"
      },
      "source": [
        "grp=5\n",
        "GROUPS[grp][:]"
      ],
      "execution_count": 31,
      "outputs": [
        {
          "output_type": "execute_result",
          "data": {
            "text/plain": [
              "'460WhII_MB6.zip'"
            ]
          },
          "metadata": {
            "tags": []
          },
          "execution_count": 31
        }
      ]
    },
    {
      "cell_type": "code",
      "metadata": {
        "id": "UjHzK5y21952",
        "colab_type": "code",
        "colab": {
          "base_uri": "https://localhost:8080/",
          "height": 88
        },
        "outputId": "5e609342-5f3a-46ae-de9f-d181c564b181"
      },
      "source": [
        "FOLD=np.sort(glob.glob(GROUPS[grp][:-4]+'/*[!_.mat]'))\n",
        "DATA=glob.glob(GROUPS[grp][:-4]+'/*.mat')\n",
        "\n",
        "print(FOLD)\n",
        "print(DATA[-1])"
      ],
      "execution_count": 32,
      "outputs": [
        {
          "output_type": "stream",
          "text": [
            "['460WhII_MB6/AXI' '460WhII_MB6/BLU' '460WhII_MB6/COM' '460WhII_MB6/C_AXI'\n",
            " '460WhII_MB6/C_BLU' '460WhII_MB6/C_COM' '460WhII_MB6/C_PCA'\n",
            " '460WhII_MB6/PCA']\n",
            "460WhII_MB6/Order.mat\n"
          ],
          "name": "stdout"
        }
      ]
    },
    {
      "cell_type": "code",
      "metadata": {
        "id": "OyjKRK13706h",
        "colab_type": "code",
        "colab": {
          "base_uri": "https://localhost:8080/",
          "height": 70
        },
        "outputId": "a000804c-1506-44bb-bb85-a13b29955b25"
      },
      "source": [
        "label=sio.loadmat(GROUPS[grp][:-4]+'/Labels.mat')['labels'][0]\n",
        "order=sio.loadmat(GROUPS[grp][:-4]+'/Order.mat')['order']\n",
        "timeS=sio.loadmat(GROUPS[grp][:-4]+'/Time.mat')['series']\n",
        "\n",
        "print('Labels per component     \\t', np.shape(label))\n",
        "print('Order of images          \\t', np.shape(order))\n",
        "print('Points time per component\\t', np.shape(timeS))"
      ],
      "execution_count": 33,
      "outputs": [
        {
          "output_type": "stream",
          "text": [
            "Labels per component     \t (3346,)\n",
            "Order of images          \t (3346,)\n",
            "Points time per component\t (460, 3346)\n"
          ],
          "name": "stdout"
        }
      ]
    },
    {
      "cell_type": "markdown",
      "metadata": {
        "id": "sTmxPH2I_7cI",
        "colab_type": "text"
      },
      "source": [
        "### Images parameters"
      ]
    },
    {
      "cell_type": "code",
      "metadata": {
        "id": "uBeIIu0hCUsG",
        "colab_type": "code",
        "colab": {
          "base_uri": "https://localhost:8080/",
          "height": 52
        },
        "outputId": "d245487a-b71d-4704-9745-d024ec0cb395"
      },
      "source": [
        "print(GROUPS[grp][:-4])\n",
        "os.system('mkdir drive/My\\ Drive/AnexosCNN2/ResultadTX'+str(grp))\n",
        "os.system('mkdir drive/My\\ Drive/AnexosCNN2/ResultadTX'+str(grp)+'/MAT')\n",
        "os.system('mkdir drive/My\\ Drive/AnexosCNN2/ResultadTX'+str(grp)+'/MODELS')\n",
        "os.system('mkdir drive/My\\ Drive/AnexosCNN2/ResultadTX'+str(grp)+'/TEST')"
      ],
      "execution_count": 34,
      "outputs": [
        {
          "output_type": "stream",
          "text": [
            "460WhII_MB6\n"
          ],
          "name": "stdout"
        },
        {
          "output_type": "execute_result",
          "data": {
            "text/plain": [
              "256"
            ]
          },
          "metadata": {
            "tags": []
          },
          "execution_count": 34
        }
      ]
    },
    {
      "cell_type": "code",
      "metadata": {
        "id": "AqMqgMm0C1ft",
        "colab_type": "code",
        "colab": {}
      },
      "source": [
        "form=np.array([[73,\t92,\t82], [41,\t49,\t34], [51,\t63,\t34], [49,\t61,\t48], [50,\t61,\t49], [72,\t92,\t70]])"
      ],
      "execution_count": 0,
      "outputs": []
    },
    {
      "cell_type": "code",
      "metadata": {
        "id": "zKVKjCjG_bjP",
        "colab_type": "code",
        "colab": {
          "base_uri": "https://localhost:8080/",
          "height": 35
        },
        "outputId": "02926648-3a24-4b25-a5b9-2b1e74f2f1e6"
      },
      "source": [
        "DIR0='drive/My Drive/AnexosCNN2/ResultadTX'+str(grp)+'/'\n",
        "slic=['/Saggital','/Coronal','/Axial']\n",
        "\n",
        "#Original shape\n",
        "#SAG=form[grp,0]\n",
        "#COR=form[grp,1]\n",
        "#AXI=form[grp,2]\n",
        "\n",
        "SAG=57\n",
        "COR=73\n",
        "AXI=57\n",
        "\n",
        "IMG_CHANNELS = 3\n",
        "nb_classes=2\n",
        "maxR=0.4\n",
        "shap={'Axial': (SAG, COR, IMG_CHANNELS), 'Coronal': (SAG, AXI, IMG_CHANNELS), 'Saggital': (AXI, COR, IMG_CHANNELS)}\n",
        "numFolder=1 #number of folder\n",
        "print(FOLD[numFolder])"
      ],
      "execution_count": 36,
      "outputs": [
        {
          "output_type": "stream",
          "text": [
            "460WhII_MB6/BLU\n"
          ],
          "name": "stdout"
        }
      ]
    },
    {
      "cell_type": "markdown",
      "metadata": {
        "id": "84TwPXilsOWR",
        "colab_type": "text"
      },
      "source": [
        "### Training and test data"
      ]
    },
    {
      "cell_type": "code",
      "metadata": {
        "id": "JKye2ni1AOlp",
        "colab_type": "code",
        "colab": {
          "base_uri": "https://localhost:8080/",
          "height": 88
        },
        "outputId": "57db87fb-7370-4cc4-bf64-ebecaa4d6862"
      },
      "source": [
        "per=0.8\n",
        "per=int(np.shape(label)[0]*0.8)\n",
        "\n",
        "TEST_PATH=order[per:]\n",
        "TRAIN_PATH=order[:per]\n",
        "\n",
        "y_test =label[per:]\n",
        "y_train=label[:per]\n",
        "\n",
        "print('training labels ', y_train.shape)\n",
        "print('test labels     ', y_test.shape)\n",
        "\n",
        "print('training maps   ', TRAIN_PATH.shape)\n",
        "print('test maps       ', TEST_PATH.shape)"
      ],
      "execution_count": 37,
      "outputs": [
        {
          "output_type": "stream",
          "text": [
            "training labels  (2676,)\n",
            "test labels      (670,)\n",
            "training maps    (2676,)\n",
            "test maps        (670,)\n"
          ],
          "name": "stdout"
        }
      ]
    },
    {
      "cell_type": "code",
      "metadata": {
        "id": "u3IySaQ2iTOH",
        "colab_type": "code",
        "colab": {}
      },
      "source": [
        "def showSlices(ima1, ima2, ima3, sh=False):\n",
        "  plt.figure(figsize=(20,5))\n",
        "  plt.subplot(1,3,1)\n",
        "  plt.imshow(ima1)\n",
        "  plt.title('Saggital')\n",
        "  plt.axis('off')\n",
        "  plt.subplot(1,3,2)\n",
        "  plt.imshow(ima2)\n",
        "  plt.title('Coronal')\n",
        "  plt.axis('off')\n",
        "  plt.subplot(1,3,3)\n",
        "  plt.imshow(ima3)\n",
        "  plt.title('Axial')\n",
        "  plt.axis('off')\n",
        "\n",
        "  if sh:\n",
        "    print('Saggital shape ', np.shape(ima1))\n",
        "    print('Coronal shape ', np.shape(ima2))\n",
        "    print('Axial shape ', np.shape(ima3))"
      ],
      "execution_count": 0,
      "outputs": []
    },
    {
      "cell_type": "markdown",
      "metadata": {
        "id": "99UVwLQtseEg",
        "colab_type": "text"
      },
      "source": [
        "### Training images"
      ]
    },
    {
      "cell_type": "code",
      "metadata": {
        "id": "hUZU_5NME3-x",
        "colab_type": "code",
        "colab": {}
      },
      "source": [
        "def TrainingImages(ni):\n",
        "  print(FOLD[ni])\n",
        "  s_train = np.zeros((len(TRAIN_PATH), AXI, COR, 3), dtype=np.uint8)\n",
        "  c_train = np.zeros((len(TRAIN_PATH), SAG, AXI, 3), dtype=np.uint8)\n",
        "  a_train = np.zeros((len(TRAIN_PATH), SAG, COR, 3), dtype=np.uint8)\n",
        "\n",
        "  cont=0\n",
        "  loop=len(TRAIN_PATH)\n",
        "\n",
        "  for n in range(loop):  \n",
        "    namea=FOLD[ni]+slic[2]+'/'+TRAIN_PATH[n].strip()+'.png'\n",
        "    namec=FOLD[ni]+slic[1]+'/'+TRAIN_PATH[n].strip()+'.png'\n",
        "    names=FOLD[ni]+slic[0]+'/'+TRAIN_PATH[n].strip()+'.png'\n",
        "    \n",
        "    imaa=cv2.imread(namea)\n",
        "    imac=cv2.imread(namec)\n",
        "    imas=cv2.imread(names)\n",
        "\n",
        "    sag=cv2.resize(imas, (AXI, COR), interpolation = cv2.INTER_AREA)\n",
        "    cor=cv2.resize(imac, (AXI, SAG), interpolation = cv2.INTER_AREA)\n",
        "    axi=cv2.resize(imaa, (COR, SAG), interpolation = cv2.INTER_AREA)\n",
        "\n",
        "    s_train[n]=np.rot90(sag)\n",
        "    c_train[n]=cor\n",
        "    a_train[n]=axi\n",
        "\n",
        "    cont=cont+1\n",
        "    print('\\rProcess ', round(cont*100/loop,2), '%...' , end =\"\")\n",
        "  return s_train, c_train, a_train"
      ],
      "execution_count": 0,
      "outputs": []
    },
    {
      "cell_type": "markdown",
      "metadata": {
        "id": "y5d9VZbzsiF7",
        "colab_type": "text"
      },
      "source": [
        "### Sample images (training)"
      ]
    },
    {
      "cell_type": "code",
      "metadata": {
        "colab_type": "code",
        "id": "0SFXoffwzfhh",
        "colab": {
          "base_uri": "https://localhost:8080/",
          "height": 657
        },
        "outputId": "77b32c10-75b7-47fc-b54b-7268cf99e6ad"
      },
      "source": [
        "SCA_train=TrainingImages(numFolder)\n",
        "\n",
        "signal=np.random.choice(np.where(y_train==1)[0])\n",
        "noise=np.random.choice(np.where(y_train==0)[0])\n",
        "showSlices(SCA_train[0][signal], SCA_train[1][signal], SCA_train[2][signal])\n",
        "showSlices(SCA_train[0][noise], SCA_train[1][noise], SCA_train[2][noise])"
      ],
      "execution_count": 40,
      "outputs": [
        {
          "output_type": "stream",
          "text": [
            "460WhII_MB6/BLU\n",
            "Process  100.0 %..."
          ],
          "name": "stdout"
        },
        {
          "output_type": "display_data",
          "data": {
            "image/png": "[encoded data removed]",
            "text/plain": [
              "<Figure size 1440x360 with 3 Axes>"
            ]
          },
          "metadata": {
            "tags": []
          }
        },
        {
          "output_type": "display_data",
          "data": {
            "image/png": "[encoded data removed]",
            "text/plain": [
              "<Figure size 1440x360 with 3 Axes>"
            ]
          },
          "metadata": {
            "tags": []
          }
        }
      ]
    },
    {
      "cell_type": "markdown",
      "metadata": {
        "id": "dUMPyJjqsubw",
        "colab_type": "text"
      },
      "source": [
        "### Test images"
      ]
    },
    {
      "cell_type": "code",
      "metadata": {
        "id": "ljj5puiLG8Nb",
        "colab_type": "code",
        "colab": {}
      },
      "source": [
        "def testImages(ni): \n",
        "  print(FOLD[ni])\n",
        "  s_test = np.zeros((len(TEST_PATH), AXI, COR, 3), dtype=np.uint8)\n",
        "  c_test = np.zeros((len(TEST_PATH), SAG, AXI, 3), dtype=np.uint8)\n",
        "  a_test = np.zeros((len(TEST_PATH), SAG, COR, 3), dtype=np.uint8)\n",
        "\n",
        "  cont=0\n",
        "  loop=len(TEST_PATH)\n",
        "\n",
        "  for n in range(loop):  \n",
        "    namea=FOLD[ni]+slic[2]+'/'+TEST_PATH[n].strip()+'.png'\n",
        "    namec=FOLD[ni]+slic[1]+'/'+TEST_PATH[n].strip()+'.png'\n",
        "    names=FOLD[ni]+slic[0]+'/'+TEST_PATH[n].strip()+'.png'\n",
        "    \n",
        "    imaa=cv2.imread(namea)\n",
        "    imac=cv2.imread(namec)\n",
        "    imas=cv2.imread(names)\n",
        "\n",
        "    sag=cv2.resize(imas, (AXI, COR), interpolation = cv2.INTER_AREA)\n",
        "    cor=cv2.resize(imac, (AXI, SAG), interpolation = cv2.INTER_AREA)\n",
        "    axi=cv2.resize(imaa, (COR, SAG), interpolation = cv2.INTER_AREA)\n",
        "\n",
        "    s_test[n]=np.rot90(sag)\n",
        "    c_test[n]=cor\n",
        "    a_test[n]=axi\n",
        "\n",
        "    cont=cont+1\n",
        "    print('\\rProcess ', round(cont*100/loop,2), '%...' , end =\"\")\n",
        "  return s_test, c_test, a_test"
      ],
      "execution_count": 0,
      "outputs": []
    },
    {
      "cell_type": "markdown",
      "metadata": {
        "id": "fouDtnUos6rR",
        "colab_type": "text"
      },
      "source": [
        "### sample images (test)"
      ]
    },
    {
      "cell_type": "code",
      "metadata": {
        "id": "FsMx96P2ihW8",
        "colab_type": "code",
        "colab": {
          "base_uri": "https://localhost:8080/",
          "height": 657
        },
        "outputId": "8fe4ad57-e6e4-46bf-8ad9-a60b1e1727c5"
      },
      "source": [
        "SCA_test=testImages(numFolder)\n",
        "\n",
        "signal=np.random.choice(np.where(y_test==1)[0])\n",
        "noise=np.random.choice(np.where(y_test==0)[0])\n",
        "showSlices(SCA_test[0][signal], SCA_test[1][signal], SCA_test[2][signal])\n",
        "showSlices(SCA_test[0][noise], SCA_test[1][noise], SCA_test[2][noise])"
      ],
      "execution_count": 42,
      "outputs": [
        {
          "output_type": "stream",
          "text": [
            "460WhII_MB6/BLU\n",
            "Process  100.0 %..."
          ],
          "name": "stdout"
        },
        {
          "output_type": "display_data",
          "data": {
            "image/png": "[encoded data removed]",
            "text/plain": [
              "<Figure size 1440x360 with 3 Axes>"
            ]
          },
          "metadata": {
            "tags": []
          }
        },
        {
          "output_type": "display_data",
          "data": {
            "image/png": "[encoded data removed]",
            "text/plain": [
              "<Figure size 1440x360 with 3 Axes>"
            ]
          },
          "metadata": {
            "tags": []
          }
        }
      ]
    },
    {
      "cell_type": "code",
      "metadata": {
        "id": "KChmaLF1yz6S",
        "colab_type": "code",
        "colab": {
          "base_uri": "https://localhost:8080/",
          "height": 52
        },
        "outputId": "47588351-d07c-4bad-afa6-3f378e238fde"
      },
      "source": [
        "print(np.shape(SCA_train[0]))\n",
        "print(np.shape(SCA_test[0]))"
      ],
      "execution_count": 43,
      "outputs": [
        {
          "output_type": "stream",
          "text": [
            "(2676, 57, 73, 3)\n",
            "(670, 57, 73, 3)\n"
          ],
          "name": "stdout"
        }
      ]
    },
    {
      "cell_type": "markdown",
      "metadata": {
        "id": "3GpHdk2JUvbE",
        "colab_type": "text"
      },
      "source": [
        "### Model Tree SCA"
      ]
    },
    {
      "cell_type": "code",
      "metadata": {
        "id": "QrME4vdwKo5v",
        "colab_type": "code",
        "colab": {}
      },
      "source": [
        "def get_model_Tree_SCA_1():\n",
        "    tf.reset_default_graph()\n",
        "    tf.keras.backend.clear_session()    \n",
        "    \n",
        "    inputsA = Input(shap['Axial'])\n",
        "    sa = Lambda(lambda x: x / 255) (inputsA)\n",
        "    c1 = Conv2D(16, (3, 3), activation='elu', kernel_initializer='he_normal', padding='same') (sa)\n",
        "    c1 = Dropout(maxR) (c1)\n",
        "    c1 = Conv2D(16, (3, 3), activation='elu', kernel_initializer='he_normal', padding='same') (c1)\n",
        "    c1 = MaxPooling2D((2, 2)) (c1)\n",
        "\n",
        "    inputsC = Input(shap['Coronal'])\n",
        "    sc = Lambda(lambda x: x / 255) (inputsC)\n",
        "    c3 = Conv2D(16, (3, 3), activation='elu', kernel_initializer='he_normal', padding='same') (sc)\n",
        "    c3 = Dropout(maxR) (c3)\n",
        "    c3 = Conv2D(16, (3, 3), activation='elu', kernel_initializer='he_normal', padding='same') (c3)\n",
        "    c3 = MaxPooling2D((2, 2)) (c3) \n",
        "\n",
        "    inputsS = Input(shap['Saggital'])\n",
        "    ss = Lambda(lambda x: x / 255) (inputsS)\n",
        "    c5 = Conv2D(16, (3, 3), activation='elu', kernel_initializer='he_normal', padding='same') (ss)\n",
        "    c5 = Dropout(maxR) (c5)\n",
        "    c5 = Conv2D(16, (3, 3), activation='elu', kernel_initializer='he_normal', padding='same') (c5)\n",
        "    c5 = MaxPooling2D((2, 2)) (c5)\n",
        "\n",
        "    #Flatten layers\n",
        "    f2 = Flatten()(c1)\n",
        "    f4 = Flatten()(c3)\n",
        "    f6 = Flatten()(c5)\n",
        "\n",
        "    c7 = concatenate([f2, f4, f6])     \n",
        "        \n",
        "    c7 = Dense(16, activation='relu')(c7)\n",
        "    c7 = Dropout(maxR)(c7)   \n",
        "\n",
        "    c7 = Dense(8, activation='relu')(c7)\n",
        "    c7 = Dropout(maxR)(c7)  \n",
        "\n",
        "    c7 = Dense(4, activation='relu')(c7)\n",
        "    c7 = Dropout(maxR)(c7)    \n",
        "       \n",
        "    outputs = Dense(nb_classes, activation='softmax')(c7)\n",
        "\n",
        "    model = Model(inputs=[inputsA, inputsC, inputsS], outputs=[outputs])\n",
        "    model.compile(optimizer='adam', loss='sparse_categorical_crossentropy', metrics=['accuracy'])\n",
        "        \n",
        "    return model"
      ],
      "execution_count": 0,
      "outputs": []
    },
    {
      "cell_type": "code",
      "metadata": {
        "id": "wv1-AOPn5hfu",
        "colab_type": "code",
        "colab": {}
      },
      "source": [
        "def get_model_Tree_SCA_2():\n",
        "    tf.reset_default_graph()\n",
        "    tf.keras.backend.clear_session()    \n",
        "    \n",
        "    inputsA = Input(shap['Axial'])\n",
        "    sa = Lambda(lambda x: x / 255) (inputsA)\n",
        "    c1 = Conv2D(32, (3, 3), activation='elu', kernel_initializer='he_normal', padding='same') (sa)\n",
        "    c1 = MaxPooling2D((2, 2)) (c1)    \n",
        "    c1 = Dropout(maxR) (c1)\n",
        "    c2 = Conv2D(64, (3, 3), activation='elu', kernel_initializer='he_normal', padding='same') (c1)\n",
        "    c2 = MaxPooling2D((2, 2)) (c2)    \n",
        "    c2 = Dropout(maxR) (c2)\n",
        "\n",
        "    inputsC = Input(shap['Coronal'])\n",
        "    sc = Lambda(lambda x: x / 255) (inputsC)\n",
        "    c3 = Conv2D(32, (3, 3), activation='elu', kernel_initializer='he_normal', padding='same') (sc)\n",
        "    c3 = MaxPooling2D((2, 2)) (c3)    \n",
        "    c3 = Dropout(maxR) (c3)\n",
        "    c4 = Conv2D(64, (3, 3), activation='elu', kernel_initializer='he_normal', padding='same') (c3)\n",
        "    c4 = MaxPooling2D((2, 2)) (c4)    \n",
        "    c4 = Dropout(maxR) (c4) \n",
        "\n",
        "    inputsS = Input(shap['Saggital'])\n",
        "    ss = Lambda(lambda x: x / 255) (inputsS)\n",
        "    c5 = Conv2D(32, (3, 3), activation='elu', kernel_initializer='he_normal', padding='same') (ss)\n",
        "    c5 = MaxPooling2D((2, 2)) (c5)    \n",
        "    c5 = Dropout(maxR) (c5)\n",
        "    c6 = Conv2D(64, (3, 3), activation='elu', kernel_initializer='he_normal', padding='same') (c5)\n",
        "    c6 = MaxPooling2D((2, 2)) (c6)    \n",
        "    c6 = Dropout(maxR) (c6)\n",
        "\n",
        "    #Flatten layers\n",
        "    f2 = Flatten()(c2)\n",
        "    f4 = Flatten()(c4)\n",
        "    f6 = Flatten()(c6)\n",
        "\n",
        "    c7 = concatenate([f2, f4, f6])     \n",
        "        \n",
        "    c7 = Dense(128, activation='relu')(c7)\n",
        "    c7 = Dropout(maxR)(c7)   \n",
        "\n",
        "    c7 = Dense(32, activation='relu')(c7)\n",
        "    c7 = Dropout(maxR)(c7)      \n",
        "       \n",
        "    outputs = Dense(nb_classes, activation='softmax')(c7)\n",
        "\n",
        "    model = Model(inputs=[inputsA, inputsC, inputsS], outputs=[outputs])\n",
        "    model.compile(optimizer='adam', loss='sparse_categorical_crossentropy', metrics=['accuracy'])\n",
        "        \n",
        "    return model"
      ],
      "execution_count": 0,
      "outputs": []
    },
    {
      "cell_type": "code",
      "metadata": {
        "id": "XdZqLJYl4gRN",
        "colab_type": "code",
        "colab": {}
      },
      "source": [
        "def get_model_Tree_SCA_4():\n",
        "    tf.reset_default_graph()\n",
        "    tf.keras.backend.clear_session()    \n",
        "    \n",
        "    inputsA = Input(shap['Axial'])\n",
        "    sa = Lambda(lambda x: x / 255) (inputsA)\n",
        "    c1 = Conv2D(32, (3, 3), activation='elu', kernel_initializer='he_normal', padding='same') (sa)\n",
        "    c1 = MaxPooling2D((2, 2)) (c1)    \n",
        "    c1 = Dropout(maxR) (c1)\n",
        "    c2 = Conv2D(32, (3, 3), activation='elu', kernel_initializer='he_normal', padding='same') (c1)\n",
        "    c2 = MaxPooling2D((2, 2)) (c2)    \n",
        "    c2 = Dropout(maxR) (c2)\n",
        "    c3 = Conv2D(64, (3, 3), activation='elu', kernel_initializer='he_normal', padding='same') (c2)\n",
        "    c3 = MaxPooling2D((2, 2)) (c3)    \n",
        "    c3 = Dropout(maxR) (c3)\n",
        "    c4 = Conv2D(128, (3, 3), activation='elu', kernel_initializer='he_normal', padding='same') (c3)\n",
        "    c4 = MaxPooling2D((2, 2)) (c4)    \n",
        "    c4 = Dropout(maxR) (c4)\n",
        "\n",
        "    inputsC = Input(shap['Coronal'])\n",
        "    sc = Lambda(lambda x: x / 255) (inputsC)\n",
        "    c5 = Conv2D(32, (3, 3), activation='elu', kernel_initializer='he_normal', padding='same') (sc)\n",
        "    c5 = MaxPooling2D((2, 2)) (c5)    \n",
        "    c5 = Dropout(maxR) (c5)\n",
        "    c6 = Conv2D(32, (3, 3), activation='elu', kernel_initializer='he_normal', padding='same') (c5)\n",
        "    c6 = MaxPooling2D((2, 2)) (c6)    \n",
        "    c6 = Dropout(maxR) (c6)\n",
        "    c7 = Conv2D(64, (3, 3), activation='elu', kernel_initializer='he_normal', padding='same') (c6)\n",
        "    c7 = MaxPooling2D((2, 2)) (c7)    \n",
        "    c7 = Dropout(maxR) (c7)\n",
        "    c8 = Conv2D(128, (3, 3), activation='elu', kernel_initializer='he_normal', padding='same') (c7)\n",
        "    c8 = MaxPooling2D((2, 2)) (c8)    \n",
        "    c8 = Dropout(maxR) (c8) \n",
        "\n",
        "    inputsS = Input(shap['Saggital'])\n",
        "    ss = Lambda(lambda x: x / 255) (inputsS)\n",
        "    c9 = Conv2D(32, (3, 3), activation='elu', kernel_initializer='he_normal', padding='same') (ss)\n",
        "    c9 = MaxPooling2D((2, 2)) (c9)    \n",
        "    c9 = Dropout(maxR) (c9)\n",
        "    c10 = Conv2D(32, (3, 3), activation='elu', kernel_initializer='he_normal', padding='same') (c9)\n",
        "    c10 = MaxPooling2D((2, 2)) (c10)    \n",
        "    c10 = Dropout(maxR) (c10)\n",
        "    c11 = Conv2D(64, (3, 3), activation='elu', kernel_initializer='he_normal', padding='same') (c10)\n",
        "    c11 = MaxPooling2D((2, 2)) (c11)    \n",
        "    c11 = Dropout(maxR) (c11)\n",
        "    c12 = Conv2D(128, (3, 3), activation='elu', kernel_initializer='he_normal', padding='same') (c11)\n",
        "    c12 = MaxPooling2D((2, 2)) (c12)    \n",
        "    c12 = Dropout(maxR) (c12)\n",
        "\n",
        "    #Flatten layers\n",
        "    f2 = Flatten()(c4)\n",
        "    f4 = Flatten()(c8)\n",
        "    f6 = Flatten()(c12)\n",
        "\n",
        "    c13 = concatenate([f2, f4, f6])\n",
        "\n",
        "    c13 = Dense(512, activation='relu')(c13)\n",
        "    c13 = Dropout(maxR)(c13)    \n",
        "        \n",
        "    c13 = Dense(128, activation='relu')(c13)\n",
        "    c13 = Dropout(maxR)(c13)   \n",
        "\n",
        "    c13 = Dense(32, activation='relu')(c13)\n",
        "    c13 = Dropout(maxR)(c13)    \n",
        "       \n",
        "    outputs = Dense(nb_classes, activation='softmax')(c13)\n",
        "\n",
        "    model = Model(inputs=[inputsA, inputsC, inputsS], outputs=[outputs])\n",
        "    model.compile(optimizer='adam', loss='sparse_categorical_crossentropy', metrics=['accuracy'])\n",
        "        \n",
        "    return model"
      ],
      "execution_count": 0,
      "outputs": []
    },
    {
      "cell_type": "code",
      "metadata": {
        "id": "43ZSHaSA5ey6",
        "colab_type": "code",
        "colab": {}
      },
      "source": [
        "def get_model_Tree_LeNet():\n",
        "    tf.reset_default_graph()\n",
        "    tf.keras.backend.clear_session()    \n",
        "    \n",
        "    inputsA = Input(shap['Axial'])\n",
        "    sa = Lambda(lambda x: x / 255) (inputsA)\n",
        "    c1 = Conv2D(20, (5, 5), activation='relu', kernel_initializer='he_normal', padding='same') (sa)\n",
        "    c1 = MaxPooling2D((2, 2)) (c1)\n",
        "    c1 = Dropout(maxR)(c1)\n",
        "    c2 = Conv2D(50, (5, 5), activation='relu', kernel_initializer='he_normal', padding='same') (c1)\n",
        "    c2 = MaxPooling2D((2, 2)) (c2)\n",
        "    c2 = Dropout(maxR)(c2)\n",
        "\n",
        "    inputsC = Input(shap['Coronal'])\n",
        "    sc = Lambda(lambda x: x / 255) (inputsC)\n",
        "    c3 = Conv2D(20, (5, 5), activation='relu', kernel_initializer='he_normal', padding='same') (sc)\n",
        "    c3 = MaxPooling2D((2, 2)) (c3)\n",
        "    c3 = Dropout(maxR)(c3)\n",
        "    c4 = Conv2D(50, (5, 5), activation='relu', kernel_initializer='he_normal', padding='same') (c3)\n",
        "    c4 = MaxPooling2D((2, 2)) (c4)\n",
        "    c4 = Dropout(maxR)(c4) \n",
        "\n",
        "    inputsS = Input(shap['Saggital'])\n",
        "    ss = Lambda(lambda x: x / 255) (inputsS)\n",
        "    c5 = Conv2D(20, (5, 5), activation='relu', kernel_initializer='he_normal', padding='same') (ss)\n",
        "    c5 = MaxPooling2D((2, 2)) (c5)\n",
        "    c5 = Dropout(maxR)(c5)\n",
        "    c6 = Conv2D(50, (5, 5), activation='relu', kernel_initializer='he_normal', padding='same') (c5)\n",
        "    c6 = MaxPooling2D((2, 2)) (c6)\n",
        "    c6 = Dropout(maxR)(c6)\n",
        "\n",
        "    #Flatten layers\n",
        "    f2 = Flatten()(c2)\n",
        "    f4 = Flatten()(c4)\n",
        "    f6 = Flatten()(c6)\n",
        "\n",
        "    c13 = concatenate([f2, f4, f6])\n",
        "\n",
        "    c13 = Dense(500, activation='relu')(c13)\n",
        "    c13 = Dropout(maxR)(c13)       \n",
        "\n",
        "    c13 = Dense(32, activation='relu')(c13)\n",
        "    c13 = Dropout(maxR)(c13)    \n",
        "       \n",
        "    outputs = Dense(nb_classes, activation='softmax')(c13)\n",
        "\n",
        "    model = Model(inputs=[inputsA, inputsC, inputsS], outputs=[outputs])\n",
        "    model.compile(optimizer='adam', loss='sparse_categorical_crossentropy', metrics=['accuracy'])\n",
        "        \n",
        "    return model"
      ],
      "execution_count": 0,
      "outputs": []
    },
    {
      "cell_type": "code",
      "metadata": {
        "id": "kTxYu1vpDxhC",
        "colab_type": "code",
        "colab": {}
      },
      "source": [
        "from IPython.display import clear_output"
      ],
      "execution_count": 0,
      "outputs": []
    },
    {
      "cell_type": "markdown",
      "metadata": {
        "id": "u2puku5qlhqk",
        "colab_type": "text"
      },
      "source": [
        "# Training"
      ]
    },
    {
      "cell_type": "code",
      "metadata": {
        "id": "oCygHU3kaudG",
        "colab_type": "code",
        "colab": {
          "base_uri": "https://localhost:8080/",
          "height": 1000
        },
        "outputId": "d8d3a08d-3aff-4063-b7d3-2532c99edb89"
      },
      "source": [
        "DIR=DIR0+'MODELS/'\n",
        "DIRM=DIR0+'MAT/'\n",
        "DIRT=DIR0+'TEST/'\n",
        "cr=len(GROUPS[grp][:-3])\n",
        "\n",
        "for k in range(4):\n",
        "  for i in range(8):\n",
        "    SCA_train=TrainingImages(i)\n",
        "    SCA_test=testImages(i) \n",
        "\n",
        "    ext=FOLD[i][cr:]+'-SCA-'+str(k)+'.h5'\n",
        "\n",
        "    name=DIR+'TREE1-'+ext\n",
        "    print(name)\n",
        "    model0= get_model_Tree_SCA_1()\n",
        "    earlystopper = EarlyStopping(patience=5, verbose=0)\n",
        "    checkpointer = ModelCheckpoint(name, verbose=0, save_best_only=True)\n",
        "    result = model0.fit([SCA_train[2], SCA_train[1], SCA_train[0]], y_train, validation_split=0.1, batch_size=16, epochs=50, callbacks=[earlystopper, checkpointer])\n",
        "    sio.savemat(DIRM+name[46:-3]+'.mat', {'acc': result.history['acc'], 'val_acc': result.history['val_acc'],  'loss': result.history['loss'],  'val_loss': result.history['val_loss']})\n",
        "    test_preds = model0.predict([SCA_test[2], SCA_test[1], SCA_test[0]])\n",
        "    test_pre=test_preds.argmax(axis=1)\n",
        "    Accuracy = np.mean(test_pre == y_test)\n",
        "    sio.savemat(DIRT+name[46:-3]+'.mat', {'Accuracy test': Accuracy,'vec_pred': test_preds})      \n",
        "    del model0\n",
        "\n",
        "    name=DIR+'TREE2-'+ext\n",
        "    print(name)\n",
        "    model0= get_model_Tree_SCA_2()\n",
        "    earlystopper = EarlyStopping(patience=5, verbose=0)\n",
        "    checkpointer = ModelCheckpoint(name, verbose=0, save_best_only=True)\n",
        "    result = model0.fit([SCA_train[2], SCA_train[1], SCA_train[0]], y_train, validation_split=0.1, batch_size=16, epochs=50, callbacks=[earlystopper, checkpointer])\n",
        "    sio.savemat(DIRM+name[46:-3]+'.mat', {'acc': result.history['acc'], 'val_acc': result.history['val_acc'],  'loss': result.history['loss'],  'val_loss': result.history['val_loss']})\n",
        "    test_preds = model0.predict([SCA_test[2], SCA_test[1], SCA_test[0]])\n",
        "    test_pre=test_preds.argmax(axis=1)\n",
        "    Accuracy = np.mean(test_pre == y_test)\n",
        "    sio.savemat(DIRT+name[46:-3]+'.mat', {'Accuracy test': Accuracy,'vec_pred': test_preds})\n",
        "    del model0\n",
        "\n",
        "    name=DIR+'TREE4-'+ext\n",
        "    print(name)\n",
        "    model0= get_model_Tree_SCA_4()\n",
        "    earlystopper = EarlyStopping(patience=5, verbose=0)\n",
        "    checkpointer = ModelCheckpoint(name, verbose=0, save_best_only=True)\n",
        "    result = model0.fit([SCA_train[2], SCA_train[1], SCA_train[0]], y_train, validation_split=0.1, batch_size=16, epochs=50, callbacks=[earlystopper, checkpointer])\n",
        "    sio.savemat(DIRM+name[46:-3]+'.mat', {'acc': result.history['acc'], 'val_acc': result.history['val_acc'],  'loss': result.history['loss'],  'val_loss': result.history['val_loss']})\n",
        "    test_preds = model0.predict([SCA_test[2], SCA_test[1], SCA_test[0]])\n",
        "    test_pre=test_preds.argmax(axis=1)\n",
        "    Accuracy = np.mean(test_pre == y_test)\n",
        "    sio.savemat(DIRT+name[46:-3]+'.mat', {'Accuracy test': Accuracy,'vec_pred': test_preds})\n",
        "    del model0\n",
        "\n",
        "    name=DIR+'TRLENET-'+ext\n",
        "    print(name)\n",
        "    model0= get_model_Tree_LeNet()\n",
        "    earlystopper = EarlyStopping(patience=5, verbose=0)\n",
        "    checkpointer = ModelCheckpoint(name, verbose=0, save_best_only=True)\n",
        "    result = model0.fit([SCA_train[2], SCA_train[1], SCA_train[0]], y_train, validation_split=0.1, batch_size=16, epochs=50, callbacks=[earlystopper, checkpointer])\n",
        "    sio.savemat(DIRM+name[46:-3]+'.mat', {'acc': result.history['acc'], 'val_acc': result.history['val_acc'],  'loss': result.history['loss'],  'val_loss': result.history['val_loss']})\n",
        "    test_preds = model0.predict([SCA_test[2], SCA_test[1], SCA_test[0]])\n",
        "    test_pre=test_preds.argmax(axis=1)\n",
        "    Accuracy = np.mean(test_pre == y_test)\n",
        "    sio.savemat(DIRT+name[46:-3]+'.mat', {'Accuracy test': Accuracy,'vec_pred': test_preds})\n",
        "    del model0"
      ],
      "execution_count": 0,
      "outputs": [
        {
          "output_type": "stream",
          "text": [
            "460WhII_MB6/AXI\n",
            "Process  100.0 %...460WhII_MB6/AXI\n",
            "Process  100.0 %...drive/My Drive/AnexosCNN2/ResultadTX5/MODELS/TREE1-AXI-SCA-0.h5\n",
            "Train on 2408 samples, validate on 268 samples\n",
            "Epoch 1/50\n",
            "2408/2408 [==============================] - 47s 20ms/sample - loss: 0.6224 - acc: 0.8991 - val_loss: 2.5734 - val_acc: 0.8619\n",
            "Epoch 2/50\n",
            "2408/2408 [==============================] - 46s 19ms/sample - loss: 0.4632 - acc: 0.8991 - val_loss: 0.4614 - val_acc: 0.8619\n",
            "Epoch 3/50\n",
            "2408/2408 [==============================] - 46s 19ms/sample - loss: 0.3889 - acc: 0.8991 - val_loss: 0.4044 - val_acc: 0.8619\n",
            "Epoch 4/50\n",
            "2408/2408 [==============================] - 46s 19ms/sample - loss: 0.3564 - acc: 0.8991 - val_loss: 0.4016 - val_acc: 0.8619\n",
            "Epoch 5/50\n",
            "2408/2408 [==============================] - 45s 19ms/sample - loss: 0.3534 - acc: 0.8991 - val_loss: 0.4028 - val_acc: 0.8619\n",
            "Epoch 6/50\n",
            "2408/2408 [==============================] - 45s 19ms/sample - loss: 0.3449 - acc: 0.8991 - val_loss: 0.4033 - val_acc: 0.8619\n",
            "Epoch 7/50\n",
            "2408/2408 [==============================] - 46s 19ms/sample - loss: 0.3476 - acc: 0.8991 - val_loss: 0.4040 - val_acc: 0.8619\n",
            "Epoch 8/50\n",
            "2408/2408 [==============================] - 45s 19ms/sample - loss: 0.3420 - acc: 0.8991 - val_loss: 0.4043 - val_acc: 0.8619\n",
            "Epoch 9/50\n",
            "2408/2408 [==============================] - 45s 19ms/sample - loss: 0.3399 - acc: 0.8991 - val_loss: 0.4045 - val_acc: 0.8619\n",
            "drive/My Drive/AnexosCNN2/ResultadTX5/MODELS/TREE2-AXI-SCA-0.h5\n",
            "Train on 2408 samples, validate on 268 samples\n",
            "Epoch 1/50\n",
            "2408/2408 [==============================] - 56s 23ms/sample - loss: 0.5750 - acc: 0.8613 - val_loss: 1.3339 - val_acc: 0.8619\n",
            "Epoch 2/50\n",
            "2408/2408 [==============================] - 54s 23ms/sample - loss: 0.3296 - acc: 0.8949 - val_loss: 0.6067 - val_acc: 0.8619\n",
            "Epoch 3/50\n",
            "2408/2408 [==============================] - 55s 23ms/sample - loss: 0.2708 - acc: 0.9016 - val_loss: 0.3314 - val_acc: 0.8657\n",
            "Epoch 4/50\n",
            "2408/2408 [==============================] - 54s 22ms/sample - loss: 0.2266 - acc: 0.9053 - val_loss: 0.4371 - val_acc: 0.8619\n",
            "Epoch 5/50\n",
            "2408/2408 [==============================] - 54s 23ms/sample - loss: 0.1747 - acc: 0.9286 - val_loss: 0.2690 - val_acc: 0.8843\n",
            "Epoch 6/50\n",
            "2408/2408 [==============================] - 54s 23ms/sample - loss: 0.1266 - acc: 0.9522 - val_loss: 0.2157 - val_acc: 0.9179\n",
            "Epoch 7/50\n",
            "2408/2408 [==============================] - 54s 23ms/sample - loss: 0.0888 - acc: 0.9672 - val_loss: 0.1797 - val_acc: 0.9403\n",
            "Epoch 8/50\n",
            "2408/2408 [==============================] - 55s 23ms/sample - loss: 0.0774 - acc: 0.9713 - val_loss: 0.1617 - val_acc: 0.9515\n",
            "Epoch 9/50\n",
            "2408/2408 [==============================] - 55s 23ms/sample - loss: 0.0839 - acc: 0.9743 - val_loss: 0.1733 - val_acc: 0.9552\n",
            "Epoch 10/50\n",
            "2408/2408 [==============================] - 54s 22ms/sample - loss: 0.0474 - acc: 0.9855 - val_loss: 0.2783 - val_acc: 0.9440\n",
            "Epoch 11/50\n",
            "2408/2408 [==============================] - 54s 22ms/sample - loss: 0.0570 - acc: 0.9801 - val_loss: 0.2834 - val_acc: 0.9440\n",
            "Epoch 12/50\n",
            "2408/2408 [==============================] - 54s 22ms/sample - loss: 0.0331 - acc: 0.9888 - val_loss: 0.2682 - val_acc: 0.9590\n",
            "Epoch 13/50\n",
            "2408/2408 [==============================] - 54s 22ms/sample - loss: 0.0358 - acc: 0.9871 - val_loss: 0.3526 - val_acc: 0.9328\n",
            "drive/My Drive/AnexosCNN2/ResultadTX5/MODELS/TREE4-AXI-SCA-0.h5\n",
            "Train on 2408 samples, validate on 268 samples\n",
            "Epoch 1/50\n",
            "2408/2408 [==============================] - 55s 23ms/sample - loss: 0.5427 - acc: 0.8708 - val_loss: 0.4205 - val_acc: 0.8619\n",
            "Epoch 2/50\n",
            "2408/2408 [==============================] - 53s 22ms/sample - loss: 0.3918 - acc: 0.8978 - val_loss: 0.4195 - val_acc: 0.8619\n",
            "Epoch 3/50\n",
            "2408/2408 [==============================] - 53s 22ms/sample - loss: 0.3597 - acc: 0.8995 - val_loss: 0.3913 - val_acc: 0.8619\n",
            "Epoch 4/50\n",
            "2408/2408 [==============================] - 53s 22ms/sample - loss: 0.3336 - acc: 0.8962 - val_loss: 0.3431 - val_acc: 0.8619\n",
            "Epoch 5/50\n",
            "2408/2408 [==============================] - 54s 22ms/sample - loss: 0.2692 - acc: 0.9041 - val_loss: 0.3110 - val_acc: 0.8619\n",
            "Epoch 6/50\n",
            "2408/2408 [==============================] - 53s 22ms/sample - loss: 0.2381 - acc: 0.9132 - val_loss: 0.2513 - val_acc: 0.9179\n",
            "Epoch 7/50\n",
            "2408/2408 [==============================] - 53s 22ms/sample - loss: 0.2195 - acc: 0.9261 - val_loss: 0.2339 - val_acc: 0.9291\n",
            "Epoch 8/50\n",
            "2408/2408 [==============================] - 53s 22ms/sample - loss: 0.2046 - acc: 0.9356 - val_loss: 0.1878 - val_acc: 0.9366\n",
            "Epoch 9/50\n",
            "2408/2408 [==============================] - 52s 22ms/sample - loss: 0.1646 - acc: 0.9423 - val_loss: 0.3152 - val_acc: 0.8806\n",
            "Epoch 10/50\n",
            "2408/2408 [==============================] - 53s 22ms/sample - loss: 0.1598 - acc: 0.9406 - val_loss: 0.1748 - val_acc: 0.9328\n",
            "Epoch 11/50\n",
            "2408/2408 [==============================] - 52s 22ms/sample - loss: 0.1505 - acc: 0.9444 - val_loss: 0.1923 - val_acc: 0.9216\n",
            "Epoch 12/50\n",
            "2408/2408 [==============================] - 53s 22ms/sample - loss: 0.1477 - acc: 0.9527 - val_loss: 0.1456 - val_acc: 0.9366\n",
            "Epoch 13/50\n",
            "2408/2408 [==============================] - 52s 22ms/sample - loss: 0.1438 - acc: 0.9531 - val_loss: 0.1928 - val_acc: 0.9142\n",
            "Epoch 14/50\n",
            "2408/2408 [==============================] - 52s 22ms/sample - loss: 0.1270 - acc: 0.9560 - val_loss: 0.1488 - val_acc: 0.9366\n",
            "Epoch 15/50\n",
            "2408/2408 [==============================] - 52s 22ms/sample - loss: 0.1112 - acc: 0.9647 - val_loss: 0.2407 - val_acc: 0.9216\n",
            "Epoch 16/50\n",
            "2408/2408 [==============================] - 52s 22ms/sample - loss: 0.1425 - acc: 0.9560 - val_loss: 0.2423 - val_acc: 0.9104\n",
            "Epoch 17/50\n",
            "2408/2408 [==============================] - 52s 22ms/sample - loss: 0.1456 - acc: 0.9498 - val_loss: 0.1173 - val_acc: 0.9478\n",
            "Epoch 18/50\n",
            "2408/2408 [==============================] - 52s 21ms/sample - loss: 0.0988 - acc: 0.9585 - val_loss: 0.1537 - val_acc: 0.9403\n",
            "Epoch 19/50\n",
            "2408/2408 [==============================] - 52s 22ms/sample - loss: 0.1087 - acc: 0.9651 - val_loss: 0.1383 - val_acc: 0.9328\n",
            "Epoch 20/50\n",
            "2408/2408 [==============================] - 52s 22ms/sample - loss: 0.1021 - acc: 0.9684 - val_loss: 0.1240 - val_acc: 0.9478\n",
            "Epoch 21/50\n",
            "2408/2408 [==============================] - 53s 22ms/sample - loss: 0.1039 - acc: 0.9697 - val_loss: 0.1157 - val_acc: 0.9478\n",
            "Epoch 22/50\n",
            "2408/2408 [==============================] - 53s 22ms/sample - loss: 0.0907 - acc: 0.9684 - val_loss: 0.0997 - val_acc: 0.9552\n",
            "Epoch 23/50\n",
            "2408/2408 [==============================] - 52s 22ms/sample - loss: 0.0833 - acc: 0.9751 - val_loss: 0.1087 - val_acc: 0.9515\n",
            "Epoch 24/50\n",
            "2408/2408 [==============================] - 52s 22ms/sample - loss: 0.1026 - acc: 0.9672 - val_loss: 0.0851 - val_acc: 0.9552\n",
            "Epoch 25/50\n",
            "2408/2408 [==============================] - 52s 22ms/sample - loss: 0.0657 - acc: 0.9788 - val_loss: 0.1834 - val_acc: 0.9403\n",
            "Epoch 26/50\n",
            "2408/2408 [==============================] - 53s 22ms/sample - loss: 0.0722 - acc: 0.9755 - val_loss: 0.0839 - val_acc: 0.9627\n",
            "Epoch 27/50\n",
            "2408/2408 [==============================] - 52s 22ms/sample - loss: 0.0673 - acc: 0.9805 - val_loss: 0.1488 - val_acc: 0.9552\n",
            "Epoch 28/50\n",
            "2408/2408 [==============================] - 52s 22ms/sample - loss: 0.0597 - acc: 0.9809 - val_loss: 0.2095 - val_acc: 0.9254\n",
            "Epoch 29/50\n",
            "2408/2408 [==============================] - 52s 22ms/sample - loss: 0.0739 - acc: 0.9788 - val_loss: 0.1189 - val_acc: 0.9478\n",
            "Epoch 30/50\n",
            "2408/2408 [==============================] - 52s 22ms/sample - loss: 0.0734 - acc: 0.9813 - val_loss: 0.1414 - val_acc: 0.9627\n",
            "Epoch 31/50\n",
            "2408/2408 [==============================] - 52s 21ms/sample - loss: 0.0611 - acc: 0.9817 - val_loss: 0.1270 - val_acc: 0.9590\n",
            "drive/My Drive/AnexosCNN2/ResultadTX5/MODELS/TRLENET-AXI-SCA-0.h5\n",
            "Train on 2408 samples, validate on 268 samples\n",
            "Epoch 1/50\n",
            "2408/2408 [==============================] - 93s 38ms/sample - loss: 0.5355 - acc: 0.8883 - val_loss: 0.4659 - val_acc: 0.8619\n",
            "Epoch 2/50\n",
            "2408/2408 [==============================] - 85s 35ms/sample - loss: 0.3402 - acc: 0.8991 - val_loss: 0.3727 - val_acc: 0.8619\n",
            "Epoch 3/50\n",
            "2408/2408 [==============================] - 85s 35ms/sample - loss: 0.2513 - acc: 0.9012 - val_loss: 0.3277 - val_acc: 0.8619\n",
            "Epoch 4/50\n",
            "2408/2408 [==============================] - 86s 36ms/sample - loss: 0.2138 - acc: 0.9165 - val_loss: 0.2307 - val_acc: 0.9104\n",
            "Epoch 5/50\n",
            "2408/2408 [==============================] - 85s 35ms/sample - loss: 0.1827 - acc: 0.9261 - val_loss: 0.2129 - val_acc: 0.9254\n",
            "Epoch 6/50\n",
            "2408/2408 [==============================] - 85s 35ms/sample - loss: 0.1452 - acc: 0.9477 - val_loss: 0.2062 - val_acc: 0.9142\n",
            "Epoch 7/50\n",
            "2408/2408 [==============================] - 84s 35ms/sample - loss: 0.1179 - acc: 0.9597 - val_loss: 0.1851 - val_acc: 0.9403\n",
            "Epoch 8/50\n",
            "2408/2408 [==============================] - 85s 35ms/sample - loss: 0.1051 - acc: 0.9701 - val_loss: 0.1825 - val_acc: 0.9328\n",
            "Epoch 9/50\n",
            "2408/2408 [==============================] - 85s 35ms/sample - loss: 0.0862 - acc: 0.9730 - val_loss: 0.1709 - val_acc: 0.9478\n",
            "Epoch 10/50\n",
            "2408/2408 [==============================] - 85s 35ms/sample - loss: 0.0910 - acc: 0.9755 - val_loss: 0.1497 - val_acc: 0.9552\n",
            "Epoch 11/50\n",
            "2408/2408 [==============================] - 84s 35ms/sample - loss: 0.0761 - acc: 0.9751 - val_loss: 0.1607 - val_acc: 0.9515\n",
            "Epoch 12/50\n",
            "2408/2408 [==============================] - 82s 34ms/sample - loss: 0.0538 - acc: 0.9830 - val_loss: 0.1773 - val_acc: 0.9515\n",
            "Epoch 13/50\n",
            "2408/2408 [==============================] - 82s 34ms/sample - loss: 0.0500 - acc: 0.9842 - val_loss: 0.1568 - val_acc: 0.9627\n",
            "Epoch 14/50\n",
            "2408/2408 [==============================] - 82s 34ms/sample - loss: 0.0479 - acc: 0.9830 - val_loss: 0.2102 - val_acc: 0.9478\n",
            "Epoch 15/50\n",
            "2408/2408 [==============================] - 82s 34ms/sample - loss: 0.0429 - acc: 0.9838 - val_loss: 0.2172 - val_acc: 0.9552\n",
            "460WhII_MB6/BLU\n",
            "Process  100.0 %...460WhII_MB6/BLU\n",
            "Process  100.0 %...drive/My Drive/AnexosCNN2/ResultadTX5/MODELS/TREE1-BLU-SCA-0.h5\n",
            "Train on 2408 samples, validate on 268 samples\n",
            "Epoch 1/50\n",
            "2408/2408 [==============================] - 48s 20ms/sample - loss: 0.5755 - acc: 0.8476 - val_loss: 0.5684 - val_acc: 0.8060\n",
            "Epoch 2/50\n",
            "2408/2408 [==============================] - 47s 19ms/sample - loss: 0.4266 - acc: 0.8916 - val_loss: 0.4962 - val_acc: 0.8097\n",
            "Epoch 3/50\n",
            "2408/2408 [==============================] - 46s 19ms/sample - loss: 0.3811 - acc: 0.8987 - val_loss: 0.3388 - val_acc: 0.8582\n",
            "Epoch 4/50\n",
            "2408/2408 [==============================] - 46s 19ms/sample - loss: 0.3452 - acc: 0.9007 - val_loss: 0.3738 - val_acc: 0.8582\n",
            "Epoch 5/50\n",
            "2408/2408 [==============================] - 46s 19ms/sample - loss: 0.3175 - acc: 0.9070 - val_loss: 0.2903 - val_acc: 0.9104\n",
            "Epoch 6/50\n",
            "2408/2408 [==============================] - 48s 20ms/sample - loss: 0.2956 - acc: 0.9161 - val_loss: 0.2721 - val_acc: 0.9067\n",
            "Epoch 7/50\n",
            "2408/2408 [==============================] - 46s 19ms/sample - loss: 0.2808 - acc: 0.9153 - val_loss: 0.2680 - val_acc: 0.8918\n",
            "Epoch 8/50\n",
            "2408/2408 [==============================] - 46s 19ms/sample - loss: 0.2785 - acc: 0.9145 - val_loss: 0.2561 - val_acc: 0.9067\n",
            "Epoch 9/50\n",
            "2408/2408 [==============================] - 46s 19ms/sample - loss: 0.2597 - acc: 0.9190 - val_loss: 0.2405 - val_acc: 0.9030\n",
            "Epoch 10/50\n",
            "2408/2408 [==============================] - 46s 19ms/sample - loss: 0.2614 - acc: 0.9136 - val_loss: 0.2384 - val_acc: 0.9030\n",
            "Epoch 11/50\n",
            "2408/2408 [==============================] - 45s 19ms/sample - loss: 0.2556 - acc: 0.9199 - val_loss: 0.2589 - val_acc: 0.9030\n",
            "Epoch 12/50\n",
            "2408/2408 [==============================] - 45s 19ms/sample - loss: 0.2641 - acc: 0.9157 - val_loss: 0.2583 - val_acc: 0.8955\n",
            "Epoch 13/50\n",
            "2408/2408 [==============================] - 46s 19ms/sample - loss: 0.2403 - acc: 0.9207 - val_loss: 0.2425 - val_acc: 0.8993\n",
            "Epoch 14/50\n",
            "2408/2408 [==============================] - 45s 19ms/sample - loss: 0.2410 - acc: 0.9182 - val_loss: 0.2471 - val_acc: 0.8843\n",
            "Epoch 15/50\n",
            "2408/2408 [==============================] - 49s 20ms/sample - loss: 0.2368 - acc: 0.9211 - val_loss: 0.2242 - val_acc: 0.9067\n",
            "Epoch 16/50\n",
            "2408/2408 [==============================] - 46s 19ms/sample - loss: 0.2326 - acc: 0.9186 - val_loss: 0.2231 - val_acc: 0.9067\n",
            "Epoch 17/50\n",
            "2408/2408 [==============================] - 46s 19ms/sample - loss: 0.2250 - acc: 0.9207 - val_loss: 0.2270 - val_acc: 0.9030\n",
            "Epoch 18/50\n",
            "2408/2408 [==============================] - 47s 20ms/sample - loss: 0.2110 - acc: 0.9219 - val_loss: 0.2036 - val_acc: 0.9104\n",
            "Epoch 19/50\n",
            "2408/2408 [==============================] - 46s 19ms/sample - loss: 0.2021 - acc: 0.9286 - val_loss: 0.1944 - val_acc: 0.9179\n",
            "Epoch 20/50\n",
            "2408/2408 [==============================] - 46s 19ms/sample - loss: 0.2088 - acc: 0.9265 - val_loss: 0.1950 - val_acc: 0.9179\n",
            "Epoch 21/50\n",
            "2408/2408 [==============================] - 46s 19ms/sample - loss: 0.2112 - acc: 0.9315 - val_loss: 0.2414 - val_acc: 0.9067\n",
            "Epoch 22/50\n",
            "2408/2408 [==============================] - 46s 19ms/sample - loss: 0.2131 - acc: 0.9236 - val_loss: 0.2115 - val_acc: 0.9142\n",
            "Epoch 23/50\n",
            "2408/2408 [==============================] - 46s 19ms/sample - loss: 0.2054 - acc: 0.9257 - val_loss: 0.2063 - val_acc: 0.9142\n",
            "Epoch 24/50\n",
            "2408/2408 [==============================] - 46s 19ms/sample - loss: 0.2054 - acc: 0.9294 - val_loss: 0.2342 - val_acc: 0.9030\n",
            "drive/My Drive/AnexosCNN2/ResultadTX5/MODELS/TREE2-BLU-SCA-0.h5\n",
            "Train on 2408 samples, validate on 268 samples\n",
            "Epoch 1/50\n",
            "2408/2408 [==============================] - 56s 23ms/sample - loss: 0.4094 - acc: 0.8908 - val_loss: 0.3958 - val_acc: 0.8769\n",
            "Epoch 2/50\n",
            "2408/2408 [==============================] - 54s 22ms/sample - loss: 0.2127 - acc: 0.9306 - val_loss: 0.3678 - val_acc: 0.9067\n",
            "Epoch 3/50\n",
            "2408/2408 [==============================] - 53s 22ms/sample - loss: 0.1642 - acc: 0.9510 - val_loss: 0.3866 - val_acc: 0.8806\n",
            "Epoch 4/50\n",
            "2408/2408 [==============================] - 54s 22ms/sample - loss: 0.1075 - acc: 0.9672 - val_loss: 0.1586 - val_acc: 0.9328\n",
            "Epoch 5/50\n",
            "2408/2408 [==============================] - 54s 22ms/sample - loss: 0.1111 - acc: 0.9664 - val_loss: 0.1243 - val_acc: 0.9552\n",
            "Epoch 6/50\n",
            "2408/2408 [==============================] - 53s 22ms/sample - loss: 0.0795 - acc: 0.9759 - val_loss: 0.1577 - val_acc: 0.9478\n",
            "Epoch 7/50\n",
            "2408/2408 [==============================] - 54s 22ms/sample - loss: 0.0602 - acc: 0.9830 - val_loss: 0.1006 - val_acc: 0.9739\n",
            "Epoch 8/50\n",
            "2408/2408 [==============================] - 54s 22ms/sample - loss: 0.0815 - acc: 0.9747 - val_loss: 0.2608 - val_acc: 0.9328\n",
            "Epoch 9/50\n",
            "2408/2408 [==============================] - 54s 22ms/sample - loss: 0.0753 - acc: 0.9747 - val_loss: 0.1839 - val_acc: 0.9478\n",
            "Epoch 10/50\n",
            "2408/2408 [==============================] - 54s 22ms/sample - loss: 0.0476 - acc: 0.9888 - val_loss: 0.1587 - val_acc: 0.9552\n",
            "Epoch 11/50\n",
            "2408/2408 [==============================] - 53s 22ms/sample - loss: 0.0501 - acc: 0.9842 - val_loss: 0.1538 - val_acc: 0.9590\n",
            "Epoch 12/50\n",
            "2408/2408 [==============================] - 54s 22ms/sample - loss: 0.0365 - acc: 0.9904 - val_loss: 0.2496 - val_acc: 0.9478\n",
            "drive/My Drive/AnexosCNN2/ResultadTX5/MODELS/TREE4-BLU-SCA-0.h5\n",
            "Train on 2408 samples, validate on 268 samples\n",
            "Epoch 1/50\n",
            "2408/2408 [==============================] - 55s 23ms/sample - loss: 0.5122 - acc: 0.8654 - val_loss: 0.4117 - val_acc: 0.8619\n",
            "Epoch 2/50\n",
            "2408/2408 [==============================] - 52s 22ms/sample - loss: 0.3171 - acc: 0.8879 - val_loss: 0.3416 - val_acc: 0.8619\n",
            "Epoch 3/50\n",
            "2408/2408 [==============================] - 55s 23ms/sample - loss: 0.2577 - acc: 0.8995 - val_loss: 0.2546 - val_acc: 0.8769\n",
            "Epoch 4/50\n",
            "2408/2408 [==============================] - 51s 21ms/sample - loss: 0.2228 - acc: 0.9244 - val_loss: 0.2960 - val_acc: 0.8955\n",
            "Epoch 5/50\n",
            " 256/2408 [==>...........................] - ETA: 44s - loss: 0.2368 - acc: 0.9258"
          ],
          "name": "stdout"
        }
      ]
    }
  ]
}